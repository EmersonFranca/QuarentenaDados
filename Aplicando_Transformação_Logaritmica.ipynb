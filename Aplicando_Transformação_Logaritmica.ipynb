{
  "nbformat": 4,
  "nbformat_minor": 0,
  "metadata": {
    "colab": {
      "name": "Aplicando Transformação Logaritmica.ipynb",
      "provenance": [],
      "authorship_tag": "ABX9TyPw3c6X7scuKJwpkUPfUq6N",
      "include_colab_link": true
    },
    "kernelspec": {
      "name": "python3",
      "display_name": "Python 3"
    }
  },
  "cells": [
    {
      "cell_type": "markdown",
      "metadata": {
        "id": "view-in-github",
        "colab_type": "text"
      },
      "source": [
        "<a href=\"https://colab.research.google.com/github/EmersonFranca/QuarentenaDados/blob/master/Aplicando_Transforma%C3%A7%C3%A3o_Logaritmica.ipynb\" target=\"_parent\"><img src=\"https://colab.research.google.com/assets/colab-badge.svg\" alt=\"Open In Colab\"/></a>"
      ]
    },
    {
      "cell_type": "markdown",
      "metadata": {
        "id": "K6GlLdzBPjxv",
        "colab_type": "text"
      },
      "source": [
        "# 1. Importando bibliotecas"
      ]
    },
    {
      "cell_type": "code",
      "metadata": {
        "id": "WxFVEjuJPeNu",
        "colab_type": "code",
        "colab": {}
      },
      "source": [
        "import pandas as pd\n",
        "import numpy as np\n",
        "from google.colab import files"
      ],
      "execution_count": 0,
      "outputs": []
    },
    {
      "cell_type": "markdown",
      "metadata": {
        "id": "HiGv-Q4IPoBP",
        "colab_type": "text"
      },
      "source": [
        "# 2. Importando dados"
      ]
    },
    {
      "cell_type": "code",
      "metadata": {
        "id": "-C__8yhfmMY_",
        "colab_type": "code",
        "colab": {}
      },
      "source": [
        "URI_TESTE =\"https://raw.githubusercontent.com/EmersonFranca/QuarentenaDados/master/Dados/dados_teste.csv\"\n",
        "URI_TESTE_FALTOU_DIA_1 =\"https://raw.githubusercontent.com/EmersonFranca/QuarentenaDados/master/Dados/dados_teste_4_3_faltou_dia_1.csv\"\n",
        "URI_TESTE_FALTOU_DIA_1_E_2 =\"https://raw.githubusercontent.com/EmersonFranca/QuarentenaDados/master/Dados/dados_teste_faltou_dia_1_e_2.csv\"\n",
        "URI_TREINO =\"https://raw.githubusercontent.com/EmersonFranca/QuarentenaDados/master/Dados/dados_treino.csv\"\n",
        "URI_TREINO_FALTOU_DIA_1 =\"https://raw.githubusercontent.com/EmersonFranca/QuarentenaDados/master/Dados/dados_treino_faltou_dia_1.csv\"\n",
        "URI_TREINO_FALTOU_DIA_1_2 =\"https://raw.githubusercontent.com/EmersonFranca/QuarentenaDados/master/Dados/dados_treino_faltou_dia_1_e_2.csv\"\n"
      ],
      "execution_count": 0,
      "outputs": []
    },
    {
      "cell_type": "code",
      "metadata": {
        "id": "GBza9DbnnlqN",
        "colab_type": "code",
        "colab": {}
      },
      "source": [
        "coluna_label = 'NU_NOTA_LC'\n",
        "coluna_features = ['NU_NOTA_CN', 'NU_NOTA_CH', 'NU_NOTA_MT', 'NU_NOTA_REDACAO']"
      ],
      "execution_count": 0,
      "outputs": []
    },
    {
      "cell_type": "code",
      "metadata": {
        "id": "G4OrKfhHnw-J",
        "colab_type": "code",
        "colab": {}
      },
      "source": [
        "dados_treino = pd.read_csv(URI_TREINO)\n",
        "dados_teste = pd.read_csv(URI_TESTE)"
      ],
      "execution_count": 0,
      "outputs": []
    },
    {
      "cell_type": "code",
      "metadata": {
        "id": "d3ht3_-xoeNq",
        "colab_type": "code",
        "colab": {}
      },
      "source": [
        "dados_treino_faltou_dia_1 = pd.read_csv(URI_TREINO_FALTOU_DIA_1)\n",
        "dados_teste_faltou_dia_1 = pd.read_csv(URI_TESTE_FALTOU_DIA_1)"
      ],
      "execution_count": 0,
      "outputs": []
    },
    {
      "cell_type": "code",
      "metadata": {
        "id": "MDgTGvXOoexD",
        "colab_type": "code",
        "colab": {}
      },
      "source": [
        "dados_treino_faltou_dia_1_e_2 = pd.read_csv(URI_TREINO_FALTOU_DIA_1_2)\n",
        "dados_teste_faltou_dia_1_e_2 = pd.read_csv(URI_TESTE_FALTOU_DIA_1_E_2)"
      ],
      "execution_count": 0,
      "outputs": []
    },
    {
      "cell_type": "markdown",
      "metadata": {
        "id": "sYfM_w7gQRMO",
        "colab_type": "text"
      },
      "source": [
        "# 3. Transformação Logaritima dos Dados"
      ]
    },
    {
      "cell_type": "code",
      "metadata": {
        "id": "dhUbCzhNQUu8",
        "colab_type": "code",
        "colab": {}
      },
      "source": [
        "dados_treino['log_NU_NOTA_CN'] = np.log(dados_treino['NU_NOTA_CN'] + 1)\n",
        "dados_treino['log_NU_NOTA_CH'] = np.log(dados_treino['NU_NOTA_CH'] + 1)\n",
        "dados_treino['log_NU_NOTA_LC'] = np.log(dados_treino['NU_NOTA_LC'] + 1)\n",
        "dados_treino['log_NU_NOTA_MT'] = np.log(dados_treino['NU_NOTA_MT'] + 1)\n",
        "dados_treino['log_NU_NOTA_REDACAO'] = np.log(dados_treino['NU_NOTA_REDACAO'] + 1)"
      ],
      "execution_count": 0,
      "outputs": []
    },
    {
      "cell_type": "code",
      "metadata": {
        "id": "zR0FY6VQQfEc",
        "colab_type": "code",
        "colab": {}
      },
      "source": [
        "dados_teste['log_NU_NOTA_CN'] = np.log(dados_teste['NU_NOTA_CN'] + 1)\n",
        "dados_teste['log_NU_NOTA_CH'] = np.log(dados_teste['NU_NOTA_CH'] + 1)\n",
        "dados_teste['log_NU_NOTA_LC'] = np.log(dados_teste['NU_NOTA_LC'] + 1)\n",
        "dados_teste['log_NU_NOTA_MT'] = np.log(dados_teste['NU_NOTA_MT'] + 1)\n",
        "dados_teste['log_NU_NOTA_REDACAO'] = np.log(dados_teste['NU_NOTA_REDACAO'] + 1)"
      ],
      "execution_count": 0,
      "outputs": []
    },
    {
      "cell_type": "code",
      "metadata": {
        "id": "JbdFOUGRRfjP",
        "colab_type": "code",
        "colab": {}
      },
      "source": [
        "dados_treino_faltou_dia_1['log_NU_NOTA_CN'] = np.log(dados_treino_faltou_dia_1['NU_NOTA_CN'] + 1)\n",
        "dados_treino_faltou_dia_1['log_NU_NOTA_CH'] = np.log(dados_treino_faltou_dia_1['NU_NOTA_CH'] + 1)\n",
        "dados_treino_faltou_dia_1['log_NU_NOTA_LC'] = np.log(dados_treino_faltou_dia_1['NU_NOTA_LC'] + 1)\n",
        "dados_treino_faltou_dia_1['log_NU_NOTA_MT'] = np.log(dados_treino_faltou_dia_1['NU_NOTA_MT'] + 1)\n",
        "dados_treino_faltou_dia_1['log_NU_NOTA_REDACAO'] = np.log(dados_treino_faltou_dia_1['NU_NOTA_REDACAO'] + 1)\n",
        "dados_treino_faltou_dia_1['log_Faltou_no_dia_1'] = np.log(dados_treino_faltou_dia_1['Faltou_no_dia_1']+ 2 )"
      ],
      "execution_count": 0,
      "outputs": []
    },
    {
      "cell_type": "code",
      "metadata": {
        "id": "gNXhUkWdSCyQ",
        "colab_type": "code",
        "colab": {}
      },
      "source": [
        "dados_teste_faltou_dia_1['log_NU_NOTA_CN'] = np.log(dados_teste_faltou_dia_1['NU_NOTA_CN'] + 1)\n",
        "dados_teste_faltou_dia_1['log_NU_NOTA_CH'] = np.log(dados_teste_faltou_dia_1['NU_NOTA_CH'] + 1)\n",
        "dados_teste_faltou_dia_1['log_NU_NOTA_LC'] = np.log(dados_teste_faltou_dia_1['NU_NOTA_LC'] + 1)\n",
        "dados_teste_faltou_dia_1['log_NU_NOTA_MT'] = np.log(dados_teste_faltou_dia_1['NU_NOTA_MT'] + 1)\n",
        "dados_teste_faltou_dia_1['log_NU_NOTA_REDACAO'] = np.log(dados_teste_faltou_dia_1['NU_NOTA_REDACAO'] + 1)\n",
        "dados_teste_faltou_dia_1['log_Faltou_no_dia_1'] = np.log(dados_teste_faltou_dia_1['Faltou_no_dia_1']+ 2 )"
      ],
      "execution_count": 0,
      "outputs": []
    },
    {
      "cell_type": "code",
      "metadata": {
        "id": "jMD63y6WSEAs",
        "colab_type": "code",
        "colab": {}
      },
      "source": [
        "dados_treino_faltou_dia_1_e_2['log_NU_NOTA_CN'] = np.log(dados_treino_faltou_dia_1_e_2['NU_NOTA_CN'] + 1)\n",
        "dados_treino_faltou_dia_1_e_2['log_NU_NOTA_CH'] = np.log(dados_treino_faltou_dia_1_e_2['NU_NOTA_CH'] + 1)\n",
        "dados_treino_faltou_dia_1_e_2['log_NU_NOTA_LC'] = np.log(dados_treino_faltou_dia_1_e_2['NU_NOTA_LC'] + 1)\n",
        "dados_treino_faltou_dia_1_e_2['log_NU_NOTA_MT'] = np.log(dados_treino_faltou_dia_1_e_2['NU_NOTA_MT'] + 1)\n",
        "dados_treino_faltou_dia_1_e_2['log_NU_NOTA_REDACAO'] = np.log(dados_treino_faltou_dia_1_e_2['NU_NOTA_REDACAO'] + 1)\n",
        "dados_treino_faltou_dia_1_e_2['log_Faltou_no_dia_1'] = np.log(dados_treino_faltou_dia_1_e_2['Faltou_no_dia_1']+ 2 )\n",
        "dados_treino_faltou_dia_1_e_2['log_Faltou_no_dia_2'] = np.log(dados_treino_faltou_dia_1_e_2['Faltou_no_dia_2']+ 2 )"
      ],
      "execution_count": 0,
      "outputs": []
    },
    {
      "cell_type": "code",
      "metadata": {
        "id": "49TYyGssTnmt",
        "colab_type": "code",
        "colab": {}
      },
      "source": [
        "dados_teste_faltou_dia_1_e_2['log_NU_NOTA_CN'] = np.log(dados_teste_faltou_dia_1_e_2['NU_NOTA_CN'] + 1)\n",
        "dados_teste_faltou_dia_1_e_2['log_NU_NOTA_CH'] = np.log(dados_teste_faltou_dia_1_e_2['NU_NOTA_CH'] + 1)\n",
        "dados_teste_faltou_dia_1_e_2['log_NU_NOTA_LC'] = np.log(dados_teste_faltou_dia_1_e_2['NU_NOTA_LC'] + 1)\n",
        "dados_teste_faltou_dia_1_e_2['log_NU_NOTA_MT'] = np.log(dados_teste_faltou_dia_1_e_2['NU_NOTA_MT'] + 1)\n",
        "dados_teste_faltou_dia_1_e_2['log_NU_NOTA_REDACAO'] = np.log(dados_teste_faltou_dia_1_e_2['NU_NOTA_REDACAO'] + 1)\n",
        "dados_teste_faltou_dia_1_e_2['log_Faltou_no_dia_1'] = np.log(dados_teste_faltou_dia_1_e_2['Faltou_no_dia_1']+ 2 )\n",
        "dados_teste_faltou_dia_1_e_2['log_Faltou_no_dia_2'] = np.log(dados_teste_faltou_dia_1_e_2['Faltou_no_dia_2']+ 2 )"
      ],
      "execution_count": 0,
      "outputs": []
    },
    {
      "cell_type": "markdown",
      "metadata": {
        "id": "ztPt0wBNSxjf",
        "colab_type": "text"
      },
      "source": [
        "# 4. Exportando os dados para um .csv"
      ]
    },
    {
      "cell_type": "code",
      "metadata": {
        "id": "AZnKGg-kk_rf",
        "colab_type": "code",
        "colab": {}
      },
      "source": [
        "dados_treino.to_csv('dados_treino_com_transformacao_logaritmica.csv', index=False) \n",
        "files.download('dados_treino_com_transformacao_logaritmica.csv')"
      ],
      "execution_count": 0,
      "outputs": []
    },
    {
      "cell_type": "code",
      "metadata": {
        "id": "mL6Dzq2OTjWW",
        "colab_type": "code",
        "colab": {}
      },
      "source": [
        "dados_teste.to_csv('dados_teste_com_transformacao_logaritmica.csv', index=False) \n",
        "files.download('dados_teste_com_transformacao_logaritmica.csv')"
      ],
      "execution_count": 0,
      "outputs": []
    },
    {
      "cell_type": "code",
      "metadata": {
        "id": "2MeuAc7pTjvV",
        "colab_type": "code",
        "colab": {}
      },
      "source": [
        "dados_treino_faltou_dia_1.to_csv('dados_treino_faltou_dia_1_com_transformacao_logaritmica.csv', index=False) \n",
        "files.download('dados_treino_faltou_dia_1_com_transformacao_logaritmica.csv')"
      ],
      "execution_count": 0,
      "outputs": []
    },
    {
      "cell_type": "code",
      "metadata": {
        "id": "MjPxcWJsUINO",
        "colab_type": "code",
        "colab": {}
      },
      "source": [
        "dados_teste_faltou_dia_1.to_csv('dados_teste_faltou_dia_1_com_transformacao_logaritmica.csv', index=False) \n",
        "files.download('dados_teste_faltou_dia_1_com_transformacao_logaritmica.csv')"
      ],
      "execution_count": 0,
      "outputs": []
    },
    {
      "cell_type": "code",
      "metadata": {
        "colab_type": "code",
        "id": "3LGoDHDxUNos",
        "colab": {}
      },
      "source": [
        "dados_treino_faltou_dia_1_e_2.to_csv('dados_treino_faltou_dia_1_e_2_com_transformacao_logaritmica.csv', index=False) \n",
        "files.download('dados_treino_faltou_dia_1_e_2_com_transformacao_logaritmica.csv')"
      ],
      "execution_count": 0,
      "outputs": []
    },
    {
      "cell_type": "code",
      "metadata": {
        "colab_type": "code",
        "id": "4F3nHtJ6UNo1",
        "colab": {}
      },
      "source": [
        "dados_teste_faltou_dia_1_e_2.to_csv('dados_teste_faltou_dia_1_e_2_com_transformacao_logaritmica.csv', index=False) \n",
        "files.download('dados_teste_faltou_dia_1_e_2_com_transformacao_logaritmica.csv')"
      ],
      "execution_count": 0,
      "outputs": []
    }
  ]
}