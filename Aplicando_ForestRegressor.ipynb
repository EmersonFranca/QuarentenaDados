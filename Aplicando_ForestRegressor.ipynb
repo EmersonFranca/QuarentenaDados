{
  "nbformat": 4,
  "nbformat_minor": 0,
  "metadata": {
    "colab": {
      "name": "Aplicando ForestRegressor.ipynb",
      "provenance": [],
      "authorship_tag": "ABX9TyMHEIV+Z61v6vKXJo5DYanN",
      "include_colab_link": true
    },
    "kernelspec": {
      "name": "python3",
      "display_name": "Python 3"
    }
  },
  "cells": [
    {
      "cell_type": "markdown",
      "metadata": {
        "id": "view-in-github",
        "colab_type": "text"
      },
      "source": [
        "<a href=\"https://colab.research.google.com/github/EmersonFranca/QuarentenaDados/blob/master/Aplicando_ForestRegressor.ipynb\" target=\"_parent\"><img src=\"https://colab.research.google.com/assets/colab-badge.svg\" alt=\"Open In Colab\"/></a>"
      ]
    },
    {
      "cell_type": "markdown",
      "metadata": {
        "id": "_RC2ZgJ4l6Rq",
        "colab_type": "text"
      },
      "source": [
        "# 1. Importando bibliotecas"
      ]
    },
    {
      "cell_type": "code",
      "metadata": {
        "id": "5vPgapd5lvFH",
        "colab_type": "code",
        "colab": {}
      },
      "source": [
        "# Teste alteração GitHub\n",
        "import pandas as pd\n",
        "import numpy as np"
      ],
      "execution_count": 0,
      "outputs": []
    },
    {
      "cell_type": "code",
      "metadata": {
        "id": "J7jA2Yh9l9i1",
        "colab_type": "code",
        "colab": {}
      },
      "source": [
        "from sklearn.ensemble import RandomForestRegressor\n",
        "from sklearn.metrics import mean_squared_error\n",
        "from sklearn import metrics"
      ],
      "execution_count": 0,
      "outputs": []
    },
    {
      "cell_type": "markdown",
      "metadata": {
        "id": "S4cJggSHn8Nj",
        "colab_type": "text"
      },
      "source": [
        "# 2. Importando os dados"
      ]
    },
    {
      "cell_type": "code",
      "metadata": {
        "id": "-C__8yhfmMY_",
        "colab_type": "code",
        "colab": {}
      },
      "source": [
        "URI_TESTE =\"https://raw.githubusercontent.com/EmersonFranca/QuarentenaDados/master/Dados/dados_teste.csv\"\n",
        "URI_TESTE_FALTOU_DIA_1 =\"https://raw.githubusercontent.com/EmersonFranca/QuarentenaDados/master/Dados/dados_teste_4_3_faltou_dia_1.csv\"\n",
        "URI_TESTE_FALTOU_DIA_1_E_2 =\"https://raw.githubusercontent.com/EmersonFranca/QuarentenaDados/master/Dados/dados_teste_faltou_dia_1_e_2.csv\"\n",
        "URI_TREINO =\"https://raw.githubusercontent.com/EmersonFranca/QuarentenaDados/master/Dados/dados_treino.csv\"\n",
        "URI_TREINO_FALTOU_DIA_1 =\"https://raw.githubusercontent.com/EmersonFranca/QuarentenaDados/master/Dados/dados_treino_faltou_dia_1.csv\"\n",
        "URI_TREINO_FALTOU_DIA_1_2 =\"https://raw.githubusercontent.com/EmersonFranca/QuarentenaDados/master/Dados/dados_treino_faltou_dia_1_e_2.csv\"\n",
        "URI_TREINO_FALTOU_DIA_1_2_SEM_NOTA_ZERO =\"https://raw.githubusercontent.com/EmersonFranca/QuarentenaDados/master/Dados/dados_treino_faltou_dia_1_e_2_sem_nota_zero.csv\"\n",
        "\n",
        "\n",
        "URI_TESTE_FALTOU_DIA_1_TRANSFORM_LOGARITMICA = \"https://raw.githubusercontent.com/EmersonFranca/QuarentenaDados/master/Dados/dados%20com%20transformacao%20logaritimica/dados_teste_faltou_dia_1_com_transformacao_logaritmica.csv\"\n",
        "URI_TREINO_FALTOU_DIA_1_TRANSFORM_LOGARITMICA = \"https://raw.githubusercontent.com/EmersonFranca/QuarentenaDados/master/Dados/dados%20com%20transformacao%20logaritimica/dados_treino_faltou_dia_1_com_transformacao_logaritmica.csv\""
      ],
      "execution_count": 0,
      "outputs": []
    },
    {
      "cell_type": "code",
      "metadata": {
        "id": "G4OrKfhHnw-J",
        "colab_type": "code",
        "colab": {}
      },
      "source": [
        "dados_treino = pd.read_csv(URI_TREINO)\n",
        "dados_teste = pd.read_csv(URI_TESTE)"
      ],
      "execution_count": 0,
      "outputs": []
    },
    {
      "cell_type": "code",
      "metadata": {
        "id": "d3ht3_-xoeNq",
        "colab_type": "code",
        "colab": {}
      },
      "source": [
        "dados_treino_faltou_dia_1 = pd.read_csv(URI_TREINO_FALTOU_DIA_1)\n",
        "dados_teste_faltou_dia_1 = pd.read_csv(URI_TESTE_FALTOU_DIA_1)"
      ],
      "execution_count": 0,
      "outputs": []
    },
    {
      "cell_type": "code",
      "metadata": {
        "id": "MDgTGvXOoexD",
        "colab_type": "code",
        "colab": {}
      },
      "source": [
        "dados_treino_faltou_dia_1_e_2 = pd.read_csv(URI_TREINO_FALTOU_DIA_1_2)\n",
        "dados_teste_faltou_dia_1_e_2 = pd.read_csv(URI_TESTE_FALTOU_DIA_1_E_2)"
      ],
      "execution_count": 0,
      "outputs": []
    },
    {
      "cell_type": "code",
      "metadata": {
        "id": "ZYfWN4gOoe5K",
        "colab_type": "code",
        "colab": {}
      },
      "source": [
        "dados_treino_faltou_dia_1_e_2_e_sem_nota_zero = pd.read_csv(URI_TREINO_FALTOU_DIA_1_2_SEM_NOTA_ZERO)"
      ],
      "execution_count": 0,
      "outputs": []
    },
    {
      "cell_type": "code",
      "metadata": {
        "id": "34MwIMnJY1JG",
        "colab_type": "code",
        "colab": {}
      },
      "source": [
        "dados_treino_faltou_dia_1_logaritmica = pd.read_csv(URI_TREINO_FALTOU_DIA_1_TRANSFORM_LOGARITMICA)\n",
        "dados_teste_faltou_dia_1_logaritmica = pd.read_csv(URI_TESTE_FALTOU_DIA_1_TRANSFORM_LOGARITMICA)\n"
      ],
      "execution_count": 0,
      "outputs": []
    },
    {
      "cell_type": "markdown",
      "metadata": {
        "id": "rTFalZUto_gl",
        "colab_type": "text"
      },
      "source": [
        "# 3. Transformando os dados para aplicar os modelos"
      ]
    },
    {
      "cell_type": "code",
      "metadata": {
        "id": "GBza9DbnnlqN",
        "colab_type": "code",
        "colab": {}
      },
      "source": [
        "coluna_label = 'NU_NOTA_LC'\n",
        "coluna_features = ['NU_NOTA_CN', 'NU_NOTA_CH', 'NU_NOTA_MT', 'NU_NOTA_REDACAO']"
      ],
      "execution_count": 0,
      "outputs": []
    },
    {
      "cell_type": "code",
      "metadata": {
        "id": "bKCdOHa_pElD",
        "colab_type": "code",
        "colab": {}
      },
      "source": [
        "X_treino = dados_treino[coluna_features].to_numpy()\n",
        "Y_treino = dados_treino[coluna_label].to_numpy()\n",
        "X_teste = dados_teste[coluna_features].to_numpy()\n",
        "Y_teste = dados_teste[coluna_label].to_numpy()"
      ],
      "execution_count": 0,
      "outputs": []
    },
    {
      "cell_type": "code",
      "metadata": {
        "id": "CMu3bDuQpEr1",
        "colab_type": "code",
        "colab": {}
      },
      "source": [
        "coluna_features_dia_1 = ['NU_NOTA_CN', 'NU_NOTA_CH', 'NU_NOTA_MT', 'NU_NOTA_REDACAO','Faltou_no_dia_1']\n",
        "\n",
        "X_treino_dia_1 = dados_treino_faltou_dia_1[coluna_features_dia_1].to_numpy()\n",
        "Y_treino_dia_1 = dados_treino_faltou_dia_1[coluna_label].to_numpy()\n",
        "X_teste_dia_1 = dados_teste_faltou_dia_1[coluna_features_dia_1].to_numpy()\n",
        "Y_teste_dia_1 = dados_teste_faltou_dia_1[coluna_label].to_numpy()"
      ],
      "execution_count": 0,
      "outputs": []
    },
    {
      "cell_type": "code",
      "metadata": {
        "id": "8-yJj8jHpYoq",
        "colab_type": "code",
        "colab": {}
      },
      "source": [
        "coluna_features_dia_1_e_2 = ['NU_NOTA_CN', 'NU_NOTA_CH', 'NU_NOTA_MT', 'NU_NOTA_REDACAO','Faltou_no_dia_1','Faltou_no_dia_2']\n",
        "\n",
        "X_treino_dia_1_e_2 = dados_treino_faltou_dia_1_e_2[coluna_features_dia_1_e_2].to_numpy()\n",
        "Y_treino_dia_1_e_2 = dados_treino_faltou_dia_1_e_2[coluna_label].to_numpy()\n",
        "X_teste_dia_1_e_2 = dados_teste_faltou_dia_1_e_2[coluna_features_dia_1_e_2].to_numpy()\n",
        "Y_teste_dia_1_e_2 = dados_teste_faltou_dia_1_e_2[coluna_label].to_numpy()"
      ],
      "execution_count": 0,
      "outputs": []
    },
    {
      "cell_type": "code",
      "metadata": {
        "id": "gaZvdhgDpyMS",
        "colab_type": "code",
        "colab": {}
      },
      "source": [
        "coluna_features_dia_1_e_2 = ['NU_NOTA_CN', 'NU_NOTA_CH', 'NU_NOTA_MT', 'NU_NOTA_REDACAO','Faltou_no_dia_1','Faltou_no_dia_2']\n",
        "\n",
        "X_treino_dia_1_e_2_sem_nota_zero = dados_treino_faltou_dia_1_e_2_e_sem_nota_zero[coluna_features_dia_1_e_2].to_numpy()\n",
        "Y_treino_dia_1_e_2_sem_nota_zero = dados_treino_faltou_dia_1_e_2_e_sem_nota_zero[coluna_label].to_numpy()"
      ],
      "execution_count": 0,
      "outputs": []
    },
    {
      "cell_type": "code",
      "metadata": {
        "id": "1nl8IE9dWiC1",
        "colab_type": "code",
        "colab": {}
      },
      "source": [
        "coluna_features_log_dia_1_logaritmica = ['log_NU_NOTA_CN', 'log_NU_NOTA_CH', 'log_NU_NOTA_MT', 'log_NU_NOTA_REDACAO','log_Faltou_no_dia_1']\n",
        "\n",
        "X_treino_dia_1_logaritmica = dados_treino_faltou_dia_1_logaritmica[coluna_features_log_dia_1_logaritmica].to_numpy()\n",
        "Y_treino_dia_1_logaritmica = dados_treino_faltou_dia_1_logaritmica[coluna_label].to_numpy()\n",
        "X_teste_dia_1_logaritmica = dados_teste_faltou_dia_1_logaritmica[coluna_features_log_dia_1_logaritmica].to_numpy()\n",
        "Y_teste_dia_1_logaritmica = dados_teste_faltou_dia_1_logaritmica[coluna_label].to_numpy()\n"
      ],
      "execution_count": 0,
      "outputs": []
    },
    {
      "cell_type": "markdown",
      "metadata": {
        "id": "GCw5Ybi7oA1D",
        "colab_type": "text"
      },
      "source": [
        "# 4. Aplicando o modelo ForestRegressor"
      ]
    },
    {
      "cell_type": "markdown",
      "metadata": {
        "id": "ngBq1A6hLTL2",
        "colab_type": "text"
      },
      "source": [
        "# 4.1 Utilizando os dados de treino e teste originais"
      ]
    },
    {
      "cell_type": "code",
      "metadata": {
        "id": "AfCu8PlNoExZ",
        "colab_type": "code",
        "outputId": "263a0cdb-be0e-4b8e-d195-7ed7ddeab7f0",
        "colab": {
          "base_uri": "https://localhost:8080/",
          "height": 51
        }
      },
      "source": [
        "modelo_forest = RandomForestRegressor(max_depth=None, random_state=560,criterion=\"mse\",n_estimators=200)\n",
        "modelo_forest.fit(X_treino, Y_treino)\n",
        "\n",
        "\n",
        "Y_predicao = modelo_forest.predict(X_teste)\n",
        "\n",
        "# Utilizando a métrica mean_squared_error para avaliar o quão \"bom\" foi esse modelo\n",
        "avaliacao_Forest = mean_squared_error(Y_teste, Y_predicao)\n",
        "\n",
        "r2_Score = metrics.r2_score(Y_teste, Y_predicao)\n",
        "\n",
        "print(f\"Minha avaliação nos dados de teste foi de {avaliacao_Forest}\")\n",
        "print(f\"R² da previsão {r2_Score}\")"
      ],
      "execution_count": 0,
      "outputs": [
        {
          "output_type": "stream",
          "text": [
            "Minha avaliação nos dados de teste foi de 2195.6917421826247\n",
            "R² da previsão 0.5792886839543325\n"
          ],
          "name": "stdout"
        }
      ]
    },
    {
      "cell_type": "markdown",
      "metadata": {
        "id": "ckbde_uPLdIo",
        "colab_type": "text"
      },
      "source": [
        "# 4.2 Utilizando os dados teste e treino com a variável dia 1\n",
        "\n",
        "\n",
        "\n",
        "Melhor Resultado: `max_depth=None, random_state=560,criterion=\"mse\",n_estimators=500 `\n",
        "\n",
        "Minha avaliação nos dados de teste foi de 2183.2834541329257\n",
        "R² da previsão 0.5816662067618252\n",
        "\n",
        "\n"
      ]
    },
    {
      "cell_type": "code",
      "metadata": {
        "id": "9J1UaBaiqp-i",
        "colab_type": "code",
        "outputId": "1168e31d-afe4-4679-9272-e5cdba67fcde",
        "colab": {
          "base_uri": "https://localhost:8080/",
          "height": 51
        }
      },
      "source": [
        "modelo_forest_dia_1 = RandomForestRegressor(max_depth=None, random_state=560,criterion=\"mse\",n_estimators=500,\n",
        "                                            )\n",
        "modelo_forest_dia_1.fit(X_treino_dia_1, Y_treino_dia_1)\n",
        "\n",
        "\n",
        "Y_predicao_dia_1 = modelo_forest_dia_1.predict(X_teste_dia_1)\n",
        "\n",
        "# Utilizando a métrica mean_squared_error para avaliar o quão \"bom\" foi esse modelo\n",
        "avaliacao_Forest_dia_1 = mean_squared_error(Y_teste_dia_1, Y_predicao_dia_1)\n",
        "\n",
        "r2_Score = metrics.r2_score(Y_teste_dia_1, Y_predicao_dia_1)\n",
        "\n",
        "print(f\"Minha avaliação nos dados de teste foi de {avaliacao_Forest_dia_1}\")\n",
        "print(f\"R² da previsão {r2_Score}\")\n"
      ],
      "execution_count": 0,
      "outputs": [
        {
          "output_type": "stream",
          "text": [
            "Minha avaliação nos dados de teste foi de 2183.2834541329257\n",
            "R² da previsão 0.5816662067618252\n"
          ],
          "name": "stdout"
        }
      ]
    },
    {
      "cell_type": "markdown",
      "metadata": {
        "id": "WPzfbtQOLhCY",
        "colab_type": "text"
      },
      "source": [
        "# 4.3 Utilizando os dados teste e treino com a variável dia 1 e dia 2 e subistituindo a nota 0 por -111\n",
        "\n",
        "Resultado: `(max_depth=None, random_state=560,criterion=\"mse\",n_estimators=100)`\n",
        "\n",
        "Minha avaliação nos dados de teste foi de 2207.34639665475\n",
        "R² da previsão 0.5770555630991476"
      ]
    },
    {
      "cell_type": "code",
      "metadata": {
        "id": "XDpiDsfFq6eX",
        "colab_type": "code",
        "outputId": "f96f908f-971b-41c5-bd4f-ea1b6d8ee939",
        "colab": {
          "base_uri": "https://localhost:8080/",
          "height": 51
        }
      },
      "source": [
        "modelo_forest_dia_1_e_2_sem_nota_zero = RandomForestRegressor(max_depth=None, random_state=560,criterion=\"mse\",n_estimators=100)\n",
        "modelo_forest_dia_1_e_2_sem_nota_zero.fit(X_treino_dia_1_e_2_sem_nota_zero, Y_treino_dia_1_e_2_sem_nota_zero)\n",
        "\n",
        "\n",
        "Y_predicao_dia_1_e_2_sem_nota_zero = modelo_forest_dia_1_e_2_sem_nota_zero.predict(X_teste_dia_1_e_2)\n",
        "\n",
        "# Utilizando a métrica mean_squared_error para avaliar o quão \"bom\" foi esse modelo\n",
        "avaliacao_Forest_dia_1_e_2_sem_nota_zero = mean_squared_error(Y_teste_dia_1_e_2, Y_predicao_dia_1_e_2_sem_nota_zero)\n",
        "\n",
        "r2_Score = metrics.r2_score(Y_teste_dia_1_e_2, Y_predicao_dia_1_e_2_sem_nota_zero)\n",
        "\n",
        "\n",
        "print(f\"Minha avaliação nos dados de teste foi de {avaliacao_Forest_dia_1_e_2_sem_nota_zero}\")\n",
        "print(f\"R² da previsão {r2_Score}\")"
      ],
      "execution_count": 0,
      "outputs": [
        {
          "output_type": "stream",
          "text": [
            "Minha avaliação nos dados de teste foi de 2207.34639665475\n",
            "R² da previsão 0.5770555630991476\n"
          ],
          "name": "stdout"
        }
      ]
    },
    {
      "cell_type": "markdown",
      "metadata": {
        "id": "xq8taaFsWbqk",
        "colab_type": "text"
      },
      "source": [
        "# 4.4 Utilizando Transformação Logaritmica\n",
        "\n",
        "Melhor Resultado: `max_depth=None, random_state=560,criterion=\"mse\",n_estimators=500 `\n",
        "\n",
        "Minha avaliação nos dados de teste foi de 2183.167701183958\n",
        "R² da previsão 0.5816883859113666"
      ]
    },
    {
      "cell_type": "code",
      "metadata": {
        "id": "isSpLVlQrY6y",
        "colab_type": "code",
        "outputId": "7cb0e871-de05-4c05-c3d9-aa4114a2c404",
        "colab": {
          "base_uri": "https://localhost:8080/",
          "height": 51
        }
      },
      "source": [
        "modelo_forest_dia_1_logaritmica = RandomForestRegressor(max_depth=None, random_state=560,criterion=\"mse\",n_estimators=500,\n",
        "                                            )\n",
        "modelo_forest_dia_1_logaritmica.fit(X_treino_dia_1_logaritmica, Y_treino_dia_1_logaritmica)\n",
        "\n",
        "\n",
        "Y_predicao_dia_1_logaritmica = modelo_forest_dia_1_logaritmica.predict(X_teste_dia_1_logaritmica)\n",
        "\n",
        "# Utilizando a métrica mean_squared_error para avaliar o quão \"bom\" foi esse modelo\n",
        "avaliacao_Forest_dia_1_logaritmica = mean_squared_error(Y_teste_dia_1_logaritmica, Y_predicao_dia_1_logaritmica)\n",
        "\n",
        "r2_Score = metrics.r2_score(Y_teste_dia_1_logaritmica, Y_predicao_dia_1_logaritmica)\n",
        "\n",
        "print(f\"Minha avaliação nos dados de teste foi de {avaliacao_Forest_dia_1_logaritmica}\")\n",
        "print(f\"R² da previsão {r2_Score}\")\n"
      ],
      "execution_count": 0,
      "outputs": [
        {
          "output_type": "stream",
          "text": [
            "Minha avaliação nos dados de teste foi de 2183.167701183958\n",
            "R² da previsão 0.5816883859113666\n"
          ],
          "name": "stdout"
        }
      ]
    },
    {
      "cell_type": "markdown",
      "metadata": {
        "id": "-Wfs0_JYHXXV",
        "colab_type": "text"
      },
      "source": [
        "# 5. Tentando encontrar o melhor random_state e n_estimators"
      ]
    },
    {
      "cell_type": "markdown",
      "metadata": {
        "id": "zpmkKvgPIG3d",
        "colab_type": "text"
      },
      "source": [
        "## 5.1 Qual melhor Estimator?\n",
        "\n",
        "Quanto maior melhor, porém o maior número que consegui gerar sem estourar a memória RAM foi 600"
      ]
    },
    {
      "cell_type": "code",
      "metadata": {
        "id": "RdZWeBPXHbcH",
        "colab_type": "code",
        "colab": {}
      },
      "source": [
        "from sklearn.ensemble import RandomForestRegressor\n",
        "import time\n",
        "resultado_randomforestregressor  = pd.DataFrame(columns=['n_estimators','avaliacao','data_inicio_processamento', 'data_fim_processamento'])\n",
        "\n",
        "\n",
        "\n",
        "for i in range(1,4):\n",
        "  \n",
        "  dt_inicio_processamento = time.strftime(\"%d/%m/%Y %H:%M:%S\")\n",
        "\n",
        "  modelo_forest_loop = RandomForestRegressor(max_depth=None, random_state=0,criterion=\"mse\", n_jobs=-1,n_estimators=i*100)\n",
        "  modelo_forest_loop.fit(X_treino, Y_treino)\n",
        "  Y_Forest_predicoes_loop = modelo_forest_loop.predict(X_teste)\n",
        "  avaliacao_Forest_loop = mean_squared_error(Y_teste, Y_Forest_predicoes_loop)\n",
        "\n",
        "  dt_fim_processamento = time.strftime(\"%d/%m/%Y %H:%M:%S\")\n",
        "\n",
        "  temp = pd.DataFrame(data=[[i*100, avaliacao_Forest_loop,dt_inicio_processamento,dt_fim_processamento]], \n",
        "                      columns=['n_estimators','avaliacao','data_inicio_processamento', 'data_fim_processamento'])\n",
        "\n",
        "  resultado_randomforestregressor = pd.concat([resultado_randomforestregressor,temp])\n"
      ],
      "execution_count": 0,
      "outputs": []
    },
    {
      "cell_type": "markdown",
      "metadata": {
        "id": "3fZTqfZfIXT5",
        "colab_type": "text"
      },
      "source": [
        "## 5.2 Qual melhor random_state?\n",
        "\n",
        "\tmean_squared_erro random_state\n",
        "\n",
        "\n",
        "\n",
        "\n",
        " * 2193.783613 com\t 288.0 \n",
        " * 2194.755567 com\t 528.0 \n",
        " * 2195.722374 com\t 352.0 \n",
        " * 2196.168172 com\t 256.0 \n",
        " * 2196.717295 com\t 576.0 \n",
        " * 2197.078023 com\t 672.0 \n",
        " * 2197.078093 com\t 560.0 \n",
        " * 2194.274405 com\t 752.0 \n",
        " * 2194.590626 com\t 1328.0 \n",
        " * 2194.831261 com\t 1360.0 \n",
        " * 2196.495676 com\t 1088.0 \n",
        " * 2196.866514 com\t 1216.0\n",
        "\n",
        "\n"
      ]
    },
    {
      "cell_type": "code",
      "metadata": {
        "id": "3zgEgnC5Icd3",
        "colab_type": "code",
        "colab": {}
      },
      "source": [
        "from sklearn.ensemble import RandomForestRegressor\n",
        "import time\n",
        "resultado_randomforestregressor2  = pd.DataFrame(columns=['randomstate','avaliacao','data_inicio_processamento', 'data_fim_processamento'])\n",
        "\n",
        "\n",
        "\n",
        "for i in range(151,201):\n",
        "  \n",
        "  dt_inicio_processamento = time.strftime(\"%d/%m/%Y %H:%M:%S\")\n",
        "\n",
        "  modelo_forest_loop = RandomForestRegressor(max_depth=None, random_state=i*16,criterion=\"mse\", n_jobs=-1,n_estimators=100)\n",
        "  modelo_forest_loop.fit(X_treino_4_4, Y_treino_4_4)\n",
        "  Y_Forest_predicoes_loop = modelo_forest_loop.predict(X_teste_4_4)\n",
        "  avaliacao_Forest_loop = mean_squared_error(Y_teste_4_4, Y_Forest_predicoes_loop)\n",
        "\n",
        "  dt_fim_processamento = time.strftime(\"%d/%m/%Y %H:%M:%S\")\n",
        "\n",
        "  temp = pd.DataFrame(data=[[i*16, avaliacao_Forest_loop,dt_inicio_processamento,dt_fim_processamento]], \n",
        "                      columns=['n_estimators','avaliacao','data_inicio_processamento', 'data_fim_processamento'])\n",
        "\n",
        "  resultado_randomforestregressor2 = pd.concat([resultado_randomforestregressor2,temp])"
      ],
      "execution_count": 0,
      "outputs": []
    },
    {
      "cell_type": "code",
      "metadata": {
        "id": "Vs8dOjZTIgqx",
        "colab_type": "code",
        "colab": {}
      },
      "source": [
        "resultado_randomforestregressor2.sort_values(by='avaliacao')"
      ],
      "execution_count": 0,
      "outputs": []
    },
    {
      "cell_type": "markdown",
      "metadata": {
        "id": "GGCyIAhhchAt",
        "colab_type": "text"
      },
      "source": [
        "# 6. Analisando as predições"
      ]
    },
    {
      "cell_type": "code",
      "metadata": {
        "id": "cKe33fU5cmAZ",
        "colab_type": "code",
        "colab": {}
      },
      "source": [
        ""
      ],
      "execution_count": 0,
      "outputs": []
    }
  ]
}