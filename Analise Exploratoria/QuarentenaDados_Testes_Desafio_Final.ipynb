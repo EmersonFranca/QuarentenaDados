{
  "nbformat": 4,
  "nbformat_minor": 0,
  "metadata": {
    "colab": {
      "name": "QuarentenaDados Testes Desafio Final.ipynb",
      "provenance": [],
      "toc_visible": true,
      "authorship_tag": "ABX9TyNkTV02Uk9p9sHrkVL3ZyHC",
      "include_colab_link": true
    },
    "kernelspec": {
      "name": "python3",
      "display_name": "Python 3"
    }
  },
  "cells": [
    {
      "cell_type": "markdown",
      "metadata": {
        "id": "view-in-github",
        "colab_type": "text"
      },
      "source": [
        "<a href=\"https://colab.research.google.com/github/EmersonFranca/QuarentenaDados/blob/master/Analise%20Exploratoria/QuarentenaDados_Testes_Desafio_Final.ipynb\" target=\"_parent\"><img src=\"https://colab.research.google.com/assets/colab-badge.svg\" alt=\"Open In Colab\"/></a>"
      ]
    },
    {
      "cell_type": "markdown",
      "metadata": {
        "id": "C8ljPzuLpQiS",
        "colab_type": "text"
      },
      "source": [
        "## 1. Importando as Bibliotecas"
      ]
    },
    {
      "cell_type": "code",
      "metadata": {
        "id": "CIjvGzMupVdm",
        "colab_type": "code",
        "colab": {}
      },
      "source": [
        "import pandas as pd\n",
        "import numpy as np\n",
        "import seaborn as sns\n",
        "import matplotlib.pyplot as plt\n",
        "from sklearn.dummy import DummyRegressor\n",
        "from sklearn.svm import LinearSVR\n",
        "from sklearn.metrics import mean_squared_error\n"
      ],
      "execution_count": 0,
      "outputs": []
    },
    {
      "cell_type": "code",
      "metadata": {
        "id": "jnuYzVUvwoTc",
        "colab_type": "code",
        "colab": {}
      },
      "source": [
        "from sklearn.linear_model import LogisticRegression\n",
        "from sklearn.svm import SVR\n",
        "from sklearn.linear_model import SGDRegressor\n",
        "from sklearn.linear_model import Lasso\n"
      ],
      "execution_count": 0,
      "outputs": []
    },
    {
      "cell_type": "markdown",
      "metadata": {
        "id": "pLuFtSDypqYq",
        "colab_type": "text"
      },
      "source": [
        "# 2. Importando os Dados"
      ]
    },
    {
      "cell_type": "code",
      "metadata": {
        "id": "vZocOf7xptk-",
        "colab_type": "code",
        "colab": {}
      },
      "source": [
        "\n",
        "URI_TREINO = \"https://github.com/tgcsantos/quaretenadados/blob/master/DADOS_TREINO.csv?raw=true\"\n",
        "URI_TESTE = \"https://github.com/tgcsantos/quaretenadados/raw/master/DADOS_TESTE.csv\"\n",
        "URI_DESAFIOQT = \"https://github.com/tgcsantos/quaretenadados/raw/master/DESAFIOQT.csv\"\n",
        "\n",
        "dados_treino = pd.read_csv(URI_TREINO)\n",
        "dados_teste = pd.read_csv(URI_TESTE)\n",
        "dados_desafioqt = pd.read_csv(URI_DESAFIOQT)"
      ],
      "execution_count": 0,
      "outputs": []
    },
    {
      "cell_type": "code",
      "metadata": {
        "id": "ucvdKVT4p16o",
        "colab_type": "code",
        "colab": {}
      },
      "source": [
        "erro_treino = \"Erro ao carregar dados de treino\"\n",
        "erro_teste = \"Erro ao carregar dados de teste\"\n",
        "erro_desafioqt = \"Erro ao carregar dados de submissão\""
      ],
      "execution_count": 0,
      "outputs": []
    },
    {
      "cell_type": "code",
      "metadata": {
        "id": "vSFJF3VTp65B",
        "colab_type": "code",
        "colab": {}
      },
      "source": [
        "assert dados_treino.shape == (150000, 5), erro_treino\n",
        "assert dados_teste.shape == (20000, 5), erro_teste\n",
        "assert dados_desafioqt.shape == (10000, 5), erro_desafioqt"
      ],
      "execution_count": 0,
      "outputs": []
    },
    {
      "cell_type": "markdown",
      "metadata": {
        "id": "2mCzOJuoqH2V",
        "colab_type": "text"
      },
      "source": [
        "# 3. Preparando os dados"
      ]
    },
    {
      "cell_type": "code",
      "metadata": {
        "id": "9XKcf3frqWQw",
        "colab_type": "code",
        "colab": {}
      },
      "source": [
        "coluna_label = 'NU_NOTA_LC'\n",
        "coluna_features = ['NU_NOTA_CN', 'NU_NOTA_CH', 'NU_NOTA_MT', 'NU_NOTA_REDACAO']\n",
        "\n",
        "X_treino = dados_treino[coluna_features].to_numpy()\n",
        "Y_treino = dados_treino[coluna_label].to_numpy()\n",
        "X_teste = dados_teste[coluna_features].to_numpy()\n",
        "Y_teste = dados_teste[coluna_label].to_numpy()\n"
      ],
      "execution_count": 0,
      "outputs": []
    },
    {
      "cell_type": "code",
      "metadata": {
        "id": "erLQofAvqdTM",
        "colab_type": "code",
        "colab": {}
      },
      "source": [
        ""
      ],
      "execution_count": 0,
      "outputs": []
    },
    {
      "cell_type": "markdown",
      "metadata": {
        "id": "BTR63WfeqkCA",
        "colab_type": "text"
      },
      "source": [
        "# 4. Aplicando modelos de Machine Learning"
      ]
    },
    {
      "cell_type": "markdown",
      "metadata": {
        "id": "U8Ymj0dxHrlr",
        "colab_type": "text"
      },
      "source": [
        "## 4.0 Definindo uma semente padrão para gerar os números pseudo-aleatórios."
      ]
    },
    {
      "cell_type": "code",
      "metadata": {
        "id": "UYq_3Q_1Hlxc",
        "colab_type": "code",
        "colab": {}
      },
      "source": [
        "np.random.seed(43267)"
      ],
      "execution_count": 0,
      "outputs": []
    },
    {
      "cell_type": "markdown",
      "metadata": {
        "id": "OSGZUF5_qvvf",
        "colab_type": "text"
      },
      "source": [
        "## 4.1 Utilizando o modelo DummyRegressor"
      ]
    },
    {
      "cell_type": "code",
      "metadata": {
        "id": "fglnc9LUq1dK",
        "colab_type": "code",
        "colab": {}
      },
      "source": [
        "#Instanciando meu modelo DummyRegressor\n",
        "modelo_dummy = DummyRegressor()\n",
        "\n",
        "#Preenchendo os dados no meu modelo DummyRegressor\n",
        "modelo_dummy.fit(X_treino, Y_treino)\n",
        "\n",
        "#Fazendo predições com meu modelo DummyRegressor, passando meu X de teste\n",
        "Y_dummy_predicoes = modelo_dummy.predict(X_teste)\n"
      ],
      "execution_count": 0,
      "outputs": []
    },
    {
      "cell_type": "code",
      "metadata": {
        "id": "V0TKDlgQrVAs",
        "colab_type": "code",
        "colab": {}
      },
      "source": [
        "# Utilizando a métrica mean_squared_error para avaliar o quão \"bom\" foi esse modelo\n",
        "avaliacao_dummy = mean_squared_error(Y_teste, Y_dummy_predicoes)"
      ],
      "execution_count": 0,
      "outputs": []
    },
    {
      "cell_type": "code",
      "metadata": {
        "id": "c05-BN2tsFsN",
        "colab_type": "code",
        "outputId": "b37957ca-765c-4f50-f4f2-cbe14af2ca86",
        "colab": {
          "base_uri": "https://localhost:8080/",
          "height": 34
        }
      },
      "source": [
        "print(f\"Minha avaliação nos dados de teste foi de {avaliacao_dummy}\")"
      ],
      "execution_count": 0,
      "outputs": [
        {
          "output_type": "stream",
          "text": [
            "Minha avaliação nos dados de teste foi de 5219.286870186777\n"
          ],
          "name": "stdout"
        }
      ]
    },
    {
      "cell_type": "markdown",
      "metadata": {
        "id": "x8FV0YjAsLDc",
        "colab_type": "text"
      },
      "source": [
        "## 4.2 Utilizando o modelo LinearSVR\n"
      ]
    },
    {
      "cell_type": "code",
      "metadata": {
        "id": "VRxr2p7MsHt3",
        "colab_type": "code",
        "outputId": "31f63066-6a0a-48a2-cdc8-8e380e6220ec",
        "colab": {
          "base_uri": "https://localhost:8080/",
          "height": 231
        }
      },
      "source": [
        "#Instanciando meu modelo Linear\n",
        "modelo_linearSVR = LinearSVR(random_state=43267)\n",
        "\n",
        "#Preenchendo os dados no meu modelo LinearSVR\n",
        "modelo_linearSVR.fit(X_treino, Y_treino)\n",
        "\n",
        "#Fazendo predições com meu modelo LinearSVR, passando meu X de teste\n",
        "Y_LinearSVR_predicoes = modelo_linearSVR.predict(X_teste)"
      ],
      "execution_count": 0,
      "outputs": [
        {
          "output_type": "error",
          "ename": "NameError",
          "evalue": "ignored",
          "traceback": [
            "\u001b[0;31m---------------------------------------------------------------------------\u001b[0m",
            "\u001b[0;31mNameError\u001b[0m                                 Traceback (most recent call last)",
            "\u001b[0;32m<ipython-input-1-262a58054782>\u001b[0m in \u001b[0;36m<module>\u001b[0;34m()\u001b[0m\n\u001b[0;32m----> 1\u001b[0;31m \u001b[0mmodelo_linearSVR\u001b[0m \u001b[0;34m=\u001b[0m \u001b[0mLinearSVR\u001b[0m\u001b[0;34m(\u001b[0m\u001b[0mrandom_state\u001b[0m\u001b[0;34m=\u001b[0m\u001b[0;36m43267\u001b[0m\u001b[0;34m)\u001b[0m\u001b[0;34m\u001b[0m\u001b[0;34m\u001b[0m\u001b[0m\n\u001b[0m\u001b[1;32m      2\u001b[0m \u001b[0;34m\u001b[0m\u001b[0m\n\u001b[1;32m      3\u001b[0m \u001b[0;31m#Preenchendo os dados no meu modelo LinearSVR\u001b[0m\u001b[0;34m\u001b[0m\u001b[0;34m\u001b[0m\u001b[0;34m\u001b[0m\u001b[0m\n\u001b[1;32m      4\u001b[0m \u001b[0mmodelo_linearSVR\u001b[0m\u001b[0;34m.\u001b[0m\u001b[0mfit\u001b[0m\u001b[0;34m(\u001b[0m\u001b[0mX_treino\u001b[0m\u001b[0;34m,\u001b[0m \u001b[0mY_treino\u001b[0m\u001b[0;34m)\u001b[0m\u001b[0;34m\u001b[0m\u001b[0;34m\u001b[0m\u001b[0m\n\u001b[1;32m      5\u001b[0m \u001b[0;34m\u001b[0m\u001b[0m\n",
            "\u001b[0;31mNameError\u001b[0m: name 'LinearSVR' is not defined"
          ]
        }
      ]
    },
    {
      "cell_type": "code",
      "metadata": {
        "id": "B-L5v-UUtKej",
        "colab_type": "code",
        "outputId": "f7aa1824-4d35-4b55-94a8-1180ee15137d",
        "colab": {
          "base_uri": "https://localhost:8080/",
          "height": 34
        }
      },
      "source": [
        "# Utilizando a métrica mean_squared_error para avaliar o quão \"bom\" foi esse modelo\n",
        "avaliacao_LinearSVR = mean_squared_error(Y_teste, Y_LinearSVR_predicoes)\n",
        "\n",
        "print(f\"Minha avaliação nos dados de teste foi de {avaliacao_LinearSVR}\")\n"
      ],
      "execution_count": 0,
      "outputs": [
        {
          "output_type": "stream",
          "text": [
            "Minha avaliação nos dados de teste foi de 9074.08743399968\n"
          ],
          "name": "stdout"
        }
      ]
    },
    {
      "cell_type": "markdown",
      "metadata": {
        "id": "PEtuMKQXuTVV",
        "colab_type": "text"
      },
      "source": [
        "## 4.3 Utilizando o modelo LinearSVR com C = 2\n",
        "\n",
        "Score (9074.25189815903)"
      ]
    },
    {
      "cell_type": "code",
      "metadata": {
        "id": "1bdcjGdatwv1",
        "colab_type": "code",
        "colab": {}
      },
      "source": [
        "#Instanciando meu modelo Linear\n",
        "modelo_linearSVR_2 = LinearSVR(C = 2,random_state=43267)"
      ],
      "execution_count": 0,
      "outputs": []
    },
    {
      "cell_type": "code",
      "metadata": {
        "id": "wJClXy0yuc74",
        "colab_type": "code",
        "outputId": "16abf388-3f2d-416c-89b7-64a6e278717f",
        "colab": {
          "base_uri": "https://localhost:8080/",
          "height": 122
        }
      },
      "source": [
        "#Preenchendo os dados no meu modelo LinearSVR\n",
        "modelo_linearSVR_2.fit(X_treino, Y_treino)"
      ],
      "execution_count": 0,
      "outputs": [
        {
          "output_type": "stream",
          "text": [
            "/usr/local/lib/python3.6/dist-packages/sklearn/svm/_base.py:947: ConvergenceWarning: Liblinear failed to converge, increase the number of iterations.\n",
            "  \"the number of iterations.\", ConvergenceWarning)\n"
          ],
          "name": "stderr"
        },
        {
          "output_type": "execute_result",
          "data": {
            "text/plain": [
              "LinearSVR(C=2, dual=True, epsilon=0.0, fit_intercept=True,\n",
              "          intercept_scaling=1.0, loss='epsilon_insensitive', max_iter=1000,\n",
              "          random_state=43267, tol=0.0001, verbose=0)"
            ]
          },
          "metadata": {
            "tags": []
          },
          "execution_count": 37
        }
      ]
    },
    {
      "cell_type": "code",
      "metadata": {
        "id": "RgRkftRoudGr",
        "colab_type": "code",
        "colab": {}
      },
      "source": [
        "#Fazendo predições com meu modelo LinearSVR, passando meu X de teste\n",
        "Y_LinearSVR_predicoes_2 = modelo_linearSVR_2.predict(X_teste)"
      ],
      "execution_count": 0,
      "outputs": []
    },
    {
      "cell_type": "code",
      "metadata": {
        "id": "x3vHLnTHuhuV",
        "colab_type": "code",
        "outputId": "e55f32be-7235-4634-ff34-d496c6132358",
        "colab": {
          "base_uri": "https://localhost:8080/",
          "height": 34
        }
      },
      "source": [
        "# Utilizando a métrica mean_squared_error para avaliar o quão \"bom\" foi esse modelo\n",
        "avaliacao_LinearSVR_2 = mean_squared_error(Y_teste, Y_LinearSVR_predicoes_2)\n",
        "\n",
        "print(f\"Minha avaliação nos dados de teste foi de {avaliacao_LinearSVR_2}\")"
      ],
      "execution_count": 0,
      "outputs": [
        {
          "output_type": "stream",
          "text": [
            "Minha avaliação nos dados de teste foi de 9074.25189815903\n"
          ],
          "name": "stdout"
        }
      ]
    },
    {
      "cell_type": "markdown",
      "metadata": {
        "id": "WzBTwxpuwYxF",
        "colab_type": "text"
      },
      "source": [
        "## 4.4 Utilizando o modelo LinearSVR com C = 3\n"
      ]
    },
    {
      "cell_type": "code",
      "metadata": {
        "id": "diHwXIppvuyy",
        "colab_type": "code",
        "colab": {}
      },
      "source": [
        "#Instanciando meu modelo Linear\n",
        "modelo_linearSVR_3 = LinearSVR(C = 3,random_state=43267)"
      ],
      "execution_count": 0,
      "outputs": []
    },
    {
      "cell_type": "code",
      "metadata": {
        "id": "dO3SiPRvxFgs",
        "colab_type": "code",
        "outputId": "73919368-7d0e-4f42-ba7d-559e70000033",
        "colab": {
          "base_uri": "https://localhost:8080/",
          "height": 122
        }
      },
      "source": [
        "#Preenchendo os dados no meu modelo LinearSVR\n",
        "modelo_linearSVR_3.fit(X_treino, Y_treino)"
      ],
      "execution_count": 0,
      "outputs": [
        {
          "output_type": "stream",
          "text": [
            "/usr/local/lib/python3.6/dist-packages/sklearn/svm/_base.py:947: ConvergenceWarning: Liblinear failed to converge, increase the number of iterations.\n",
            "  \"the number of iterations.\", ConvergenceWarning)\n"
          ],
          "name": "stderr"
        },
        {
          "output_type": "execute_result",
          "data": {
            "text/plain": [
              "LinearSVR(C=3, dual=True, epsilon=0.0, fit_intercept=True,\n",
              "          intercept_scaling=1.0, loss='epsilon_insensitive', max_iter=1000,\n",
              "          random_state=43267, tol=0.0001, verbose=0)"
            ]
          },
          "metadata": {
            "tags": []
          },
          "execution_count": 41
        }
      ]
    },
    {
      "cell_type": "code",
      "metadata": {
        "id": "rLru5LenxJNt",
        "colab_type": "code",
        "outputId": "c2a2d3eb-d647-4332-d963-7b0b79a9ed8c",
        "colab": {
          "base_uri": "https://localhost:8080/",
          "height": 34
        }
      },
      "source": [
        "#Fazendo predições com meu modelo LinearSVR, passando meu X de teste\n",
        "Y_LinearSVR_predicoes_3 = modelo_linearSVR_3.predict(X_teste)\n",
        "\n",
        "# Utilizando a métrica mean_squared_error para avaliar o quão \"bom\" foi esse modelo\n",
        "avaliacao_LinearSVR_3 = mean_squared_error(Y_teste, Y_LinearSVR_predicoes_3)\n",
        "\n",
        "print(f\"Minha avaliação nos dados de teste foi de {avaliacao_LinearSVR_3}\")"
      ],
      "execution_count": 0,
      "outputs": [
        {
          "output_type": "stream",
          "text": [
            "Minha avaliação nos dados de teste foi de 9075.830637603127\n"
          ],
          "name": "stdout"
        }
      ]
    },
    {
      "cell_type": "markdown",
      "metadata": {
        "id": "nK6IhnrbJazo",
        "colab_type": "text"
      },
      "source": [
        "## 4.5 Tentando achar a melhor quantidade para C para modelo LinearSVR"
      ]
    },
    {
      "cell_type": "code",
      "metadata": {
        "id": "7NcuCJDRJgzW",
        "colab_type": "code",
        "outputId": "8293bb87-10f2-4567-e85a-32b22500a641",
        "colab": {
          "base_uri": "https://localhost:8080/",
          "height": 34
        }
      },
      "source": [
        "resultado  = pd.DataFrame(columns=['C','avaliacao'])\n",
        "\n",
        "for i in range(1,2):\n",
        "  modeloLinear = LinearSVR(C = i/100000,random_state=43267)\n",
        "  modeloLinear.fit(X_treino, Y_treino)\n",
        "  predicoes = modeloLinear.predict(X_teste)\n",
        "  avaliacao = mean_squared_error(Y_teste, predicoes)\n",
        "  print(avaliacao)\n",
        "  temp = pd.DataFrame(data=[[i/100000,avaliacao]],columns=['C','avaliacao'])\n",
        "\n",
        "  resultado = pd.concat([resultado,temp])\n",
        "  resultado"
      ],
      "execution_count": 0,
      "outputs": [
        {
          "output_type": "stream",
          "text": [
            "2422.888683918507\n"
          ],
          "name": "stdout"
        }
      ]
    },
    {
      "cell_type": "code",
      "metadata": {
        "id": "kcq91Iy-RcGZ",
        "colab_type": "code",
        "outputId": "bbc34e02-0d1e-4917-ae00-e5ba0725ffe1",
        "colab": {
          "base_uri": "https://localhost:8080/",
          "height": 80
        }
      },
      "source": [
        "resultado.sort_values('avaliacao')"
      ],
      "execution_count": 0,
      "outputs": [
        {
          "output_type": "execute_result",
          "data": {
            "text/html": [
              "<div>\n",
              "<style scoped>\n",
              "    .dataframe tbody tr th:only-of-type {\n",
              "        vertical-align: middle;\n",
              "    }\n",
              "\n",
              "    .dataframe tbody tr th {\n",
              "        vertical-align: top;\n",
              "    }\n",
              "\n",
              "    .dataframe thead th {\n",
              "        text-align: right;\n",
              "    }\n",
              "</style>\n",
              "<table border=\"1\" class=\"dataframe\">\n",
              "  <thead>\n",
              "    <tr style=\"text-align: right;\">\n",
              "      <th></th>\n",
              "      <th>C</th>\n",
              "      <th>avaliacao</th>\n",
              "    </tr>\n",
              "  </thead>\n",
              "  <tbody>\n",
              "    <tr>\n",
              "      <th>0</th>\n",
              "      <td>0.00001</td>\n",
              "      <td>2422.888684</td>\n",
              "    </tr>\n",
              "  </tbody>\n",
              "</table>\n",
              "</div>"
            ],
            "text/plain": [
              "         C    avaliacao\n",
              "0  0.00001  2422.888684"
            ]
          },
          "metadata": {
            "tags": []
          },
          "execution_count": 44
        }
      ]
    },
    {
      "cell_type": "markdown",
      "metadata": {
        "id": "9Lc2gfawCNki",
        "colab_type": "text"
      },
      "source": [
        "## 4.6 Utilizando o modelo SVR"
      ]
    },
    {
      "cell_type": "code",
      "metadata": {
        "id": "zapTHF6PyS3D",
        "colab_type": "code",
        "colab": {}
      },
      "source": [
        "modelo_SVR = SVR(max_iter = 20000, C= 3)"
      ],
      "execution_count": 0,
      "outputs": []
    },
    {
      "cell_type": "code",
      "metadata": {
        "id": "a-NLyYTiyVJz",
        "colab_type": "code",
        "outputId": "b0126e73-1f73-4742-9069-eafdcf001864",
        "colab": {
          "base_uri": "https://localhost:8080/",
          "height": 105
        }
      },
      "source": [
        "modelo_SVR.fit(X_treino, Y_treino)"
      ],
      "execution_count": 0,
      "outputs": [
        {
          "output_type": "stream",
          "text": [
            "/usr/local/lib/python3.6/dist-packages/sklearn/svm/_base.py:231: ConvergenceWarning: Solver terminated early (max_iter=2).  Consider pre-processing your data with StandardScaler or MinMaxScaler.\n",
            "  % self.max_iter, ConvergenceWarning)\n"
          ],
          "name": "stderr"
        },
        {
          "output_type": "execute_result",
          "data": {
            "text/plain": [
              "SVR(C=3, cache_size=200, coef0=0.0, degree=3, epsilon=0.1, gamma='scale',\n",
              "    kernel='rbf', max_iter=2, shrinking=True, tol=0.001, verbose=False)"
            ]
          },
          "metadata": {
            "tags": []
          },
          "execution_count": 46
        }
      ]
    },
    {
      "cell_type": "code",
      "metadata": {
        "id": "UvH-SFriyiTr",
        "colab_type": "code",
        "outputId": "d7eb9c2e-fa6e-4fa4-c279-7dd6e21ab9e6",
        "colab": {
          "base_uri": "https://localhost:8080/",
          "height": 34
        }
      },
      "source": [
        "#Fazendo predições com meu modelo LinearSVR, passando meu X de teste\n",
        "Y_SVR_predicoes = modelo_SVR.predict(X_teste)\n",
        "\n",
        "# Utilizando a métrica mean_squared_error para avaliar o quão \"bom\" foi esse modelo\n",
        "avaliacao_SVR = mean_squared_error(Y_teste, Y_SVR_predicoes)\n",
        "\n",
        "print(f\"Minha avaliação nos dados de teste foi de {avaliacao_SVR}\")"
      ],
      "execution_count": 0,
      "outputs": [
        {
          "output_type": "stream",
          "text": [
            "Minha avaliação nos dados de teste foi de 25258.710500167967\n"
          ],
          "name": "stdout"
        }
      ]
    },
    {
      "cell_type": "markdown",
      "metadata": {
        "id": "QhSpNt4NGSMa",
        "colab_type": "text"
      },
      "source": [
        "## 4.7 Utilizando o modelo SGDRegressor\n",
        "\n",
        "péssimo resultado"
      ]
    },
    {
      "cell_type": "code",
      "metadata": {
        "id": "aQPAjd7lGXTW",
        "colab_type": "code",
        "colab": {}
      },
      "source": [
        "modelo_SGDRegressor = SGDRegressor(random_state=43267, learning_rate = 'adaptive')"
      ],
      "execution_count": 0,
      "outputs": []
    },
    {
      "cell_type": "code",
      "metadata": {
        "id": "l280KkJ3WFLx",
        "colab_type": "code",
        "outputId": "0d614017-ca70-4b4c-e04e-9f9bcb1f6b37",
        "colab": {
          "base_uri": "https://localhost:8080/",
          "height": 173
        }
      },
      "source": [
        "modelo_SGDRegressor.fit(X_treino, Y_treino)"
      ],
      "execution_count": 0,
      "outputs": [
        {
          "output_type": "stream",
          "text": [
            "/usr/local/lib/python3.6/dist-packages/sklearn/linear_model/_stochastic_gradient.py:1187: ConvergenceWarning: Maximum number of iteration reached before convergence. Consider increasing max_iter to improve the fit.\n",
            "  ConvergenceWarning)\n"
          ],
          "name": "stderr"
        },
        {
          "output_type": "execute_result",
          "data": {
            "text/plain": [
              "SGDRegressor(alpha=0.0001, average=False, early_stopping=False, epsilon=0.1,\n",
              "             eta0=0.01, fit_intercept=True, l1_ratio=0.15,\n",
              "             learning_rate='adaptive', loss='squared_loss', max_iter=1000,\n",
              "             n_iter_no_change=5, penalty='l2', power_t=0.25, random_state=43267,\n",
              "             shuffle=True, tol=0.001, validation_fraction=0.1, verbose=0,\n",
              "             warm_start=False)"
            ]
          },
          "metadata": {
            "tags": []
          },
          "execution_count": 49
        }
      ]
    },
    {
      "cell_type": "code",
      "metadata": {
        "id": "ShdBA0IMWTbW",
        "colab_type": "code",
        "outputId": "421671b6-b6d3-4fd4-b61f-f148757a80a7",
        "colab": {
          "base_uri": "https://localhost:8080/",
          "height": 34
        }
      },
      "source": [
        "#Fazendo predições com meu modelo LinearSVR, passando meu X de teste\n",
        "Y_SGDRegressor_predicoes = modelo_SGDRegressor.predict(X_teste)\n",
        "\n",
        "# Utilizando a métrica mean_squared_error para avaliar o quão \"bom\" foi esse modelo\n",
        "avaliacao_SVGDRegressor = mean_squared_error(Y_teste, Y_SGDRegressor_predicoes)\n",
        "\n",
        "print(f\"Minha avaliação nos dados de teste foi de {avaliacao_SVGDRegressor}\")"
      ],
      "execution_count": 0,
      "outputs": [
        {
          "output_type": "stream",
          "text": [
            "Minha avaliação nos dados de teste foi de 7.229069147430493e+18\n"
          ],
          "name": "stdout"
        }
      ]
    },
    {
      "cell_type": "markdown",
      "metadata": {
        "id": "e95C_TzXXTQp",
        "colab_type": "text"
      },
      "source": [
        "## 4.8 Utilizando o modelo Lasso\n",
        "\n",
        "2177.39094863361"
      ]
    },
    {
      "cell_type": "code",
      "metadata": {
        "id": "-UvFeMHIXk3A",
        "colab_type": "code",
        "outputId": "7a852aa2-06db-4f6a-ad2b-0396e4cfbc04",
        "colab": {
          "base_uri": "https://localhost:8080/",
          "height": 34
        }
      },
      "source": [
        "modelo_Lasso = Lasso(random_state=43267, alpha=1/51)\n",
        "\n",
        "modelo_Lasso.fit(X_treino, Y_treino)\n",
        "\n",
        "#Fazendo predições com meu modelo LinearSVR, passando meu X de teste\n",
        "Y_Lasso_predicoes = modelo_Lasso.predict(X_teste)\n",
        "\n",
        "# Utilizando a métrica mean_squared_error para avaliar o quão \"bom\" foi esse modelo\n",
        "avaliacao_Lasso = mean_squared_error(Y_teste, Y_Lasso_predicoes)\n",
        "\n",
        "print(f\"Minha avaliação nos dados de teste foi de {avaliacao_Lasso}\")"
      ],
      "execution_count": 0,
      "outputs": [
        {
          "output_type": "stream",
          "text": [
            "Minha avaliação nos dados de teste foi de 2177.8409600087325\n"
          ],
          "name": "stdout"
        }
      ]
    },
    {
      "cell_type": "markdown",
      "metadata": {
        "id": "Vp63qIB3YAIm",
        "colab_type": "text"
      },
      "source": [
        "## 4.9 Explorando o modelo LassoCV"
      ]
    },
    {
      "cell_type": "code",
      "metadata": {
        "id": "3KewTzhOYFKF",
        "colab_type": "code",
        "outputId": "2f22c1d4-77e7-4df9-b640-273c16db20c3",
        "colab": {
          "base_uri": "https://localhost:8080/",
          "height": 34
        }
      },
      "source": [
        "from sklearn.linear_model import LassoLarsCV\n",
        "# random_state=43267\n",
        "modelo_LassoLars = LassoLarsCV()\n",
        "modelo_LassoLars.fit(X_treino, Y_treino)\n",
        "\n",
        "#Fazendo predições com meu modelo LinearSVR, passando meu X de teste\n",
        "Y_Lasso_predicoes = modelo_LassoLars.predict(X_teste)\n",
        "\n",
        "# Utilizando a métrica mean_squared_error para avaliar o quão \"bom\" foi esse modelo\n",
        "avaliacao_Lasso = mean_squared_error(Y_teste, Y_Lasso_predicoes)\n",
        "\n",
        "print(f\"Minha avaliação nos dados de teste foi de {avaliacao_Lasso}\")"
      ],
      "execution_count": 0,
      "outputs": [
        {
          "output_type": "stream",
          "text": [
            "Minha avaliação nos dados de teste foi de 2177.8412693313403\n"
          ],
          "name": "stdout"
        }
      ]
    },
    {
      "cell_type": "code",
      "metadata": {
        "id": "Y2STGcZ3GzHJ",
        "colab_type": "code",
        "outputId": "b54c8fb9-47c6-44ba-f7bf-328daa56d8e8",
        "colab": {
          "base_uri": "https://localhost:8080/",
          "height": 34
        }
      },
      "source": [
        ""
      ],
      "execution_count": 0,
      "outputs": [
        {
          "output_type": "execute_result",
          "data": {
            "text/plain": [
              "528.7101046751434"
            ]
          },
          "metadata": {
            "tags": []
          },
          "execution_count": 137
        }
      ]
    },
    {
      "cell_type": "markdown",
      "metadata": {
        "id": "4UX_XZZmATYO",
        "colab_type": "text"
      },
      "source": [
        "## 4.10 Comparando as predições e o Y_teste\n",
        "\n",
        "** Conclusão, quando maior a nota, melhor foi o desempenho do modelo preditivo ** "
      ]
    },
    {
      "cell_type": "code",
      "metadata": {
        "id": "ooKwjhK2F8ty",
        "colab_type": "code",
        "colab": {}
      },
      "source": [
        "avaliando_modelo = pd.DataFrame(columns=['Y_teste'], data=Y_teste)\n",
        "avaliando_modelo['Y_Lasso_predicoes'] = Y_Lasso_predicoes\n"
      ],
      "execution_count": 0,
      "outputs": []
    },
    {
      "cell_type": "code",
      "metadata": {
        "id": "36ffVr0BG_OM",
        "colab_type": "code",
        "colab": {}
      },
      "source": [
        "avaliando_modelo['Diferenca_Absoluta'] = (avaliando_modelo['Y_teste'] - avaliando_modelo['Y_Lasso_predicoes']) ** 2"
      ],
      "execution_count": 0,
      "outputs": []
    },
    {
      "cell_type": "code",
      "metadata": {
        "id": "ZtY5ioHhHNz4",
        "colab_type": "code",
        "outputId": "b8de3f52-4f8a-4df8-c5aa-1841a12ab352",
        "colab": {
          "base_uri": "https://localhost:8080/",
          "height": 34
        }
      },
      "source": [
        "avaliando_modelo['Diferenca_Absoluta'].mean()"
      ],
      "execution_count": 0,
      "outputs": [
        {
          "output_type": "execute_result",
          "data": {
            "text/plain": [
              "2177.8412693313558"
            ]
          },
          "metadata": {
            "tags": []
          },
          "execution_count": 140
        }
      ]
    },
    {
      "cell_type": "code",
      "metadata": {
        "id": "8ok-h8cgHXYf",
        "colab_type": "code",
        "outputId": "94cbcf8f-9e15-4f11-9da9-1398abd432c8",
        "colab": {
          "base_uri": "https://localhost:8080/",
          "height": 34
        }
      },
      "source": [
        "avaliando_modelo.query(\"Y_teste > 300\")['Diferenca_Absoluta'].mean()"
      ],
      "execution_count": 0,
      "outputs": [
        {
          "output_type": "execute_result",
          "data": {
            "text/plain": [
              "2138.3118547062977"
            ]
          },
          "metadata": {
            "tags": []
          },
          "execution_count": 150
        }
      ]
    },
    {
      "cell_type": "code",
      "metadata": {
        "id": "Z0NZ2Nr7TDLc",
        "colab_type": "code",
        "colab": {}
      },
      "source": [
        "avaliando_modelo.sort_values(by='Diferenca_Absoluta', ascending=False).head(50)"
      ],
      "execution_count": 0,
      "outputs": []
    },
    {
      "cell_type": "markdown",
      "metadata": {
        "id": "m2bNPksZ12VO",
        "colab_type": "text"
      },
      "source": [
        "# 5. Tratando X_treino e Y_treino"
      ]
    },
    {
      "cell_type": "markdown",
      "metadata": {
        "id": "DrHcuJh55AIU",
        "colab_type": "text"
      },
      "source": [
        "## 5.1 Analisando o que posso limpar de dados"
      ]
    },
    {
      "cell_type": "code",
      "metadata": {
        "id": "3lDP6FsnYHmW",
        "colab_type": "code",
        "outputId": "8db8d826-4289-4785-e995-bbc56ab5fe8d",
        "colab": {
          "base_uri": "https://localhost:8080/",
          "height": 204
        }
      },
      "source": [
        "dados_treino.head()"
      ],
      "execution_count": 0,
      "outputs": [
        {
          "output_type": "execute_result",
          "data": {
            "text/html": [
              "<div>\n",
              "<style scoped>\n",
              "    .dataframe tbody tr th:only-of-type {\n",
              "        vertical-align: middle;\n",
              "    }\n",
              "\n",
              "    .dataframe tbody tr th {\n",
              "        vertical-align: top;\n",
              "    }\n",
              "\n",
              "    .dataframe thead th {\n",
              "        text-align: right;\n",
              "    }\n",
              "</style>\n",
              "<table border=\"1\" class=\"dataframe\">\n",
              "  <thead>\n",
              "    <tr style=\"text-align: right;\">\n",
              "      <th></th>\n",
              "      <th>NU_NOTA_CN</th>\n",
              "      <th>NU_NOTA_CH</th>\n",
              "      <th>NU_NOTA_LC</th>\n",
              "      <th>NU_NOTA_MT</th>\n",
              "      <th>NU_NOTA_REDACAO</th>\n",
              "    </tr>\n",
              "  </thead>\n",
              "  <tbody>\n",
              "    <tr>\n",
              "      <th>0</th>\n",
              "      <td>530.7</td>\n",
              "      <td>586.5</td>\n",
              "      <td>575.9</td>\n",
              "      <td>539.0</td>\n",
              "      <td>520.0</td>\n",
              "    </tr>\n",
              "    <tr>\n",
              "      <th>1</th>\n",
              "      <td>439.4</td>\n",
              "      <td>577.9</td>\n",
              "      <td>440.9</td>\n",
              "      <td>488.7</td>\n",
              "      <td>380.0</td>\n",
              "    </tr>\n",
              "    <tr>\n",
              "      <th>2</th>\n",
              "      <td>414.1</td>\n",
              "      <td>548.8</td>\n",
              "      <td>417.2</td>\n",
              "      <td>382.6</td>\n",
              "      <td>600.0</td>\n",
              "    </tr>\n",
              "    <tr>\n",
              "      <th>3</th>\n",
              "      <td>407.9</td>\n",
              "      <td>572.7</td>\n",
              "      <td>558.9</td>\n",
              "      <td>595.4</td>\n",
              "      <td>560.0</td>\n",
              "    </tr>\n",
              "    <tr>\n",
              "      <th>4</th>\n",
              "      <td>617.2</td>\n",
              "      <td>655.7</td>\n",
              "      <td>564.2</td>\n",
              "      <td>660.9</td>\n",
              "      <td>540.0</td>\n",
              "    </tr>\n",
              "  </tbody>\n",
              "</table>\n",
              "</div>"
            ],
            "text/plain": [
              "   NU_NOTA_CN  NU_NOTA_CH  NU_NOTA_LC  NU_NOTA_MT  NU_NOTA_REDACAO\n",
              "0       530.7       586.5       575.9       539.0            520.0\n",
              "1       439.4       577.9       440.9       488.7            380.0\n",
              "2       414.1       548.8       417.2       382.6            600.0\n",
              "3       407.9       572.7       558.9       595.4            560.0\n",
              "4       617.2       655.7       564.2       660.9            540.0"
            ]
          },
          "metadata": {
            "tags": []
          },
          "execution_count": 55
        }
      ]
    },
    {
      "cell_type": "code",
      "metadata": {
        "id": "M4Ughphy187Q",
        "colab_type": "code",
        "outputId": "f838c948-8f95-45fa-c23b-ff005387da68",
        "colab": {
          "base_uri": "https://localhost:8080/",
          "height": 419
        }
      },
      "source": [
        "dados_treino.sort_values(by=['NU_NOTA_CN', 'NU_NOTA_CH', 'NU_NOTA_MT', 'NU_NOTA_REDACAO'])"
      ],
      "execution_count": 0,
      "outputs": [
        {
          "output_type": "execute_result",
          "data": {
            "text/html": [
              "<div>\n",
              "<style scoped>\n",
              "    .dataframe tbody tr th:only-of-type {\n",
              "        vertical-align: middle;\n",
              "    }\n",
              "\n",
              "    .dataframe tbody tr th {\n",
              "        vertical-align: top;\n",
              "    }\n",
              "\n",
              "    .dataframe thead th {\n",
              "        text-align: right;\n",
              "    }\n",
              "</style>\n",
              "<table border=\"1\" class=\"dataframe\">\n",
              "  <thead>\n",
              "    <tr style=\"text-align: right;\">\n",
              "      <th></th>\n",
              "      <th>NU_NOTA_CN</th>\n",
              "      <th>NU_NOTA_CH</th>\n",
              "      <th>NU_NOTA_LC</th>\n",
              "      <th>NU_NOTA_MT</th>\n",
              "      <th>NU_NOTA_REDACAO</th>\n",
              "    </tr>\n",
              "  </thead>\n",
              "  <tbody>\n",
              "    <tr>\n",
              "      <th>94681</th>\n",
              "      <td>0.0</td>\n",
              "      <td>0.0</td>\n",
              "      <td>0.0</td>\n",
              "      <td>0.0</td>\n",
              "      <td>0.0</td>\n",
              "    </tr>\n",
              "    <tr>\n",
              "      <th>5795</th>\n",
              "      <td>0.0</td>\n",
              "      <td>0.0</td>\n",
              "      <td>0.0</td>\n",
              "      <td>0.0</td>\n",
              "      <td>360.0</td>\n",
              "    </tr>\n",
              "    <tr>\n",
              "      <th>2483</th>\n",
              "      <td>0.0</td>\n",
              "      <td>470.4</td>\n",
              "      <td>521.1</td>\n",
              "      <td>0.0</td>\n",
              "      <td>320.0</td>\n",
              "    </tr>\n",
              "    <tr>\n",
              "      <th>145455</th>\n",
              "      <td>0.0</td>\n",
              "      <td>492.9</td>\n",
              "      <td>364.1</td>\n",
              "      <td>0.0</td>\n",
              "      <td>320.0</td>\n",
              "    </tr>\n",
              "    <tr>\n",
              "      <th>123986</th>\n",
              "      <td>0.0</td>\n",
              "      <td>521.8</td>\n",
              "      <td>478.8</td>\n",
              "      <td>0.0</td>\n",
              "      <td>260.0</td>\n",
              "    </tr>\n",
              "    <tr>\n",
              "      <th>...</th>\n",
              "      <td>...</td>\n",
              "      <td>...</td>\n",
              "      <td>...</td>\n",
              "      <td>...</td>\n",
              "      <td>...</td>\n",
              "    </tr>\n",
              "    <tr>\n",
              "      <th>142324</th>\n",
              "      <td>811.6</td>\n",
              "      <td>719.6</td>\n",
              "      <td>683.3</td>\n",
              "      <td>822.1</td>\n",
              "      <td>860.0</td>\n",
              "    </tr>\n",
              "    <tr>\n",
              "      <th>126533</th>\n",
              "      <td>816.3</td>\n",
              "      <td>731.4</td>\n",
              "      <td>630.9</td>\n",
              "      <td>852.0</td>\n",
              "      <td>880.0</td>\n",
              "    </tr>\n",
              "    <tr>\n",
              "      <th>54309</th>\n",
              "      <td>830.7</td>\n",
              "      <td>800.5</td>\n",
              "      <td>714.8</td>\n",
              "      <td>875.3</td>\n",
              "      <td>940.0</td>\n",
              "    </tr>\n",
              "    <tr>\n",
              "      <th>35108</th>\n",
              "      <td>840.5</td>\n",
              "      <td>758.4</td>\n",
              "      <td>703.4</td>\n",
              "      <td>904.9</td>\n",
              "      <td>940.0</td>\n",
              "    </tr>\n",
              "    <tr>\n",
              "      <th>74779</th>\n",
              "      <td>869.6</td>\n",
              "      <td>719.2</td>\n",
              "      <td>642.0</td>\n",
              "      <td>819.3</td>\n",
              "      <td>800.0</td>\n",
              "    </tr>\n",
              "  </tbody>\n",
              "</table>\n",
              "<p>150000 rows × 5 columns</p>\n",
              "</div>"
            ],
            "text/plain": [
              "        NU_NOTA_CN  NU_NOTA_CH  NU_NOTA_LC  NU_NOTA_MT  NU_NOTA_REDACAO\n",
              "94681          0.0         0.0         0.0         0.0              0.0\n",
              "5795           0.0         0.0         0.0         0.0            360.0\n",
              "2483           0.0       470.4       521.1         0.0            320.0\n",
              "145455         0.0       492.9       364.1         0.0            320.0\n",
              "123986         0.0       521.8       478.8         0.0            260.0\n",
              "...            ...         ...         ...         ...              ...\n",
              "142324       811.6       719.6       683.3       822.1            860.0\n",
              "126533       816.3       731.4       630.9       852.0            880.0\n",
              "54309        830.7       800.5       714.8       875.3            940.0\n",
              "35108        840.5       758.4       703.4       904.9            940.0\n",
              "74779        869.6       719.2       642.0       819.3            800.0\n",
              "\n",
              "[150000 rows x 5 columns]"
            ]
          },
          "metadata": {
            "tags": []
          },
          "execution_count": 56
        }
      ]
    },
    {
      "cell_type": "markdown",
      "metadata": {
        "id": "RwnKCyls64_7",
        "colab_type": "text"
      },
      "source": [
        "## 5.2 Tratando quem faltou no dia de Exatas (Ciências da Natureza e Matemática)\n",
        "\n",
        " Quem tiver 0 em Ciencias da Natureza e Matematica, muito provavelmente a pessoa faltou no dia, pois essas provas foram\n",
        " aplicados no mesmo dia (fonte: https://vestibular.brasilescola.uol.com.br/enem/enem-2018.htm) \n",
        "\n",
        "  Para os casos que a pessoa faltou (provavelmente faltou) no dia de exatas (NU_NOTA_CN==0 & NU_NOTA_MT==0)\n",
        " Vou preencher a média geral da NU_NOTA_CN e NU_NOTA_MT nas respectivas colunas \n",
        " e testar se meu modelo preditivo melhorará\n",
        "\n",
        "\n",
        "\n",
        "**Pelo modelo Lasso, aplicando o passo 5.2, consegui reduzir o score de 2177.39094863361 para 2177.3644136496614**\n",
        "       "
      ]
    },
    {
      "cell_type": "code",
      "metadata": {
        "id": "SXAnItn66LLc",
        "colab_type": "code",
        "colab": {}
      },
      "source": [
        "Media_NU_NOTA_CN = dados_treino.NU_NOTA_CN.mean()\n",
        "Media_NU_NOTA_MT = dados_treino.NU_NOTA_MT.mean()"
      ],
      "execution_count": 0,
      "outputs": []
    },
    {
      "cell_type": "code",
      "metadata": {
        "id": "YMpxY84K5WyC",
        "colab_type": "code",
        "colab": {}
      },
      "source": [
        "condicao_NU_NOTA_CN = dados_treino.NU_NOTA_CN == 0\n",
        "condicao_NU_NOTA_MT = dados_treino.NU_NOTA_MT == 0\n",
        "condicao_Dia_2_Possui_Alguma_Nota = (dados_treino.NU_NOTA_LC > 0) | (dados_treino.NU_NOTA_CN > 0) | (dados_treino.NU_NOTA_REDACAO > 0)"
      ],
      "execution_count": 0,
      "outputs": []
    },
    {
      "cell_type": "code",
      "metadata": {
        "id": "BL5EBwfBA2nU",
        "colab_type": "code",
        "outputId": "12471bca-b75f-41a9-e259-aee6c4ccc12c",
        "colab": {
          "base_uri": "https://localhost:8080/",
          "height": 419
        }
      },
      "source": [
        "# Salvando os dados de treino em uma outra variável, assim não perco o estado original \n",
        "dados_treino_limpos_parte_5_2 = dados_treino\n",
        "\n",
        "# Estou selecionando quem tirou zero em ciências naturais e matematica e quem possui pelo menos uma nota maior que zero em portugues, ciencias ou redação\n",
        "# Selecionando os que eu quero, eu troco o valor zero pela nota média geral de todas as notas em Ciências Naturais\n",
        "dados_treino_limpos_parte_5_2['NU_NOTA_CN'].mask(condicao_NU_NOTA_CN & condicao_NU_NOTA_MT & condicao_Dia_2_Possui_Alguma_Nota, \n",
        "                                                 Media_NU_NOTA_CN,\n",
        "                                                 inplace=True)\n",
        "\n",
        "# Estou selecionando quem tirou zero em ciências naturais e matematica e quem possui pelo menos uma nota maior que zero em portugues, ciencias ou redação\n",
        "# Selecionando os que eu quero, eu troco o valor zero pela nota média geral de todas as notas em Matemática\n",
        "dados_treino_limpos_parte_5_2['NU_NOTA_MT'].mask(condicao_NU_NOTA_CN & condicao_NU_NOTA_MT & condicao_Dia_2_Possui_Alguma_Nota, \n",
        "                                                 Media_NU_NOTA_MT,\n",
        "                                                 inplace=True)\n",
        "\n",
        "#Ordenando para validar se surtiu efeito o que eu fiz acima\n",
        "dados_treino_limpos_parte_5_2.sort_values(by=['NU_NOTA_CN', 'NU_NOTA_CH', 'NU_NOTA_MT', 'NU_NOTA_REDACAO'])"
      ],
      "execution_count": 0,
      "outputs": [
        {
          "output_type": "execute_result",
          "data": {
            "text/html": [
              "<div>\n",
              "<style scoped>\n",
              "    .dataframe tbody tr th:only-of-type {\n",
              "        vertical-align: middle;\n",
              "    }\n",
              "\n",
              "    .dataframe tbody tr th {\n",
              "        vertical-align: top;\n",
              "    }\n",
              "\n",
              "    .dataframe thead th {\n",
              "        text-align: right;\n",
              "    }\n",
              "</style>\n",
              "<table border=\"1\" class=\"dataframe\">\n",
              "  <thead>\n",
              "    <tr style=\"text-align: right;\">\n",
              "      <th></th>\n",
              "      <th>NU_NOTA_CN</th>\n",
              "      <th>NU_NOTA_CH</th>\n",
              "      <th>NU_NOTA_LC</th>\n",
              "      <th>NU_NOTA_MT</th>\n",
              "      <th>NU_NOTA_REDACAO</th>\n",
              "    </tr>\n",
              "  </thead>\n",
              "  <tbody>\n",
              "    <tr>\n",
              "      <th>94681</th>\n",
              "      <td>0.0</td>\n",
              "      <td>0.0</td>\n",
              "      <td>0.0</td>\n",
              "      <td>0.0</td>\n",
              "      <td>0.0</td>\n",
              "    </tr>\n",
              "    <tr>\n",
              "      <th>142237</th>\n",
              "      <td>0.0</td>\n",
              "      <td>526.5</td>\n",
              "      <td>548.5</td>\n",
              "      <td>428.6</td>\n",
              "      <td>320.0</td>\n",
              "    </tr>\n",
              "    <tr>\n",
              "      <th>13862</th>\n",
              "      <td>0.0</td>\n",
              "      <td>584.9</td>\n",
              "      <td>612.2</td>\n",
              "      <td>704.2</td>\n",
              "      <td>520.0</td>\n",
              "    </tr>\n",
              "    <tr>\n",
              "      <th>49513</th>\n",
              "      <td>0.0</td>\n",
              "      <td>586.3</td>\n",
              "      <td>499.7</td>\n",
              "      <td>412.8</td>\n",
              "      <td>600.0</td>\n",
              "    </tr>\n",
              "    <tr>\n",
              "      <th>113822</th>\n",
              "      <td>0.0</td>\n",
              "      <td>601.5</td>\n",
              "      <td>607.7</td>\n",
              "      <td>683.4</td>\n",
              "      <td>500.0</td>\n",
              "    </tr>\n",
              "    <tr>\n",
              "      <th>...</th>\n",
              "      <td>...</td>\n",
              "      <td>...</td>\n",
              "      <td>...</td>\n",
              "      <td>...</td>\n",
              "      <td>...</td>\n",
              "    </tr>\n",
              "    <tr>\n",
              "      <th>142324</th>\n",
              "      <td>811.6</td>\n",
              "      <td>719.6</td>\n",
              "      <td>683.3</td>\n",
              "      <td>822.1</td>\n",
              "      <td>860.0</td>\n",
              "    </tr>\n",
              "    <tr>\n",
              "      <th>126533</th>\n",
              "      <td>816.3</td>\n",
              "      <td>731.4</td>\n",
              "      <td>630.9</td>\n",
              "      <td>852.0</td>\n",
              "      <td>880.0</td>\n",
              "    </tr>\n",
              "    <tr>\n",
              "      <th>54309</th>\n",
              "      <td>830.7</td>\n",
              "      <td>800.5</td>\n",
              "      <td>714.8</td>\n",
              "      <td>875.3</td>\n",
              "      <td>940.0</td>\n",
              "    </tr>\n",
              "    <tr>\n",
              "      <th>35108</th>\n",
              "      <td>840.5</td>\n",
              "      <td>758.4</td>\n",
              "      <td>703.4</td>\n",
              "      <td>904.9</td>\n",
              "      <td>940.0</td>\n",
              "    </tr>\n",
              "    <tr>\n",
              "      <th>74779</th>\n",
              "      <td>869.6</td>\n",
              "      <td>719.2</td>\n",
              "      <td>642.0</td>\n",
              "      <td>819.3</td>\n",
              "      <td>800.0</td>\n",
              "    </tr>\n",
              "  </tbody>\n",
              "</table>\n",
              "<p>150000 rows × 5 columns</p>\n",
              "</div>"
            ],
            "text/plain": [
              "        NU_NOTA_CN  NU_NOTA_CH  NU_NOTA_LC  NU_NOTA_MT  NU_NOTA_REDACAO\n",
              "94681          0.0         0.0         0.0         0.0              0.0\n",
              "142237         0.0       526.5       548.5       428.6            320.0\n",
              "13862          0.0       584.9       612.2       704.2            520.0\n",
              "49513          0.0       586.3       499.7       412.8            600.0\n",
              "113822         0.0       601.5       607.7       683.4            500.0\n",
              "...            ...         ...         ...         ...              ...\n",
              "142324       811.6       719.6       683.3       822.1            860.0\n",
              "126533       816.3       731.4       630.9       852.0            880.0\n",
              "54309        830.7       800.5       714.8       875.3            940.0\n",
              "35108        840.5       758.4       703.4       904.9            940.0\n",
              "74779        869.6       719.2       642.0       819.3            800.0\n",
              "\n",
              "[150000 rows x 5 columns]"
            ]
          },
          "metadata": {
            "tags": []
          },
          "execution_count": 59
        }
      ]
    },
    {
      "cell_type": "markdown",
      "metadata": {
        "id": "IJVCol0CFG86",
        "colab_type": "text"
      },
      "source": [
        "## 5.3 Tratando quem faltou no dia de Humanas (Linguagem e Códigos, Ciências Humanas e Redação)\n",
        "\n",
        "Quem tiver nota 0 em Linguagem e Códigos, Ciências Humanas e Redação, vou preencher a média geral de cada matéria e verificar se vai melhorar meu modelo preditivo"
      ]
    },
    {
      "cell_type": "code",
      "metadata": {
        "id": "RyAu96_wFx5g",
        "colab_type": "code",
        "colab": {}
      },
      "source": [
        "Media_NU_NOTA_LC = dados_treino.NU_NOTA_LC.mean()\n",
        "Media_NU_NOTA_CH = dados_treino.NU_NOTA_CH.mean()\n",
        "Media_NU_NOTA_REDACAO = dados_treino.NU_NOTA_REDACAO.mean()"
      ],
      "execution_count": 0,
      "outputs": []
    },
    {
      "cell_type": "code",
      "metadata": {
        "id": "PeNefc7fF07p",
        "colab_type": "code",
        "colab": {}
      },
      "source": [
        "condicao_NU_NOTA_LC = dados_treino.NU_NOTA_LC == 0\n",
        "condicao_NU_NOTA_CH = dados_treino.NU_NOTA_CH == 0\n",
        "condicao_NU_NOTA_REDACAO = dados_treino.NU_NOTA_REDACAO == 0\n",
        "condicao_Dia_1_Possui_Alguma_Nota = (dados_treino.NU_NOTA_MT > 0) | (dados_treino.NU_NOTA_CN > 0) "
      ],
      "execution_count": 0,
      "outputs": []
    },
    {
      "cell_type": "code",
      "metadata": {
        "id": "O_xBH593F1Dj",
        "colab_type": "code",
        "outputId": "6da7431f-fd56-48f5-d048-5c0e3308c797",
        "colab": {
          "base_uri": "https://localhost:8080/",
          "height": 419
        }
      },
      "source": [
        "# Salvando os dados de treino em uma outra variável, assim não perco o estado original \n",
        "dados_treino_limpos_parte_5_3 = dados_treino_limpos_parte_5_2\n",
        "\n",
        "\n",
        "dados_treino_limpos_parte_5_3['NU_NOTA_LC'].mask(condicao_NU_NOTA_LC & condicao_NU_NOTA_CH & condicao_NU_NOTA_REDACAO & condicao_Dia_1_Possui_Alguma_Nota, \n",
        "                                                 Media_NU_NOTA_LC,\n",
        "                                                 inplace=True)\n",
        "\n",
        "\n",
        "dados_treino_limpos_parte_5_3['NU_NOTA_CH'].mask(condicao_NU_NOTA_CN & condicao_NU_NOTA_MT & condicao_Dia_2_Possui_Alguma_Nota, \n",
        "                                                 Media_NU_NOTA_CH,\n",
        "                                                 inplace=True)\n",
        "\n",
        "dados_treino_limpos_parte_5_3['NU_NOTA_REDACAO'].mask(condicao_NU_NOTA_CN & condicao_NU_NOTA_MT & condicao_Dia_2_Possui_Alguma_Nota, \n",
        "                                                 Media_NU_NOTA_REDACAO,\n",
        "                                                 inplace=True)\n",
        "\n",
        "#Ordenando para validar se surtiu efeito o que eu fiz acima\n",
        "dados_treino_limpos_parte_5_3.sort_values(by=['NU_NOTA_LC', 'NU_NOTA_CH','NU_NOTA_REDACAO'])"
      ],
      "execution_count": 0,
      "outputs": [
        {
          "output_type": "execute_result",
          "data": {
            "text/html": [
              "<div>\n",
              "<style scoped>\n",
              "    .dataframe tbody tr th:only-of-type {\n",
              "        vertical-align: middle;\n",
              "    }\n",
              "\n",
              "    .dataframe tbody tr th {\n",
              "        vertical-align: top;\n",
              "    }\n",
              "\n",
              "    .dataframe thead th {\n",
              "        text-align: right;\n",
              "    }\n",
              "</style>\n",
              "<table border=\"1\" class=\"dataframe\">\n",
              "  <thead>\n",
              "    <tr style=\"text-align: right;\">\n",
              "      <th></th>\n",
              "      <th>NU_NOTA_CN</th>\n",
              "      <th>NU_NOTA_CH</th>\n",
              "      <th>NU_NOTA_LC</th>\n",
              "      <th>NU_NOTA_MT</th>\n",
              "      <th>NU_NOTA_REDACAO</th>\n",
              "    </tr>\n",
              "  </thead>\n",
              "  <tbody>\n",
              "    <tr>\n",
              "      <th>94681</th>\n",
              "      <td>0.0</td>\n",
              "      <td>0.0</td>\n",
              "      <td>0.0</td>\n",
              "      <td>0.0</td>\n",
              "      <td>0.0</td>\n",
              "    </tr>\n",
              "    <tr>\n",
              "      <th>26668</th>\n",
              "      <td>410.1</td>\n",
              "      <td>0.0</td>\n",
              "      <td>0.0</td>\n",
              "      <td>398.3</td>\n",
              "      <td>220.0</td>\n",
              "    </tr>\n",
              "    <tr>\n",
              "      <th>55023</th>\n",
              "      <td>388.5</td>\n",
              "      <td>0.0</td>\n",
              "      <td>0.0</td>\n",
              "      <td>489.0</td>\n",
              "      <td>260.0</td>\n",
              "    </tr>\n",
              "    <tr>\n",
              "      <th>59081</th>\n",
              "      <td>483.5</td>\n",
              "      <td>0.0</td>\n",
              "      <td>0.0</td>\n",
              "      <td>420.2</td>\n",
              "      <td>260.0</td>\n",
              "    </tr>\n",
              "    <tr>\n",
              "      <th>81537</th>\n",
              "      <td>369.9</td>\n",
              "      <td>0.0</td>\n",
              "      <td>0.0</td>\n",
              "      <td>442.3</td>\n",
              "      <td>260.0</td>\n",
              "    </tr>\n",
              "    <tr>\n",
              "      <th>...</th>\n",
              "      <td>...</td>\n",
              "      <td>...</td>\n",
              "      <td>...</td>\n",
              "      <td>...</td>\n",
              "      <td>...</td>\n",
              "    </tr>\n",
              "    <tr>\n",
              "      <th>137601</th>\n",
              "      <td>670.8</td>\n",
              "      <td>709.9</td>\n",
              "      <td>764.6</td>\n",
              "      <td>830.1</td>\n",
              "      <td>880.0</td>\n",
              "    </tr>\n",
              "    <tr>\n",
              "      <th>139512</th>\n",
              "      <td>703.2</td>\n",
              "      <td>726.4</td>\n",
              "      <td>766.1</td>\n",
              "      <td>746.4</td>\n",
              "      <td>940.0</td>\n",
              "    </tr>\n",
              "    <tr>\n",
              "      <th>126738</th>\n",
              "      <td>649.9</td>\n",
              "      <td>718.6</td>\n",
              "      <td>772.9</td>\n",
              "      <td>737.0</td>\n",
              "      <td>940.0</td>\n",
              "    </tr>\n",
              "    <tr>\n",
              "      <th>90612</th>\n",
              "      <td>746.1</td>\n",
              "      <td>746.0</td>\n",
              "      <td>777.1</td>\n",
              "      <td>793.7</td>\n",
              "      <td>880.0</td>\n",
              "    </tr>\n",
              "    <tr>\n",
              "      <th>106178</th>\n",
              "      <td>713.3</td>\n",
              "      <td>731.0</td>\n",
              "      <td>787.4</td>\n",
              "      <td>888.0</td>\n",
              "      <td>860.0</td>\n",
              "    </tr>\n",
              "  </tbody>\n",
              "</table>\n",
              "<p>150000 rows × 5 columns</p>\n",
              "</div>"
            ],
            "text/plain": [
              "        NU_NOTA_CN  NU_NOTA_CH  NU_NOTA_LC  NU_NOTA_MT  NU_NOTA_REDACAO\n",
              "94681          0.0         0.0         0.0         0.0              0.0\n",
              "26668        410.1         0.0         0.0       398.3            220.0\n",
              "55023        388.5         0.0         0.0       489.0            260.0\n",
              "59081        483.5         0.0         0.0       420.2            260.0\n",
              "81537        369.9         0.0         0.0       442.3            260.0\n",
              "...            ...         ...         ...         ...              ...\n",
              "137601       670.8       709.9       764.6       830.1            880.0\n",
              "139512       703.2       726.4       766.1       746.4            940.0\n",
              "126738       649.9       718.6       772.9       737.0            940.0\n",
              "90612        746.1       746.0       777.1       793.7            880.0\n",
              "106178       713.3       731.0       787.4       888.0            860.0\n",
              "\n",
              "[150000 rows x 5 columns]"
            ]
          },
          "metadata": {
            "tags": []
          },
          "execution_count": 62
        }
      ]
    },
    {
      "cell_type": "markdown",
      "metadata": {
        "id": "Qta1NpMT5QZO",
        "colab_type": "text"
      },
      "source": [
        "## 5.4 Testando a solução 5.2 e 5.3 dos dados\n",
        "\n",
        "**Parece que pôr a média não alterou muito a avaliação do modelo preditivo**"
      ]
    },
    {
      "cell_type": "code",
      "metadata": {
        "id": "sigbTVLL2dmG",
        "colab_type": "code",
        "outputId": "a735a00b-af3b-405f-8901-e1fd1778955d",
        "colab": {
          "base_uri": "https://localhost:8080/",
          "height": 34
        }
      },
      "source": [
        "coluna_label = 'NU_NOTA_LC'\n",
        "coluna_features = ['NU_NOTA_CN', 'NU_NOTA_CH', 'NU_NOTA_MT', 'NU_NOTA_REDACAO']\n",
        "\n",
        "X_treino_limpos = dados_treino_limpos_parte_5_3[coluna_features].to_numpy()\n",
        "Y_treino_limpos = dados_treino_limpos_parte_5_3[coluna_label].to_numpy()\n",
        "\n",
        "modelo_Lasso = Lasso(random_state=43267)\n",
        "modelo_Lasso.fit(X_treino_limpos, Y_treino_limpos)\n",
        "\n",
        "#Fazendo predições com meu modelo LinearSVR, passando meu X de teste\n",
        "Y_Lasso_predicoes = modelo_Lasso.predict(X_teste)\n",
        "\n",
        "# Utilizando a métrica mean_squared_error para avaliar o quão \"bom\" foi esse modelo\n",
        "avaliacao_Lasso = mean_squared_error(Y_teste, Y_Lasso_predicoes)\n",
        "\n",
        "print(f\"Minha avaliação nos dados de teste foi de {avaliacao_Lasso}\")\n",
        "\n"
      ],
      "execution_count": 0,
      "outputs": [
        {
          "output_type": "stream",
          "text": [
            "Minha avaliação nos dados de teste foi de 2177.883925853574\n"
          ],
          "name": "stdout"
        }
      ]
    },
    {
      "cell_type": "markdown",
      "metadata": {
        "id": "PiLAFcEPHjz6",
        "colab_type": "text"
      },
      "source": [
        "## 5.5 Excluindo quem faltou no primeiro dia(provavelmente) ou segundo dia(provavelmente)"
      ]
    },
    {
      "cell_type": "markdown",
      "metadata": {
        "id": "A6T57sMIH2Ch",
        "colab_type": "text"
      },
      "source": [
        "### 5.5.1 Excluindo quem faltou(provavelmente) no dia de Humanas"
      ]
    },
    {
      "cell_type": "code",
      "metadata": {
        "id": "32BQh1mgErkh",
        "colab_type": "code",
        "colab": {}
      },
      "source": [
        "condicao_NU_NOTA_LC = dados_treino.NU_NOTA_LC > 0\n",
        "condicao_NU_NOTA_CH = dados_treino.NU_NOTA_CH > 0\n",
        "condicao_NU_NOTA_REDACAO = dados_treino.NU_NOTA_REDACAO > 0\n",
        "dados_treino_quem_nao_faltou = dados_treino[condicao_NU_NOTA_LC & condicao_NU_NOTA_CH & condicao_NU_NOTA_REDACAO]"
      ],
      "execution_count": 0,
      "outputs": []
    },
    {
      "cell_type": "code",
      "metadata": {
        "id": "72-cj-DmIJM5",
        "colab_type": "code",
        "outputId": "883a989e-d53b-40ff-bff9-6061967a6b49",
        "colab": {
          "base_uri": "https://localhost:8080/",
          "height": 34
        }
      },
      "source": [
        "dados_treino_quem_nao_faltou.shape"
      ],
      "execution_count": 0,
      "outputs": [
        {
          "output_type": "execute_result",
          "data": {
            "text/plain": [
              "(146809, 5)"
            ]
          },
          "metadata": {
            "tags": []
          },
          "execution_count": 65
        }
      ]
    },
    {
      "cell_type": "markdown",
      "metadata": {
        "id": "2c326iclIkIe",
        "colab_type": "text"
      },
      "source": [
        "### 5.5.2 Excluindo quem faltou(provavelmente) no dia de Exatas"
      ]
    },
    {
      "cell_type": "code",
      "metadata": {
        "id": "4cef1Wr6Iqd7",
        "colab_type": "code",
        "outputId": "655d0fce-10eb-4ac3-c349-2a145fe05ef7",
        "colab": {
          "base_uri": "https://localhost:8080/",
          "height": 71
        }
      },
      "source": [
        "condicao_NU_NOTA_MT = dados_treino.NU_NOTA_MT > 0\n",
        "condicao_NU_NOTA_CN = dados_treino.NU_NOTA_CN > 0\n",
        "dados_treino_quem_nao_faltou = dados_treino_quem_nao_faltou[condicao_NU_NOTA_CN & condicao_NU_NOTA_MT]"
      ],
      "execution_count": 0,
      "outputs": [
        {
          "output_type": "stream",
          "text": [
            "/usr/local/lib/python3.6/dist-packages/ipykernel_launcher.py:3: UserWarning: Boolean Series key will be reindexed to match DataFrame index.\n",
            "  This is separate from the ipykernel package so we can avoid doing imports until\n"
          ],
          "name": "stderr"
        }
      ]
    },
    {
      "cell_type": "markdown",
      "metadata": {
        "id": "4TjOswXqJQvD",
        "colab_type": "text"
      },
      "source": [
        "### 5.5.3 Validando se surtiu algum efeito a exclusão\n",
        "\n",
        "** Conclusão -> Pouqúissima diferença **"
      ]
    },
    {
      "cell_type": "code",
      "metadata": {
        "id": "aP1LaVDDISDB",
        "colab_type": "code",
        "outputId": "79c3545e-9aab-444a-8324-2b0ea7532adb",
        "colab": {
          "base_uri": "https://localhost:8080/",
          "height": 34
        }
      },
      "source": [
        "coluna_label = 'NU_NOTA_LC'\n",
        "coluna_features = ['NU_NOTA_CN', 'NU_NOTA_CH', 'NU_NOTA_MT', 'NU_NOTA_REDACAO']\n",
        "\n",
        "X_treino_limpos = dados_treino_quem_nao_faltou[coluna_features].to_numpy()\n",
        "Y_treino_limpos = dados_treino_quem_nao_faltou[coluna_label].to_numpy()\n",
        "\n",
        "modelo_Lasso = Lasso(random_state=43267)\n",
        "modelo_Lasso.fit(X_treino_limpos, Y_treino_limpos)\n",
        "\n",
        "#Fazendo predições com meu modelo LinearSVR, passando meu X de teste\n",
        "Y_Lasso_predicoes = modelo_Lasso.predict(X_teste)\n",
        "\n",
        "# Utilizando a métrica mean_squared_error para avaliar o quão \"bom\" foi esse modelo\n",
        "avaliacao_Lasso = mean_squared_error(Y_teste, Y_Lasso_predicoes)\n",
        "\n",
        "print(f\"Minha avaliação nos dados de teste foi de {avaliacao_Lasso}\")\n",
        "\n"
      ],
      "execution_count": 0,
      "outputs": [
        {
          "output_type": "stream",
          "text": [
            "Minha avaliação nos dados de teste foi de 2178.5169362703564\n"
          ],
          "name": "stdout"
        }
      ]
    },
    {
      "cell_type": "markdown",
      "metadata": {
        "id": "vsQWJa6JJcAO",
        "colab_type": "text"
      },
      "source": [
        "## 5.6 Tentando melhorar a correlação das notas"
      ]
    },
    {
      "cell_type": "code",
      "metadata": {
        "id": "2yv08ZGcJa8e",
        "colab_type": "code",
        "outputId": "5a367ac4-042b-4931-d968-d920d94aea1a",
        "colab": {
          "base_uri": "https://localhost:8080/",
          "height": 235
        }
      },
      "source": [
        "dados_treino.corr()"
      ],
      "execution_count": 0,
      "outputs": [
        {
          "output_type": "execute_result",
          "data": {
            "text/html": [
              "<div>\n",
              "<style scoped>\n",
              "    .dataframe tbody tr th:only-of-type {\n",
              "        vertical-align: middle;\n",
              "    }\n",
              "\n",
              "    .dataframe tbody tr th {\n",
              "        vertical-align: top;\n",
              "    }\n",
              "\n",
              "    .dataframe thead th {\n",
              "        text-align: right;\n",
              "    }\n",
              "</style>\n",
              "<table border=\"1\" class=\"dataframe\">\n",
              "  <thead>\n",
              "    <tr style=\"text-align: right;\">\n",
              "      <th></th>\n",
              "      <th>NU_NOTA_CN</th>\n",
              "      <th>NU_NOTA_CH</th>\n",
              "      <th>NU_NOTA_LC</th>\n",
              "      <th>NU_NOTA_MT</th>\n",
              "      <th>NU_NOTA_REDACAO</th>\n",
              "      <th>REPLICA_CH</th>\n",
              "    </tr>\n",
              "  </thead>\n",
              "  <tbody>\n",
              "    <tr>\n",
              "      <th>NU_NOTA_CN</th>\n",
              "      <td>1.000000</td>\n",
              "      <td>0.569663</td>\n",
              "      <td>0.596596</td>\n",
              "      <td>0.579674</td>\n",
              "      <td>0.514310</td>\n",
              "      <td>0.569663</td>\n",
              "    </tr>\n",
              "    <tr>\n",
              "      <th>NU_NOTA_CH</th>\n",
              "      <td>0.569663</td>\n",
              "      <td>1.000000</td>\n",
              "      <td>0.697255</td>\n",
              "      <td>0.531716</td>\n",
              "      <td>0.508349</td>\n",
              "      <td>1.000000</td>\n",
              "    </tr>\n",
              "    <tr>\n",
              "      <th>NU_NOTA_LC</th>\n",
              "      <td>0.596596</td>\n",
              "      <td>0.697255</td>\n",
              "      <td>1.000000</td>\n",
              "      <td>0.568762</td>\n",
              "      <td>0.559971</td>\n",
              "      <td>0.697255</td>\n",
              "    </tr>\n",
              "    <tr>\n",
              "      <th>NU_NOTA_MT</th>\n",
              "      <td>0.579674</td>\n",
              "      <td>0.531716</td>\n",
              "      <td>0.568762</td>\n",
              "      <td>1.000000</td>\n",
              "      <td>0.490291</td>\n",
              "      <td>0.531716</td>\n",
              "    </tr>\n",
              "    <tr>\n",
              "      <th>NU_NOTA_REDACAO</th>\n",
              "      <td>0.514310</td>\n",
              "      <td>0.508349</td>\n",
              "      <td>0.559971</td>\n",
              "      <td>0.490291</td>\n",
              "      <td>1.000000</td>\n",
              "      <td>0.508349</td>\n",
              "    </tr>\n",
              "    <tr>\n",
              "      <th>REPLICA_CH</th>\n",
              "      <td>0.569663</td>\n",
              "      <td>1.000000</td>\n",
              "      <td>0.697255</td>\n",
              "      <td>0.531716</td>\n",
              "      <td>0.508349</td>\n",
              "      <td>1.000000</td>\n",
              "    </tr>\n",
              "  </tbody>\n",
              "</table>\n",
              "</div>"
            ],
            "text/plain": [
              "                 NU_NOTA_CN  NU_NOTA_CH  ...  NU_NOTA_REDACAO  REPLICA_CH\n",
              "NU_NOTA_CN         1.000000    0.569663  ...         0.514310    0.569663\n",
              "NU_NOTA_CH         0.569663    1.000000  ...         0.508349    1.000000\n",
              "NU_NOTA_LC         0.596596    0.697255  ...         0.559971    0.697255\n",
              "NU_NOTA_MT         0.579674    0.531716  ...         0.490291    0.531716\n",
              "NU_NOTA_REDACAO    0.514310    0.508349  ...         1.000000    0.508349\n",
              "REPLICA_CH         0.569663    1.000000  ...         0.508349    1.000000\n",
              "\n",
              "[6 rows x 6 columns]"
            ]
          },
          "metadata": {
            "tags": []
          },
          "execution_count": 152
        }
      ]
    },
    {
      "cell_type": "code",
      "metadata": {
        "id": "jpgcWtuqJp3i",
        "colab_type": "code",
        "outputId": "3de2641b-6f12-48cb-fdf2-4ddabc70959b",
        "colab": {
          "base_uri": "https://localhost:8080/",
          "height": 235
        }
      },
      "source": [
        "dados_teste.corr()"
      ],
      "execution_count": 0,
      "outputs": [
        {
          "output_type": "execute_result",
          "data": {
            "text/html": [
              "<div>\n",
              "<style scoped>\n",
              "    .dataframe tbody tr th:only-of-type {\n",
              "        vertical-align: middle;\n",
              "    }\n",
              "\n",
              "    .dataframe tbody tr th {\n",
              "        vertical-align: top;\n",
              "    }\n",
              "\n",
              "    .dataframe thead th {\n",
              "        text-align: right;\n",
              "    }\n",
              "</style>\n",
              "<table border=\"1\" class=\"dataframe\">\n",
              "  <thead>\n",
              "    <tr style=\"text-align: right;\">\n",
              "      <th></th>\n",
              "      <th>NU_NOTA_CN</th>\n",
              "      <th>NU_NOTA_CH</th>\n",
              "      <th>NU_NOTA_LC</th>\n",
              "      <th>NU_NOTA_MT</th>\n",
              "      <th>NU_NOTA_REDACAO</th>\n",
              "      <th>REPLICA_CH</th>\n",
              "    </tr>\n",
              "  </thead>\n",
              "  <tbody>\n",
              "    <tr>\n",
              "      <th>NU_NOTA_CN</th>\n",
              "      <td>1.000000</td>\n",
              "      <td>0.566659</td>\n",
              "      <td>0.588818</td>\n",
              "      <td>0.574146</td>\n",
              "      <td>0.507388</td>\n",
              "      <td>-0.002101</td>\n",
              "    </tr>\n",
              "    <tr>\n",
              "      <th>NU_NOTA_CH</th>\n",
              "      <td>0.566659</td>\n",
              "      <td>1.000000</td>\n",
              "      <td>0.696624</td>\n",
              "      <td>0.522041</td>\n",
              "      <td>0.503655</td>\n",
              "      <td>-0.008074</td>\n",
              "    </tr>\n",
              "    <tr>\n",
              "      <th>NU_NOTA_LC</th>\n",
              "      <td>0.588818</td>\n",
              "      <td>0.696624</td>\n",
              "      <td>1.000000</td>\n",
              "      <td>0.560897</td>\n",
              "      <td>0.552145</td>\n",
              "      <td>-0.005693</td>\n",
              "    </tr>\n",
              "    <tr>\n",
              "      <th>NU_NOTA_MT</th>\n",
              "      <td>0.574146</td>\n",
              "      <td>0.522041</td>\n",
              "      <td>0.560897</td>\n",
              "      <td>1.000000</td>\n",
              "      <td>0.486406</td>\n",
              "      <td>0.004569</td>\n",
              "    </tr>\n",
              "    <tr>\n",
              "      <th>NU_NOTA_REDACAO</th>\n",
              "      <td>0.507388</td>\n",
              "      <td>0.503655</td>\n",
              "      <td>0.552145</td>\n",
              "      <td>0.486406</td>\n",
              "      <td>1.000000</td>\n",
              "      <td>-0.000933</td>\n",
              "    </tr>\n",
              "    <tr>\n",
              "      <th>REPLICA_CH</th>\n",
              "      <td>-0.002101</td>\n",
              "      <td>-0.008074</td>\n",
              "      <td>-0.005693</td>\n",
              "      <td>0.004569</td>\n",
              "      <td>-0.000933</td>\n",
              "      <td>1.000000</td>\n",
              "    </tr>\n",
              "  </tbody>\n",
              "</table>\n",
              "</div>"
            ],
            "text/plain": [
              "                 NU_NOTA_CN  NU_NOTA_CH  ...  NU_NOTA_REDACAO  REPLICA_CH\n",
              "NU_NOTA_CN         1.000000    0.566659  ...         0.507388   -0.002101\n",
              "NU_NOTA_CH         0.566659    1.000000  ...         0.503655   -0.008074\n",
              "NU_NOTA_LC         0.588818    0.696624  ...         0.552145   -0.005693\n",
              "NU_NOTA_MT         0.574146    0.522041  ...         0.486406    0.004569\n",
              "NU_NOTA_REDACAO    0.507388    0.503655  ...         1.000000   -0.000933\n",
              "REPLICA_CH        -0.002101   -0.008074  ...        -0.000933    1.000000\n",
              "\n",
              "[6 rows x 6 columns]"
            ]
          },
          "metadata": {
            "tags": []
          },
          "execution_count": 153
        }
      ]
    },
    {
      "cell_type": "code",
      "metadata": {
        "id": "wKqzrul7KIy3",
        "colab_type": "code",
        "colab": {}
      },
      "source": [
        "dados_treino_com_replica = dados_treino\n",
        "dados_teste_com_replica = dados_teste"
      ],
      "execution_count": 0,
      "outputs": []
    },
    {
      "cell_type": "code",
      "metadata": {
        "id": "_pQOeaWNLOyK",
        "colab_type": "code",
        "outputId": "186c7d70-d202-44db-bd3c-316b8c22382c",
        "colab": {
          "base_uri": "https://localhost:8080/",
          "height": 204
        }
      },
      "source": [
        "dados_treino_com_replica.corr()"
      ],
      "execution_count": 0,
      "outputs": [
        {
          "output_type": "execute_result",
          "data": {
            "text/html": [
              "<div>\n",
              "<style scoped>\n",
              "    .dataframe tbody tr th:only-of-type {\n",
              "        vertical-align: middle;\n",
              "    }\n",
              "\n",
              "    .dataframe tbody tr th {\n",
              "        vertical-align: top;\n",
              "    }\n",
              "\n",
              "    .dataframe thead th {\n",
              "        text-align: right;\n",
              "    }\n",
              "</style>\n",
              "<table border=\"1\" class=\"dataframe\">\n",
              "  <thead>\n",
              "    <tr style=\"text-align: right;\">\n",
              "      <th></th>\n",
              "      <th>NU_NOTA_CN</th>\n",
              "      <th>NU_NOTA_CH</th>\n",
              "      <th>NU_NOTA_LC</th>\n",
              "      <th>NU_NOTA_MT</th>\n",
              "      <th>NU_NOTA_REDACAO</th>\n",
              "    </tr>\n",
              "  </thead>\n",
              "  <tbody>\n",
              "    <tr>\n",
              "      <th>NU_NOTA_CN</th>\n",
              "      <td>1.000000</td>\n",
              "      <td>0.569663</td>\n",
              "      <td>0.596596</td>\n",
              "      <td>0.579674</td>\n",
              "      <td>0.514310</td>\n",
              "    </tr>\n",
              "    <tr>\n",
              "      <th>NU_NOTA_CH</th>\n",
              "      <td>0.569663</td>\n",
              "      <td>1.000000</td>\n",
              "      <td>0.697255</td>\n",
              "      <td>0.531716</td>\n",
              "      <td>0.508349</td>\n",
              "    </tr>\n",
              "    <tr>\n",
              "      <th>NU_NOTA_LC</th>\n",
              "      <td>0.596596</td>\n",
              "      <td>0.697255</td>\n",
              "      <td>1.000000</td>\n",
              "      <td>0.568762</td>\n",
              "      <td>0.559971</td>\n",
              "    </tr>\n",
              "    <tr>\n",
              "      <th>NU_NOTA_MT</th>\n",
              "      <td>0.579674</td>\n",
              "      <td>0.531716</td>\n",
              "      <td>0.568762</td>\n",
              "      <td>1.000000</td>\n",
              "      <td>0.490291</td>\n",
              "    </tr>\n",
              "    <tr>\n",
              "      <th>NU_NOTA_REDACAO</th>\n",
              "      <td>0.514310</td>\n",
              "      <td>0.508349</td>\n",
              "      <td>0.559971</td>\n",
              "      <td>0.490291</td>\n",
              "      <td>1.000000</td>\n",
              "    </tr>\n",
              "  </tbody>\n",
              "</table>\n",
              "</div>"
            ],
            "text/plain": [
              "                 NU_NOTA_CN  NU_NOTA_CH  ...  NU_NOTA_MT  NU_NOTA_REDACAO\n",
              "NU_NOTA_CN         1.000000    0.569663  ...    0.579674         0.514310\n",
              "NU_NOTA_CH         0.569663    1.000000  ...    0.531716         0.508349\n",
              "NU_NOTA_LC         0.596596    0.697255  ...    0.568762         0.559971\n",
              "NU_NOTA_MT         0.579674    0.531716  ...    1.000000         0.490291\n",
              "NU_NOTA_REDACAO    0.514310    0.508349  ...    0.490291         1.000000\n",
              "\n",
              "[5 rows x 5 columns]"
            ]
          },
          "metadata": {
            "tags": []
          },
          "execution_count": 221
        }
      ]
    },
    {
      "cell_type": "code",
      "metadata": {
        "id": "yoO-PBt1LO_X",
        "colab_type": "code",
        "outputId": "988e4314-12fb-4e43-810b-5b32bd89c39d",
        "colab": {
          "base_uri": "https://localhost:8080/",
          "height": 204
        }
      },
      "source": [
        "dados_treino_com_replica.drop(labels='REPLICA_CH', axis=1, inplace=True)\n",
        "dados_treino_com_replica.head()"
      ],
      "execution_count": 0,
      "outputs": [
        {
          "output_type": "execute_result",
          "data": {
            "text/html": [
              "<div>\n",
              "<style scoped>\n",
              "    .dataframe tbody tr th:only-of-type {\n",
              "        vertical-align: middle;\n",
              "    }\n",
              "\n",
              "    .dataframe tbody tr th {\n",
              "        vertical-align: top;\n",
              "    }\n",
              "\n",
              "    .dataframe thead th {\n",
              "        text-align: right;\n",
              "    }\n",
              "</style>\n",
              "<table border=\"1\" class=\"dataframe\">\n",
              "  <thead>\n",
              "    <tr style=\"text-align: right;\">\n",
              "      <th></th>\n",
              "      <th>NU_NOTA_CN</th>\n",
              "      <th>NU_NOTA_CH</th>\n",
              "      <th>NU_NOTA_LC</th>\n",
              "      <th>NU_NOTA_MT</th>\n",
              "      <th>NU_NOTA_REDACAO</th>\n",
              "    </tr>\n",
              "  </thead>\n",
              "  <tbody>\n",
              "    <tr>\n",
              "      <th>0</th>\n",
              "      <td>530.7</td>\n",
              "      <td>586.5</td>\n",
              "      <td>575.9</td>\n",
              "      <td>539.0</td>\n",
              "      <td>520.0</td>\n",
              "    </tr>\n",
              "    <tr>\n",
              "      <th>1</th>\n",
              "      <td>439.4</td>\n",
              "      <td>577.9</td>\n",
              "      <td>440.9</td>\n",
              "      <td>488.7</td>\n",
              "      <td>380.0</td>\n",
              "    </tr>\n",
              "    <tr>\n",
              "      <th>2</th>\n",
              "      <td>414.1</td>\n",
              "      <td>548.8</td>\n",
              "      <td>417.2</td>\n",
              "      <td>382.6</td>\n",
              "      <td>600.0</td>\n",
              "    </tr>\n",
              "    <tr>\n",
              "      <th>3</th>\n",
              "      <td>407.9</td>\n",
              "      <td>572.7</td>\n",
              "      <td>558.9</td>\n",
              "      <td>595.4</td>\n",
              "      <td>560.0</td>\n",
              "    </tr>\n",
              "    <tr>\n",
              "      <th>4</th>\n",
              "      <td>617.2</td>\n",
              "      <td>655.7</td>\n",
              "      <td>564.2</td>\n",
              "      <td>660.9</td>\n",
              "      <td>540.0</td>\n",
              "    </tr>\n",
              "  </tbody>\n",
              "</table>\n",
              "</div>"
            ],
            "text/plain": [
              "   NU_NOTA_CN  NU_NOTA_CH  NU_NOTA_LC  NU_NOTA_MT  NU_NOTA_REDACAO\n",
              "0       530.7       586.5       575.9       539.0            520.0\n",
              "1       439.4       577.9       440.9       488.7            380.0\n",
              "2       414.1       548.8       417.2       382.6            600.0\n",
              "3       407.9       572.7       558.9       595.4            560.0\n",
              "4       617.2       655.7       564.2       660.9            540.0"
            ]
          },
          "metadata": {
            "tags": []
          },
          "execution_count": 219
        }
      ]
    },
    {
      "cell_type": "code",
      "metadata": {
        "id": "J7wz4pLkQNXa",
        "colab_type": "code",
        "outputId": "b65dab0d-a3a6-4d3c-9c3c-b184f6c044b2",
        "colab": {
          "base_uri": "https://localhost:8080/",
          "height": 419
        }
      },
      "source": [
        "dados_treino_com_replica.sort_values(by='NU_NOTA_CH')"
      ],
      "execution_count": 0,
      "outputs": [
        {
          "output_type": "execute_result",
          "data": {
            "text/html": [
              "<div>\n",
              "<style scoped>\n",
              "    .dataframe tbody tr th:only-of-type {\n",
              "        vertical-align: middle;\n",
              "    }\n",
              "\n",
              "    .dataframe tbody tr th {\n",
              "        vertical-align: top;\n",
              "    }\n",
              "\n",
              "    .dataframe thead th {\n",
              "        text-align: right;\n",
              "    }\n",
              "</style>\n",
              "<table border=\"1\" class=\"dataframe\">\n",
              "  <thead>\n",
              "    <tr style=\"text-align: right;\">\n",
              "      <th></th>\n",
              "      <th>NU_NOTA_CN</th>\n",
              "      <th>NU_NOTA_CH</th>\n",
              "      <th>NU_NOTA_LC</th>\n",
              "      <th>NU_NOTA_MT</th>\n",
              "      <th>NU_NOTA_REDACAO</th>\n",
              "    </tr>\n",
              "  </thead>\n",
              "  <tbody>\n",
              "    <tr>\n",
              "      <th>351</th>\n",
              "      <td>437.5</td>\n",
              "      <td>0.0</td>\n",
              "      <td>460.8</td>\n",
              "      <td>494.5</td>\n",
              "      <td>320.0</td>\n",
              "    </tr>\n",
              "    <tr>\n",
              "      <th>129392</th>\n",
              "      <td>575.1</td>\n",
              "      <td>0.0</td>\n",
              "      <td>412.7</td>\n",
              "      <td>593.0</td>\n",
              "      <td>760.0</td>\n",
              "    </tr>\n",
              "    <tr>\n",
              "      <th>97828</th>\n",
              "      <td>373.5</td>\n",
              "      <td>0.0</td>\n",
              "      <td>435.5</td>\n",
              "      <td>414.9</td>\n",
              "      <td>320.0</td>\n",
              "    </tr>\n",
              "    <tr>\n",
              "      <th>144875</th>\n",
              "      <td>532.0</td>\n",
              "      <td>0.0</td>\n",
              "      <td>325.2</td>\n",
              "      <td>482.2</td>\n",
              "      <td>700.0</td>\n",
              "    </tr>\n",
              "    <tr>\n",
              "      <th>85152</th>\n",
              "      <td>457.4</td>\n",
              "      <td>0.0</td>\n",
              "      <td>0.0</td>\n",
              "      <td>666.3</td>\n",
              "      <td>500.0</td>\n",
              "    </tr>\n",
              "    <tr>\n",
              "      <th>...</th>\n",
              "      <td>...</td>\n",
              "      <td>...</td>\n",
              "      <td>...</td>\n",
              "      <td>...</td>\n",
              "      <td>...</td>\n",
              "    </tr>\n",
              "    <tr>\n",
              "      <th>79737</th>\n",
              "      <td>776.8</td>\n",
              "      <td>803.5</td>\n",
              "      <td>642.8</td>\n",
              "      <td>759.5</td>\n",
              "      <td>960.0</td>\n",
              "    </tr>\n",
              "    <tr>\n",
              "      <th>94746</th>\n",
              "      <td>713.3</td>\n",
              "      <td>803.6</td>\n",
              "      <td>685.0</td>\n",
              "      <td>768.1</td>\n",
              "      <td>820.0</td>\n",
              "    </tr>\n",
              "    <tr>\n",
              "      <th>82900</th>\n",
              "      <td>699.3</td>\n",
              "      <td>806.0</td>\n",
              "      <td>638.4</td>\n",
              "      <td>836.8</td>\n",
              "      <td>920.0</td>\n",
              "    </tr>\n",
              "    <tr>\n",
              "      <th>14199</th>\n",
              "      <td>766.4</td>\n",
              "      <td>808.1</td>\n",
              "      <td>691.0</td>\n",
              "      <td>794.8</td>\n",
              "      <td>940.0</td>\n",
              "    </tr>\n",
              "    <tr>\n",
              "      <th>86025</th>\n",
              "      <td>730.8</td>\n",
              "      <td>825.8</td>\n",
              "      <td>722.0</td>\n",
              "      <td>788.6</td>\n",
              "      <td>820.0</td>\n",
              "    </tr>\n",
              "  </tbody>\n",
              "</table>\n",
              "<p>150000 rows × 5 columns</p>\n",
              "</div>"
            ],
            "text/plain": [
              "        NU_NOTA_CN  NU_NOTA_CH  NU_NOTA_LC  NU_NOTA_MT  NU_NOTA_REDACAO\n",
              "351          437.5         0.0       460.8       494.5            320.0\n",
              "129392       575.1         0.0       412.7       593.0            760.0\n",
              "97828        373.5         0.0       435.5       414.9            320.0\n",
              "144875       532.0         0.0       325.2       482.2            700.0\n",
              "85152        457.4         0.0         0.0       666.3            500.0\n",
              "...            ...         ...         ...         ...              ...\n",
              "79737        776.8       803.5       642.8       759.5            960.0\n",
              "94746        713.3       803.6       685.0       768.1            820.0\n",
              "82900        699.3       806.0       638.4       836.8            920.0\n",
              "14199        766.4       808.1       691.0       794.8            940.0\n",
              "86025        730.8       825.8       722.0       788.6            820.0\n",
              "\n",
              "[150000 rows x 5 columns]"
            ]
          },
          "metadata": {
            "tags": []
          },
          "execution_count": 220
        }
      ]
    },
    {
      "cell_type": "code",
      "metadata": {
        "id": "dXsyunTOarx1",
        "colab_type": "code",
        "outputId": "6a1ca410-a4c2-41ba-ba3d-29b503cad013",
        "colab": {
          "base_uri": "https://localhost:8080/",
          "height": 221
        }
      },
      "source": [
        "condicao_NU_NOTA_LC = dados_treino_com_replica.NU_NOTA_LC == 0\n",
        "condicao_NU_NOTA_CH = dados_treino_com_replica.NU_NOTA_CH == 0\n",
        "condicao_NU_NOTA_REDACAO = dados_treino_com_replica.NU_NOTA_REDACAO == 0\n",
        "condicao_Dia_1_Possui_Alguma_Nota = (dados_treino_com_replica.NU_NOTA_MT > 0) | (dados_treino_com_replica.NU_NOTA_CN > 0) \n",
        "\n",
        "dados_treino_com_replica['Faltou_no_dia_1'] = int(0)\n",
        "\n",
        "dados_treino_com_replica['Faltou_no_dia_1'].mask(condicao_NU_NOTA_LC & condicao_NU_NOTA_CH & condicao_NU_NOTA_REDACAO & condicao_Dia_1_Possui_Alguma_Nota, \n",
        "                                                 1\n",
        "                                                 )"
      ],
      "execution_count": 0,
      "outputs": [
        {
          "output_type": "execute_result",
          "data": {
            "text/plain": [
              "0         0\n",
              "1         0\n",
              "2         0\n",
              "3         0\n",
              "4         0\n",
              "         ..\n",
              "149995    0\n",
              "149996    0\n",
              "149997    0\n",
              "149998    0\n",
              "149999    0\n",
              "Name: Faltou_no_dia_1, Length: 150000, dtype: int64"
            ]
          },
          "metadata": {
            "tags": []
          },
          "execution_count": 239
        }
      ]
    },
    {
      "cell_type": "code",
      "metadata": {
        "id": "PsnhmTKScJ2t",
        "colab_type": "code",
        "outputId": "245770fd-724c-4d10-ad84-cc5f01c9ea60",
        "colab": {
          "base_uri": "https://localhost:8080/",
          "height": 419
        }
      },
      "source": [
        "dados_treino_com_replica.sort_values(by=['NU_NOTA_MT','NU_NOTA_CN'])"
      ],
      "execution_count": 0,
      "outputs": [
        {
          "output_type": "execute_result",
          "data": {
            "text/html": [
              "<div>\n",
              "<style scoped>\n",
              "    .dataframe tbody tr th:only-of-type {\n",
              "        vertical-align: middle;\n",
              "    }\n",
              "\n",
              "    .dataframe tbody tr th {\n",
              "        vertical-align: top;\n",
              "    }\n",
              "\n",
              "    .dataframe thead th {\n",
              "        text-align: right;\n",
              "    }\n",
              "</style>\n",
              "<table border=\"1\" class=\"dataframe\">\n",
              "  <thead>\n",
              "    <tr style=\"text-align: right;\">\n",
              "      <th></th>\n",
              "      <th>NU_NOTA_CN</th>\n",
              "      <th>NU_NOTA_CH</th>\n",
              "      <th>NU_NOTA_LC</th>\n",
              "      <th>NU_NOTA_MT</th>\n",
              "      <th>NU_NOTA_REDACAO</th>\n",
              "      <th>Faltou_no_dia_1</th>\n",
              "    </tr>\n",
              "  </thead>\n",
              "  <tbody>\n",
              "    <tr>\n",
              "      <th>94681</th>\n",
              "      <td>0.0</td>\n",
              "      <td>0.0</td>\n",
              "      <td>0.0</td>\n",
              "      <td>0.0</td>\n",
              "      <td>0.0</td>\n",
              "      <td>0</td>\n",
              "    </tr>\n",
              "    <tr>\n",
              "      <th>16440</th>\n",
              "      <td>362.5</td>\n",
              "      <td>493.2</td>\n",
              "      <td>410.3</td>\n",
              "      <td>0.0</td>\n",
              "      <td>320.0</td>\n",
              "      <td>0</td>\n",
              "    </tr>\n",
              "    <tr>\n",
              "      <th>80544</th>\n",
              "      <td>362.5</td>\n",
              "      <td>0.0</td>\n",
              "      <td>318.8</td>\n",
              "      <td>0.0</td>\n",
              "      <td>0.0</td>\n",
              "      <td>0</td>\n",
              "    </tr>\n",
              "    <tr>\n",
              "      <th>141076</th>\n",
              "      <td>362.5</td>\n",
              "      <td>642.1</td>\n",
              "      <td>588.3</td>\n",
              "      <td>0.0</td>\n",
              "      <td>640.0</td>\n",
              "      <td>0</td>\n",
              "    </tr>\n",
              "    <tr>\n",
              "      <th>55238</th>\n",
              "      <td>380.8</td>\n",
              "      <td>453.3</td>\n",
              "      <td>484.3</td>\n",
              "      <td>0.0</td>\n",
              "      <td>280.0</td>\n",
              "      <td>0</td>\n",
              "    </tr>\n",
              "    <tr>\n",
              "      <th>...</th>\n",
              "      <td>...</td>\n",
              "      <td>...</td>\n",
              "      <td>...</td>\n",
              "      <td>...</td>\n",
              "      <td>...</td>\n",
              "      <td>...</td>\n",
              "    </tr>\n",
              "    <tr>\n",
              "      <th>72358</th>\n",
              "      <td>665.9</td>\n",
              "      <td>754.0</td>\n",
              "      <td>668.8</td>\n",
              "      <td>987.9</td>\n",
              "      <td>720.0</td>\n",
              "      <td>0</td>\n",
              "    </tr>\n",
              "    <tr>\n",
              "      <th>92210</th>\n",
              "      <td>701.7</td>\n",
              "      <td>681.2</td>\n",
              "      <td>648.5</td>\n",
              "      <td>988.1</td>\n",
              "      <td>480.0</td>\n",
              "      <td>0</td>\n",
              "    </tr>\n",
              "    <tr>\n",
              "      <th>114338</th>\n",
              "      <td>706.7</td>\n",
              "      <td>677.1</td>\n",
              "      <td>622.2</td>\n",
              "      <td>988.1</td>\n",
              "      <td>940.0</td>\n",
              "      <td>0</td>\n",
              "    </tr>\n",
              "    <tr>\n",
              "      <th>11875</th>\n",
              "      <td>722.8</td>\n",
              "      <td>718.0</td>\n",
              "      <td>682.4</td>\n",
              "      <td>996.1</td>\n",
              "      <td>900.0</td>\n",
              "      <td>0</td>\n",
              "    </tr>\n",
              "    <tr>\n",
              "      <th>119436</th>\n",
              "      <td>725.1</td>\n",
              "      <td>705.4</td>\n",
              "      <td>645.5</td>\n",
              "      <td>996.1</td>\n",
              "      <td>700.0</td>\n",
              "      <td>0</td>\n",
              "    </tr>\n",
              "  </tbody>\n",
              "</table>\n",
              "<p>150000 rows × 6 columns</p>\n",
              "</div>"
            ],
            "text/plain": [
              "        NU_NOTA_CN  NU_NOTA_CH  ...  NU_NOTA_REDACAO  Faltou_no_dia_1\n",
              "94681          0.0         0.0  ...              0.0                0\n",
              "16440        362.5       493.2  ...            320.0                0\n",
              "80544        362.5         0.0  ...              0.0                0\n",
              "141076       362.5       642.1  ...            640.0                0\n",
              "55238        380.8       453.3  ...            280.0                0\n",
              "...            ...         ...  ...              ...              ...\n",
              "72358        665.9       754.0  ...            720.0                0\n",
              "92210        701.7       681.2  ...            480.0                0\n",
              "114338       706.7       677.1  ...            940.0                0\n",
              "11875        722.8       718.0  ...            900.0                0\n",
              "119436       725.1       705.4  ...            700.0                0\n",
              "\n",
              "[150000 rows x 6 columns]"
            ]
          },
          "metadata": {
            "tags": []
          },
          "execution_count": 242
        }
      ]
    },
    {
      "cell_type": "markdown",
      "metadata": {
        "id": "0HTRvNt4Lzry",
        "colab_type": "text"
      },
      "source": [
        "## 5.7 **(MELHOR RESULTADO)** Tentando colocar mais notas baixas de LC no DataFrame pra ver se consigo melhorar o modelo preditivo\n",
        "\n",
        "** Melhorou sutilmente **\n",
        "\n",
        "> Indented block\n",
        "\n"
      ]
    },
    {
      "cell_type": "code",
      "metadata": {
        "id": "fxc02QNILPJX",
        "colab_type": "code",
        "outputId": "57693000-eef2-4251-8205-7112e67b104d",
        "colab": {
          "base_uri": "https://localhost:8080/",
          "height": 34
        }
      },
      "source": [
        "dados_treino_modificado = dados_treino\n",
        "dados_treino_LC_menor_que_200 = dados_treino_modificado.query('NU_NOTA_LC < 200')\n",
        "dados_treino_modificado_final = pd.concat(objs=[dados_treino_modificado,dados_treino_LC_menor_que_200])\n",
        "dados_treino_modificado_final.shape"
      ],
      "execution_count": 0,
      "outputs": [
        {
          "output_type": "execute_result",
          "data": {
            "text/plain": [
              "(150043, 6)"
            ]
          },
          "metadata": {
            "tags": []
          },
          "execution_count": 201
        }
      ]
    },
    {
      "cell_type": "code",
      "metadata": {
        "id": "PRJAQNAwMFYZ",
        "colab_type": "code",
        "outputId": "bdce4a7a-666c-44ac-8fed-aba626ae2172",
        "colab": {
          "base_uri": "https://localhost:8080/",
          "height": 34
        }
      },
      "source": [
        "coluna_label = 'NU_NOTA_LC'\n",
        "coluna_features = ['NU_NOTA_CN', 'NU_NOTA_CH', 'NU_NOTA_MT', 'NU_NOTA_REDACAO']\n",
        "\n",
        "\n",
        "X_teste = dados_teste[coluna_features].to_numpy()\n",
        "X_treino = dados_treino_modificado_final[coluna_features].to_numpy()\n",
        "Y_treino = dados_treino_modificado_final[coluna_label].to_numpy()\n",
        "\n",
        "modelo_Lasso = Lasso(random_state=43267)\n",
        "modelo_Lasso.fit(X_treino, Y_treino)\n",
        "\n",
        "#Fazendo predições com meu modelo LinearSVR, passando meu X de teste\n",
        "Y_Lasso_predicoes = modelo_Lasso.predict(X_teste)\n",
        "\n",
        "# Utilizando a métrica mean_squared_error para avaliar o quão \"bom\" foi esse modelo\n",
        "avaliacao_Lasso = mean_squared_error(Y_teste, Y_Lasso_predicoes)\n",
        "\n",
        "print(f\"Minha avaliação nos dados de teste foi de {avaliacao_Lasso}\")"
      ],
      "execution_count": 0,
      "outputs": [
        {
          "output_type": "stream",
          "text": [
            "Minha avaliação nos dados de teste foi de 2177.1748320953766\n"
          ],
          "name": "stdout"
        }
      ]
    },
    {
      "cell_type": "code",
      "metadata": {
        "id": "99pjiLaAQzva",
        "colab_type": "code",
        "outputId": "b80b4608-f721-4238-81c9-6ac9feaba4a0",
        "colab": {
          "base_uri": "https://localhost:8080/",
          "height": 235
        }
      },
      "source": [
        "dados_treino_modificado_final.corr()"
      ],
      "execution_count": 0,
      "outputs": [
        {
          "output_type": "execute_result",
          "data": {
            "text/html": [
              "<div>\n",
              "<style scoped>\n",
              "    .dataframe tbody tr th:only-of-type {\n",
              "        vertical-align: middle;\n",
              "    }\n",
              "\n",
              "    .dataframe tbody tr th {\n",
              "        vertical-align: top;\n",
              "    }\n",
              "\n",
              "    .dataframe thead th {\n",
              "        text-align: right;\n",
              "    }\n",
              "</style>\n",
              "<table border=\"1\" class=\"dataframe\">\n",
              "  <thead>\n",
              "    <tr style=\"text-align: right;\">\n",
              "      <th></th>\n",
              "      <th>NU_NOTA_CN</th>\n",
              "      <th>NU_NOTA_CH</th>\n",
              "      <th>NU_NOTA_LC</th>\n",
              "      <th>NU_NOTA_MT</th>\n",
              "      <th>NU_NOTA_REDACAO</th>\n",
              "      <th>REPLICA_CH</th>\n",
              "    </tr>\n",
              "  </thead>\n",
              "  <tbody>\n",
              "    <tr>\n",
              "      <th>NU_NOTA_CN</th>\n",
              "      <td>1.000000</td>\n",
              "      <td>0.566804</td>\n",
              "      <td>0.593049</td>\n",
              "      <td>0.579744</td>\n",
              "      <td>0.514337</td>\n",
              "      <td>0.566804</td>\n",
              "    </tr>\n",
              "    <tr>\n",
              "      <th>NU_NOTA_CH</th>\n",
              "      <td>0.566804</td>\n",
              "      <td>1.000000</td>\n",
              "      <td>0.701149</td>\n",
              "      <td>0.529464</td>\n",
              "      <td>0.505717</td>\n",
              "      <td>1.000000</td>\n",
              "    </tr>\n",
              "    <tr>\n",
              "      <th>NU_NOTA_LC</th>\n",
              "      <td>0.593049</td>\n",
              "      <td>0.701149</td>\n",
              "      <td>1.000000</td>\n",
              "      <td>0.565845</td>\n",
              "      <td>0.556679</td>\n",
              "      <td>0.701149</td>\n",
              "    </tr>\n",
              "    <tr>\n",
              "      <th>NU_NOTA_MT</th>\n",
              "      <td>0.579744</td>\n",
              "      <td>0.529464</td>\n",
              "      <td>0.565845</td>\n",
              "      <td>1.000000</td>\n",
              "      <td>0.490294</td>\n",
              "      <td>0.529464</td>\n",
              "    </tr>\n",
              "    <tr>\n",
              "      <th>NU_NOTA_REDACAO</th>\n",
              "      <td>0.514337</td>\n",
              "      <td>0.505717</td>\n",
              "      <td>0.556679</td>\n",
              "      <td>0.490294</td>\n",
              "      <td>1.000000</td>\n",
              "      <td>0.505717</td>\n",
              "    </tr>\n",
              "    <tr>\n",
              "      <th>REPLICA_CH</th>\n",
              "      <td>0.566804</td>\n",
              "      <td>1.000000</td>\n",
              "      <td>0.701149</td>\n",
              "      <td>0.529464</td>\n",
              "      <td>0.505717</td>\n",
              "      <td>1.000000</td>\n",
              "    </tr>\n",
              "  </tbody>\n",
              "</table>\n",
              "</div>"
            ],
            "text/plain": [
              "                 NU_NOTA_CN  NU_NOTA_CH  ...  NU_NOTA_REDACAO  REPLICA_CH\n",
              "NU_NOTA_CN         1.000000    0.566804  ...         0.514337    0.566804\n",
              "NU_NOTA_CH         0.566804    1.000000  ...         0.505717    1.000000\n",
              "NU_NOTA_LC         0.593049    0.701149  ...         0.556679    0.701149\n",
              "NU_NOTA_MT         0.579744    0.529464  ...         0.490294    0.529464\n",
              "NU_NOTA_REDACAO    0.514337    0.505717  ...         1.000000    0.505717\n",
              "REPLICA_CH         0.566804    1.000000  ...         0.505717    1.000000\n",
              "\n",
              "[6 rows x 6 columns]"
            ]
          },
          "metadata": {
            "tags": []
          },
          "execution_count": 222
        }
      ]
    },
    {
      "cell_type": "markdown",
      "metadata": {
        "id": "I_-Pv7_uO41t",
        "colab_type": "text"
      },
      "source": [
        "## 5.8 Tentando pôr mais notas 0 no meu DataFrame"
      ]
    },
    {
      "cell_type": "code",
      "metadata": {
        "id": "FYePYVugO9qA",
        "colab_type": "code",
        "outputId": "12bff691-36cf-4180-dd90-5d32be72e872",
        "colab": {
          "base_uri": "https://localhost:8080/",
          "height": 34
        }
      },
      "source": [
        "dados_treino_modificado_2 = dados_treino\n",
        "dados_treino_LC_menor_que_50 = dados_treino_modificado_2.query('NU_NOTA_LC < 50')\n",
        "dados_treino_modificado_final_2 = pd.concat(objs=[dados_treino_modificado_2,dados_treino_LC_menor_que_50])\n",
        "dados_treino_modificado_final_2.shape"
      ],
      "execution_count": 0,
      "outputs": [
        {
          "output_type": "execute_result",
          "data": {
            "text/plain": [
              "(150043, 6)"
            ]
          },
          "metadata": {
            "tags": []
          },
          "execution_count": 212
        }
      ]
    },
    {
      "cell_type": "code",
      "metadata": {
        "id": "GCpI3r7UPRz8",
        "colab_type": "code",
        "outputId": "11fcea41-fa81-44b9-df73-00b9efeeb06b",
        "colab": {
          "base_uri": "https://localhost:8080/",
          "height": 34
        }
      },
      "source": [
        "coluna_label = 'NU_NOTA_LC'\n",
        "coluna_features = ['NU_NOTA_CN', 'NU_NOTA_CH', 'NU_NOTA_MT', 'NU_NOTA_REDACAO']\n",
        "\n",
        "\n",
        "X_teste = dados_teste[coluna_features].to_numpy()\n",
        "X_treino = dados_treino_modificado_final_2[coluna_features].to_numpy()\n",
        "Y_treino = dados_treino_modificado_final_2[coluna_label].to_numpy()\n",
        "\n",
        "modelo_Lasso = Lasso(random_state=43267)\n",
        "modelo_Lasso.fit(X_treino, Y_treino)\n",
        "\n",
        "#Fazendo predições com meu modelo LinearSVR, passando meu X de teste\n",
        "Y_Lasso_predicoes = modelo_Lasso.predict(X_teste)\n",
        "\n",
        "# Utilizando a métrica mean_squared_error para avaliar o quão \"bom\" foi esse modelo\n",
        "avaliacao_Lasso = mean_squared_error(Y_teste, Y_Lasso_predicoes)\n",
        "\n",
        "print(f\"Minha avaliação nos dados de teste foi de {avaliacao_Lasso}\")"
      ],
      "execution_count": 0,
      "outputs": [
        {
          "output_type": "stream",
          "text": [
            "Minha avaliação nos dados de teste foi de 2177.1748320953766\n"
          ],
          "name": "stdout"
        }
      ]
    },
    {
      "cell_type": "markdown",
      "metadata": {
        "id": "XLdnHnNpKHTF",
        "colab_type": "text"
      },
      "source": [
        "# 6. Analisando o gráfico e vendo o que posso fazer"
      ]
    },
    {
      "cell_type": "markdown",
      "metadata": {
        "id": "kZMphCmZKRAF",
        "colab_type": "text"
      },
      "source": [
        "No gráfico abaixo"
      ]
    },
    {
      "cell_type": "code",
      "metadata": {
        "id": "uExabtFwIZqP",
        "colab_type": "code",
        "outputId": "73f48694-bd78-4e2c-f167-30ae34b98ece",
        "colab": {
          "base_uri": "https://localhost:8080/",
          "height": 554
        }
      },
      "source": [
        "import matplotlib.pyplot as plt\n",
        "\n",
        "plt.figure(figsize=(9,9))\n",
        "sns.scatterplot(x=Y_teste, y=Y_teste - Y_Lasso_predicoes)"
      ],
      "execution_count": 0,
      "outputs": [
        {
          "output_type": "execute_result",
          "data": {
            "text/plain": [
              "<matplotlib.axes._subplots.AxesSubplot at 0x7f6355775d30>"
            ]
          },
          "metadata": {
            "tags": []
          },
          "execution_count": 197
        },
        {
          "output_type": "display_data",
          "data": {
            "image/png": "[encoded data removed]",
            "text/plain": [
              "<Figure size 648x648 with 1 Axes>"
            ]
          },
          "metadata": {
            "tags": [],
            "needs_background": "light"
          }
        }
      ]
    },
    {
      "cell_type": "markdown",
      "metadata": {
        "id": "0wmadCHnM_KO",
        "colab_type": "text"
      },
      "source": [
        "## 6.1 Tentando pegar apenas notas maiores que 320\n",
        "\n",
        "** Conclusão, piorou sutilmente meu modelo preditivo :( ** "
      ]
    },
    {
      "cell_type": "code",
      "metadata": {
        "id": "DIgZHuvNJrMI",
        "colab_type": "code",
        "colab": {}
      },
      "source": [
        "dados_treino_LC_maior_que_320 = dados_treino.query(\"NU_NOTA_LC > 320\")"
      ],
      "execution_count": 0,
      "outputs": []
    },
    {
      "cell_type": "code",
      "metadata": {
        "id": "pbVQQuFLLivo",
        "colab_type": "code",
        "outputId": "5f1e2a40-8a42-4260-98f8-5a1ecf78bd76",
        "colab": {
          "base_uri": "https://localhost:8080/",
          "height": 34
        }
      },
      "source": [
        "coluna_label = 'NU_NOTA_LC'\n",
        "coluna_features = ['NU_NOTA_CN', 'NU_NOTA_CH', 'NU_NOTA_MT', 'NU_NOTA_REDACAO']\n",
        "\n",
        "X_treino_maior_que_320 = dados_treino_LC_maior_que_320[coluna_features].to_numpy()\n",
        "Y_treino_maior_que_320 = dados_treino_LC_maior_que_320[coluna_label].to_numpy()\n",
        "\n",
        "modelo_Lasso = Lasso(random_state=43267)\n",
        "modelo_Lasso.fit(X_treino_maior_que_320, Y_treino_maior_que_320)\n",
        "\n",
        "#Fazendo predições com meu modelo LinearSVR, passando meu X de teste\n",
        "Y_Lasso_predicoes = modelo_Lasso.predict(X_teste)\n",
        "\n",
        "# Utilizando a métrica mean_squared_error para avaliar o quão \"bom\" foi esse modelo\n",
        "avaliacao_Lasso = mean_squared_error(Y_teste, Y_Lasso_predicoes)\n",
        "\n",
        "print(f\"Minha avaliação nos dados de teste foi de {avaliacao_Lasso}\")"
      ],
      "execution_count": 0,
      "outputs": [
        {
          "output_type": "stream",
          "text": [
            "Minha avaliação nos dados de teste foi de 2179.5275319074863\n"
          ],
          "name": "stdout"
        }
      ]
    },
    {
      "cell_type": "markdown",
      "metadata": {
        "id": "n1eREx-INh9c",
        "colab_type": "text"
      },
      "source": [
        "## 6.2 Vou usar apenas a nota de Ciências Humanas que tem uma forte correlação para treinar o modelo preditivo\n",
        "\n",
        "** Conclusão, piorou bastante meu modelo preditivo ** "
      ]
    },
    {
      "cell_type": "code",
      "metadata": {
        "id": "fu6i7UWGLu-x",
        "colab_type": "code",
        "outputId": "6166b84b-5f01-4b88-a270-0133581b70dc",
        "colab": {
          "base_uri": "https://localhost:8080/",
          "height": 204
        }
      },
      "source": [
        "dados_teste.corr()"
      ],
      "execution_count": 0,
      "outputs": [
        {
          "output_type": "execute_result",
          "data": {
            "text/html": [
              "<div>\n",
              "<style scoped>\n",
              "    .dataframe tbody tr th:only-of-type {\n",
              "        vertical-align: middle;\n",
              "    }\n",
              "\n",
              "    .dataframe tbody tr th {\n",
              "        vertical-align: top;\n",
              "    }\n",
              "\n",
              "    .dataframe thead th {\n",
              "        text-align: right;\n",
              "    }\n",
              "</style>\n",
              "<table border=\"1\" class=\"dataframe\">\n",
              "  <thead>\n",
              "    <tr style=\"text-align: right;\">\n",
              "      <th></th>\n",
              "      <th>NU_NOTA_CN</th>\n",
              "      <th>NU_NOTA_CH</th>\n",
              "      <th>NU_NOTA_LC</th>\n",
              "      <th>NU_NOTA_MT</th>\n",
              "      <th>NU_NOTA_REDACAO</th>\n",
              "    </tr>\n",
              "  </thead>\n",
              "  <tbody>\n",
              "    <tr>\n",
              "      <th>NU_NOTA_CN</th>\n",
              "      <td>1.000000</td>\n",
              "      <td>0.566659</td>\n",
              "      <td>0.588818</td>\n",
              "      <td>0.574146</td>\n",
              "      <td>0.507388</td>\n",
              "    </tr>\n",
              "    <tr>\n",
              "      <th>NU_NOTA_CH</th>\n",
              "      <td>0.566659</td>\n",
              "      <td>1.000000</td>\n",
              "      <td>0.696624</td>\n",
              "      <td>0.522041</td>\n",
              "      <td>0.503655</td>\n",
              "    </tr>\n",
              "    <tr>\n",
              "      <th>NU_NOTA_LC</th>\n",
              "      <td>0.588818</td>\n",
              "      <td>0.696624</td>\n",
              "      <td>1.000000</td>\n",
              "      <td>0.560897</td>\n",
              "      <td>0.552145</td>\n",
              "    </tr>\n",
              "    <tr>\n",
              "      <th>NU_NOTA_MT</th>\n",
              "      <td>0.574146</td>\n",
              "      <td>0.522041</td>\n",
              "      <td>0.560897</td>\n",
              "      <td>1.000000</td>\n",
              "      <td>0.486406</td>\n",
              "    </tr>\n",
              "    <tr>\n",
              "      <th>NU_NOTA_REDACAO</th>\n",
              "      <td>0.507388</td>\n",
              "      <td>0.503655</td>\n",
              "      <td>0.552145</td>\n",
              "      <td>0.486406</td>\n",
              "      <td>1.000000</td>\n",
              "    </tr>\n",
              "  </tbody>\n",
              "</table>\n",
              "</div>"
            ],
            "text/plain": [
              "                 NU_NOTA_CN  NU_NOTA_CH  ...  NU_NOTA_MT  NU_NOTA_REDACAO\n",
              "NU_NOTA_CN         1.000000    0.566659  ...    0.574146         0.507388\n",
              "NU_NOTA_CH         0.566659    1.000000  ...    0.522041         0.503655\n",
              "NU_NOTA_LC         0.588818    0.696624  ...    0.560897         0.552145\n",
              "NU_NOTA_MT         0.574146    0.522041  ...    1.000000         0.486406\n",
              "NU_NOTA_REDACAO    0.507388    0.503655  ...    0.486406         1.000000\n",
              "\n",
              "[5 rows x 5 columns]"
            ]
          },
          "metadata": {
            "tags": []
          },
          "execution_count": 71
        }
      ]
    },
    {
      "cell_type": "code",
      "metadata": {
        "id": "DueSD5IZOsR-",
        "colab_type": "code",
        "outputId": "a509542e-a9c9-4652-ee0d-771f5c3efdb6",
        "colab": {
          "base_uri": "https://localhost:8080/",
          "height": 136
        }
      },
      "source": [
        "dados_treino_uma_coluna = dados_treino\n",
        "dados_treino_uma_coluna['REPLICA_CH'] =  dados_treino_uma_coluna['NU_NOTA_CH']\n",
        "coluna_features_uma_coluna = ['NU_NOTA_CH','REPLICA_CH']\n",
        "X_treino_uma_coluna = dados_treino_uma_coluna[coluna_features_uma_coluna].to_numpy()\n",
        "X_treino_uma_coluna"
      ],
      "execution_count": 0,
      "outputs": [
        {
          "output_type": "execute_result",
          "data": {
            "text/plain": [
              "array([[586.5, 586.5],\n",
              "       [577.9, 577.9],\n",
              "       [548.8, 548.8],\n",
              "       ...,\n",
              "       [558.7, 558.7],\n",
              "       [463.5, 463.5],\n",
              "       [611.5, 611.5]])"
            ]
          },
          "metadata": {
            "tags": []
          },
          "execution_count": 72
        }
      ]
    },
    {
      "cell_type": "code",
      "metadata": {
        "id": "jiDCudF8L5BZ",
        "colab_type": "code",
        "outputId": "bb88ca50-a74b-4f27-9bea-e17418fe625b",
        "colab": {
          "base_uri": "https://localhost:8080/",
          "height": 34
        }
      },
      "source": [
        "dados_treino_uma_coluna = dados_treino\n",
        "dados_treino_uma_coluna['REPLICA_CH'] =  dados_treino_uma_coluna['NU_NOTA_CH']\n",
        "\n",
        "dados_teste_uma_coluna = dados_teste\n",
        "dados_teste_uma_coluna['REPLICA_CH'] =  dados_treino_uma_coluna['NU_NOTA_CH']\n",
        "\n",
        "coluna_label = 'NU_NOTA_LC'\n",
        "coluna_features_uma_coluna = ['NU_NOTA_CH','REPLICA_CH']\n",
        "\n",
        "\n",
        "X_teste_uma_coluna = dados_teste_uma_coluna[coluna_features_uma_coluna].to_numpy()\n",
        "X_treino_uma_coluna = dados_treino_uma_coluna[coluna_features_uma_coluna].to_numpy()\n",
        "Y_treino_uma_coluna = dados_treino_uma_coluna[coluna_label].to_numpy()\n",
        "\n",
        "modelo_Lasso = Lasso(random_state=43267)\n",
        "modelo_Lasso.fit(X_treino_uma_coluna, Y_treino_uma_coluna)\n",
        "\n",
        "#Fazendo predições com meu modelo LinearSVR, passando meu X de teste\n",
        "Y_Lasso_predicoes = modelo_Lasso.predict(X_teste_uma_coluna)\n",
        "\n",
        "# Utilizando a métrica mean_squared_error para avaliar o quão \"bom\" foi esse modelo\n",
        "avaliacao_Lasso = mean_squared_error(Y_teste, Y_Lasso_predicoes)\n",
        "\n",
        "print(f\"Minha avaliação nos dados de teste foi de {avaliacao_Lasso}\")"
      ],
      "execution_count": 0,
      "outputs": [
        {
          "output_type": "stream",
          "text": [
            "Minha avaliação nos dados de teste foi de 2687.4432868230697\n"
          ],
          "name": "stdout"
        }
      ]
    },
    {
      "cell_type": "code",
      "metadata": {
        "id": "w5mEQBgtOCtC",
        "colab_type": "code",
        "colab": {}
      },
      "source": [
        ""
      ],
      "execution_count": 0,
      "outputs": []
    }
  ]
}