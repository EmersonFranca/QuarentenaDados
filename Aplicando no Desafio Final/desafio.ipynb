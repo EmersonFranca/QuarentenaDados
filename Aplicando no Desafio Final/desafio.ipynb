{
  "nbformat": 4,
  "nbformat_minor": 0,
  "metadata": {
    "language_info": {
      "codemirror_mode": {
        "name": "ipython",
        "version": 3
      },
      "file_extension": ".py",
      "mimetype": "text/x-python",
      "name": "python",
      "nbconvert_exporter": "python",
      "pygments_lexer": "ipython3",
      "version": "3.7.7-final"
    },
    "orig_nbformat": 2,
    "kernelspec": {
      "name": "python37764bitweenvcondab31ae532cabe4d33be8b9e6648c83a67",
      "display_name": "Python 3.7.7 64-bit ('we-env': conda)"
    },
    "colab": {
      "name": "desafio.ipynb",
      "provenance": [],
      "include_colab_link": true
    }
  },
  "cells": [
    {
      "cell_type": "markdown",
      "metadata": {
        "id": "view-in-github",
        "colab_type": "text"
      },
      "source": [
        "<a href=\"https://colab.research.google.com/github/EmersonFranca/QuarentenaDados/blob/master/Aplicando%20no%20Desafio%20Final/desafio.ipynb\" target=\"_parent\"><img src=\"https://colab.research.google.com/assets/colab-badge.svg\" alt=\"Open In Colab\"/></a>"
      ]
    },
    {
      "cell_type": "code",
      "metadata": {
        "id": "ENegxjhx1VI_",
        "colab_type": "code",
        "colab": {}
      },
      "source": [
        "import os, fnmatch\n",
        "import pandas as pd\n",
        "from sklearn.metrics import mean_squared_error"
      ],
      "execution_count": 0,
      "outputs": []
    },
    {
      "cell_type": "code",
      "metadata": {
        "id": "U-dzl7id1VJG",
        "colab_type": "code",
        "colab": {}
      },
      "source": [
        "F_DIR = 'Faça upload do arquivo com o seu resultado_ (File responses)'\n",
        "file_list = os.listdir(F_DIR)\n",
        "pattern = \"*.csv\"\n",
        "file_match = list()\n",
        "file_no_match = list()\n",
        "for f in file_list:\n",
        "    if fnmatch.fnmatch(f, pattern):\n",
        "            file_match.append(f)\n",
        "    else:\n",
        "        file_no_match.append(f)"
      ],
      "execution_count": 0,
      "outputs": []
    },
    {
      "cell_type": "code",
      "metadata": {
        "id": "XEwjwLzA1VJK",
        "colab_type": "code",
        "colab": {},
        "outputId": "f6489e98-0486-42ac-e897-64d256b3db4c"
      },
      "source": [
        "validation = pd.read_csv(\"DADOS_VALIDACAO_SEED_845309.csv\")\n",
        "validation.head()"
      ],
      "execution_count": 0,
      "outputs": [
        {
          "output_type": "execute_result",
          "data": {
            "text/plain": [
              "   ID  NU_NOTA_CN  NU_NOTA_CH  NU_NOTA_LC  NU_NOTA_MT  NU_NOTA_REDACAO\n",
              "0   0       496.1       585.3       503.0       495.8            320.0\n",
              "1   1       558.5       641.9       625.1       515.9            600.0\n",
              "2   2       493.1       566.6       534.7       512.0            520.0\n",
              "3   3       410.9       534.4       371.1       437.6            340.0\n",
              "4   4       453.5       577.9       585.8       545.8            580.0"
            ],
            "text/html": [
              "<div>\n",
              "<style scoped>\n",
              "    .dataframe tbody tr th:only-of-type {\n",
              "        vertical-align: middle;\n",
              "    }\n",
              "\n",
              "    .dataframe tbody tr th {\n",
              "        vertical-align: top;\n",
              "    }\n",
              "\n",
              "    .dataframe thead th {\n",
              "        text-align: right;\n",
              "    }\n",
              "</style>\n",
              "<table border=\"1\" class=\"dataframe\">\n",
              "  <thead>\n",
              "    <tr style=\"text-align: right;\">\n",
              "      <th></th>\n",
              "      <th>ID</th>\n",
              "      <th>NU_NOTA_CN</th>\n",
              "      <th>NU_NOTA_CH</th>\n",
              "      <th>NU_NOTA_LC</th>\n",
              "      <th>NU_NOTA_MT</th>\n",
              "      <th>NU_NOTA_REDACAO</th>\n",
              "    </tr>\n",
              "  </thead>\n",
              "  <tbody>\n",
              "    <tr>\n",
              "      <th>0</th>\n",
              "      <td>0</td>\n",
              "      <td>496.1</td>\n",
              "      <td>585.3</td>\n",
              "      <td>503.0</td>\n",
              "      <td>495.8</td>\n",
              "      <td>320.0</td>\n",
              "    </tr>\n",
              "    <tr>\n",
              "      <th>1</th>\n",
              "      <td>1</td>\n",
              "      <td>558.5</td>\n",
              "      <td>641.9</td>\n",
              "      <td>625.1</td>\n",
              "      <td>515.9</td>\n",
              "      <td>600.0</td>\n",
              "    </tr>\n",
              "    <tr>\n",
              "      <th>2</th>\n",
              "      <td>2</td>\n",
              "      <td>493.1</td>\n",
              "      <td>566.6</td>\n",
              "      <td>534.7</td>\n",
              "      <td>512.0</td>\n",
              "      <td>520.0</td>\n",
              "    </tr>\n",
              "    <tr>\n",
              "      <th>3</th>\n",
              "      <td>3</td>\n",
              "      <td>410.9</td>\n",
              "      <td>534.4</td>\n",
              "      <td>371.1</td>\n",
              "      <td>437.6</td>\n",
              "      <td>340.0</td>\n",
              "    </tr>\n",
              "    <tr>\n",
              "      <th>4</th>\n",
              "      <td>4</td>\n",
              "      <td>453.5</td>\n",
              "      <td>577.9</td>\n",
              "      <td>585.8</td>\n",
              "      <td>545.8</td>\n",
              "      <td>580.0</td>\n",
              "    </tr>\n",
              "  </tbody>\n",
              "</table>\n",
              "</div>"
            ]
          },
          "metadata": {
            "tags": []
          },
          "execution_count": 3
        }
      ]
    },
    {
      "cell_type": "code",
      "metadata": {
        "id": "uPkqtjX31VJQ",
        "colab_type": "code",
        "colab": {}
      },
      "source": [
        "def correct(df_validation, files_name):\n",
        "    \n",
        "    MSE = {}\n",
        "    error = []\n",
        "    for f in files_name:\n",
        "        predict = pd.read_csv(F_DIR+\"/\"+f)\n",
        "        index = \"ID\"\n",
        "        #normaliza ID escritos de formas diferentes\n",
        "        columns = predict.columns\n",
        "        if columns[0] == \"id\":\n",
        "            index = \"id\"\n",
        "        elif columns[0] == \"Id\":\n",
        "            index = \"Id\"\n",
        "       \n",
        "        predict.rename(columns={index: \"ID\"}, inplace=True)\n",
        "        predict.rename(columns={\"NU_NOTA_LC\": \"PREDICT\"}, inplace=True)\n",
        "       \n",
        "        try:          \n",
        "            df_tmp = validation.join(predict.set_index('ID'), on='ID')\n",
        "            rating_mse = mean_squared_error(df_tmp[\"NU_NOTA_LC\"], df_tmp[\"PREDICT\"])\n",
        "            MSE[f] = rating_mse\n",
        "        except:\n",
        "            error.append(f)\n",
        "    \n",
        "    return MSE, error\n",
        "\n",
        "rating, errors = correct(validation, file_match)\n"
      ],
      "execution_count": 0,
      "outputs": []
    },
    {
      "cell_type": "code",
      "metadata": {
        "id": "87dk4Sgv1VJX",
        "colab_type": "code",
        "colab": {},
        "outputId": "8d6afecd-5359-4e14-c5ac-8e1f93d57e56"
      },
      "source": [
        "\n",
        "##ranking = {key: value for key, value in sorted(rating.items(), key=lambda item: item[1])}\n",
        "count=1\n",
        "ranking = {}\n",
        "for key, value in sorted(rating.items(), key=lambda item: item[1]):\n",
        "    ranking[str(count)+\" - \"+key] = value\n",
        "    count+=1\n",
        "\n",
        "ranking"
      ],
      "execution_count": 0,
      "outputs": [
        {
          "output_type": "execute_result",
          "data": {
            "text/plain": [
              "{'1 - PREDICAO_DESAFIOQT(1) - Humberto Pereira.csv': 2008.958117,\n",
              " '2 - PREDICAO_DESAFIOQT - Henrique Mota.csv': 2020.9580111806204,\n",
              " '3 - PREDICAO_DESAFIOQT - Gleisson Bispo.csv': 2023.0256992114778,\n",
              " '4 - PREDICAO_DESAFIOQT - Rhenan Queiroz.csv': 2023.0568393276099,\n",
              " '5 - PREDICAO_DESAFIOQT - Rogerio Tomazela.csv': 2028.1842904461316,\n",
              " '6 - PREDICAO_DESAFIOQT - Alex Keila.csv': 2028.5840996401885,\n",
              " '7 - PREDICAO_DESAFIOQT - Daniela Barros.csv': 2029.1659374210305,\n",
              " '8 - PREDICAO_DESAFIOQT - Victoria Tanaka.csv': 2029.2581763377973,\n",
              " '9 - PREDICAO_DESAFIOQT - Renan Pereira de Figueiredo.csv': 2029.457172906237,\n",
              " '10 - PREDICAO_DESAFIOQT - Patrick Chagas.csv': 2029.730915169531,\n",
              " '11 - PREDICAO_DESAFIOQT - Pedro Zaterka.csv': 2029.8917558900353,\n",
              " '12 - PREDICAO_DESAFIOQT - Pedro Avellar.csv': 2029.90260377709,\n",
              " '13 - PREDICAO_DESAFIOQT - Rafael Mello.csv': 2030.1780322154261,\n",
              " '14 - PREDICAO_DESAFIOQT - Augusto Hochleitner.csv': 2030.2991057116303,\n",
              " '15 - PREDICAO_DESAFIOQT - Lara Moura.csv': 2030.3164561401718,\n",
              " '16 - PREDICAO_DESAFIOQT - Fábio N. N. Dias Fatec.csv': 2030.5275576307868,\n",
              " '17 - PREDICAO_DESAFIOQT - Jose Bezerra.csv': 2030.5275576307868,\n",
              " '18 - PREDICAO_DESAFIOQT - Andre Mafei.csv': 2030.5275576307868,\n",
              " '19 - PREDICAO_DESAFIOQT - Diogo Puppim de Oliveira.csv': 2030.5275576307868,\n",
              " '20 - PREDICAO_DESAFIOQT - Bernardo dos Santos Neto.csv': 2030.8653112493362,\n",
              " '21 - PREDICAO_DESAFIOQT - Filipe Careli.csv': 2030.8784611358392,\n",
              " '22 - PREDICAO_DESAFIOQT - Thalita Souza.csv': 2030.8784611358392,\n",
              " '23 - PREDICAO_DESAFIOQT - Julia Morone Drummond Alves.csv': 2030.8949709033004,\n",
              " '24 - PREDICAO_DESAFIOQT - Hermino Barbosa.csv': 2030.9724185732548,\n",
              " '25 - PREDICAO_DESAFIOQT - Leonardo Bisinoto.csv': 2031.6182006452407,\n",
              " '26 - PREDICAO_DESAFIOQT - Luíza Bizoni.csv': 2031.7666544838403,\n",
              " '27 - PREDICAO_DESAFIOQT - Ayrton Sergio.csv': 2031.9416275949172,\n",
              " '28 - PREDICAO_DESAFIOQT - Mateus Fugita.csv': 2031.9416275949172,\n",
              " '29 - PREDICAO_DESAFIOQT - Robert Portilho.csv': 2031.9416275949172,\n",
              " '30 - PREDICAO_DESAFIOQT - Leonardo Mauro.csv': 2031.9416275949172,\n",
              " '31 - PREDICAO_DESAFIOQT - Eduardo Renz.csv': 2031.9416275949172,\n",
              " '32 - PREDICAO_DESAFIOQT - Matheus Rocha.csv': 2031.9416275949172,\n",
              " '33 - PREDICAO_DESAFIOQT - Alex Souza.csv': 2031.9416275949177,\n",
              " '34 - PREDICAO_DESAFIOQT - Giovani Leite.csv': 2032.026155112277,\n",
              " '35 - PREDICAO_DESAFIOQT - Marcelo Silva.csv': 2032.462758425503,\n",
              " '36 - PREDICAO_DESAFIOQT - fellype siqueira.csv': 2032.476320503359,\n",
              " '37 - PREDICAO_DESAFIOQT - Luís Augusto Yokota Rizzo.csv': 2032.9228660012384,\n",
              " '38 - PREDICAO_DESAFIOQT - Luis Eduardo Oliveira.csv': 2033.3563071263761,\n",
              " '39 - PREDICAO_DESAFIOQT - Gabriel Oliveira.csv': 2034.5704475336474,\n",
              " '40 - PREDICAO_DESAFIOQT - Rodrigo Carvalho.csv': 2036.0352500355891,\n",
              " '41 - PREDICAO_DESAFIOQT - Felipe Shi Wu.csv': 2036.5633246731404,\n",
              " '42 - PREDICAO_DESAFIOQT - Diogo Telheiro do Nascimento.csv': 2037.2628773165702,\n",
              " '43 - PREDICAO_DESAFIOQT - Rodrigo Eiti Kimura.csv': 2037.2882865676027,\n",
              " '44 - PREDICAO_DESAFIOQT - Rodrigo Gonçalves.csv': 2037.3111010695168,\n",
              " '45 - PREDICAO_DESAFIOQT - Lucas Datilio Carderelli.csv': 2037.5712039860994,\n",
              " '46 - PREDICAO_DESAFIOQT - Johny W. Alves.csv': 2037.5712039860994,\n",
              " '47 - PREDICAO_DESAFIOQT - Roberto Pungartnik.csv': 2037.6599527330327,\n",
              " '48 - PREDICAO_DESAFIOQT - Leonardo.csv': 2037.770921434134,\n",
              " '49 - PREDICAO_DESAFIOQT - Isaac Silva.csv': 2038.0043390933856,\n",
              " '50 - PREDICAO_DESAFIOQT - Edilene Campos.csv': 2038.0043390933856,\n",
              " '51 - PREDICAO_DESAFIOQT - Thiago Goncalves.csv': 2038.1303945046739,\n",
              " '52 - PREDICAO_DESAFIOQT - Giulia Valvano.csv': 2038.3390377988621,\n",
              " '53 - PREDICAO_DESAFIOQT - Bruno Fontana da Silva.csv': 2038.546219605783,\n",
              " '54 - PREDICAO_DESAFIOQT - Mateus Alexandre.csv': 2038.7846017157208,\n",
              " '55 - PREDICAO_DESAFIOQT - Lucas Alves.csv': 2039.2316734075862,\n",
              " '56 - PREDICAO_DESAFIOQT - Thales Henrique Manarin.csv': 2039.75318643996,\n",
              " '57 - PREDICAO_DESAFIOQT - Lucas Olini.csv': 2039.888784306658,\n",
              " '58 - PREDICAO_DESAFIOQT - Lucas Bivar.csv': 2040.0460799172242,\n",
              " '59 - PREDICAO_DESAFIOQT - Maycon Jean de Moura.csv': 2040.0554256216117,\n",
              " '60 - PREDICAO_DESAFIOQT - Anderson P.csv': 2040.3283769916438,\n",
              " '61 - PREDICAO_DESAFIOQT - Matheus Santos.csv': 2040.62052,\n",
              " '62 - PREDICAO_DESAFIOQT - Lucas Verardo.csv': 2040.848846281379,\n",
              " '63 - PREDICAO_DESAFIOQT - blank.csv': 2040.9731606751404,\n",
              " '64 - PREDICAO_DESAFIOQT - Áquilla Tavares.csv': 2041.13591309,\n",
              " '65 - PREDICAO_DESAFIOQT - Filipe Brandolim.csv': 2041.1637164014473,\n",
              " '66 - PREDICAO_DESAFIOQT - jhonatan souza.csv': 2041.2778908711884,\n",
              " '67 - PREDICAO_DESAFIOQT - Rodrigo Câmara.csv': 2041.464602461176,\n",
              " '68 - PREDICAO_DESAFIOQT - Thais Menegaldi.csv': 2042.5640258639023,\n",
              " '69 - PREDICAO_DESAFIOQT - Mateus Broilo.csv': 2042.7003049044315,\n",
              " '70 - PREDICAO_DESAFIOQT - Diego Villendel Rodrigues Rocha.csv': 2042.7013796170338,\n",
              " '71 - PREDICAO_DESAFIOQT - Gustavo Gianotto Bratfisch.csv': 2042.7015554930833,\n",
              " '72 - PREDICAO_DESAFIOQT - Paulo Henrique.csv': 2042.7016598399357,\n",
              " '73 - PREDICAO_DESAFIOQT - Pedro Vinícius.csv': 2042.8466798850902,\n",
              " '74 - PREDICAO_DESAFIOQT - Cleber Abreu.csv': 2043.226084381035,\n",
              " '75 - PREDICAO_DESAFIOQT - Wellington Araujo Nogueira.csv': 2043.4077421568174,\n",
              " '76 - PREDICAO_DESAFIOQT - Bruno Marques.csv': 2043.5393409136877,\n",
              " '77 - PREDICAO_DESAFIOQT - William Teruo Onaka.csv': 2043.9400539866444,\n",
              " '78 - PREDICAO_DESAFIOQT - Tiago Fernandes.csv': 2044.0760280673023,\n",
              " '79 - PREDICAO_DESAFIOQT - Marcella Andrade.csv': 2044.5615300201946,\n",
              " '80 - PREDICAO_DESAFIOQT - Marcus Leite.csv': 2045.0500166798606,\n",
              " '81 - PREDICAO_DESAFIOQT - Lucas Pastana.csv': 2046.33868,\n",
              " '82 - PREDICAO_DESAFIOQT - Ana Lopes.csv': 2046.4661543356397,\n",
              " '83 - PREDICAO_DESAFIOQT - Robson Teixeira.csv': 2046.601275009735,\n",
              " '84 - PREDICAO_DESAFIOQT - Matheus Bosa.csv': 2047.4847424494992,\n",
              " '85 - PREDICAO_DESAFIOQT - Rodrigo Milan Calegari.csv': 2048.287645966086,\n",
              " '86 - PREDICAO_DESAFIOQT - lucas Antonio Rodrigues.csv': 2048.406198624715,\n",
              " '87 - PREDICAO_DESAFIOQT - Marcelo Rodrigues.csv': 2048.571308648949,\n",
              " '88 - PREDICAO_DESAFIOQT - Guilherme Bedin.csv': 2049.2128018175645,\n",
              " '89 - PREDICAO_DESAFIOQT - LILIANE LOURENÇA.csv': 2049.4092583632446,\n",
              " '90 - PREDICAO_DESAFIOQT - Josafá Rebouças.csv': 2049.785706040021,\n",
              " '91 - PREDICAO_DESAFIOQT - Gamer Tech.csv': 2050.2130768843213,\n",
              " '92 - PREDICAO_DESAFIOQT - Athos Moraes.csv': 2051.9395334775486,\n",
              " '93 - PREDICAO_DESAFIOQT - Otávio Kamel.csv': 2052.192099149338,\n",
              " '94 - PREDICAO_DESAFIOQT  - Guilherme Dorella.csv': 2052.330433579634,\n",
              " '95 - PREDICAO_DESAFIOQT - C B.csv': 2052.357479762231,\n",
              " '96 - PREDICAO_DESAFIOQT - Carlos Fernandes.csv': 2054.386590628507,\n",
              " '97 - PREDICAO_DESAFIOQT - Emmanuel Sampaio.csv': 2054.956305513858,\n",
              " '98 - PREDICAO_DESAFIOQT - Tiago Vianna.csv': 2057.235285886017,\n",
              " '99 - PREDICAO_DESAFIOQT - Lucas Barbosa.csv': 2057.60305907,\n",
              " '100 - PREDICAO_DESAFIOQT - Daniel Cabral.csv': 2058.2381297980405,\n",
              " '101 - PREDICAO_DESAFIOQT - Edwaldo Rodrigues.csv': 2058.7613977476603,\n",
              " '102 - PREDICAO_DESAFIOQT - David Albuquerque.csv': 2061.895380292239,\n",
              " '103 - PREDICAO_DESAFIOQT - Andressa Kuibida.csv': 2062.46946557452,\n",
              " '104 - PREDICAO_DESAFIOQT - Gabriel Cozzella.csv': 2063.817922482036,\n",
              " '105 - PREDICAO_DESAFIOQT - Gustavo Ricarte.csv': 2063.854374484504,\n",
              " '106 - PREDICAO_DESAFIOQT - Luiz Filho.csv': 2066.762713511461,\n",
              " '107 - PREDICAO_DESAFIOQT - Charles Gabriel.csv': 2066.903434224128,\n",
              " '108 - PREDICAO_DESAFIOQT - João Lopes.csv': 2069.8571933470225,\n",
              " '109 - PREDICAO_DESAFIOQT - João Denis.csv': 2073.1868670793747,\n",
              " '110 - PREDICAO_DESAFIOQT - Guilherme Muzzi da Rocha.csv': 2073.353905069605,\n",
              " '111 - PREDICAO_DESAFIOQT - Arthur Torres Baião.csv': 2078.68227994807,\n",
              " '112 - PREDICAO_DESAFIOQT - Bruno Dorneles.csv': 2079.3724409020538,\n",
              " '113 - PREDICAO_DESAFIOQT - Danilo Galvão.csv': 2079.5805163222653,\n",
              " '114 - PREDICAO_DESAFIOQT - Rodrigo Costa Lomonaco.csv': 2079.61765742,\n",
              " '115 - PREDICAO_DESAFIOQT - Francisco Altanizio.csv': 2080.7591354417973,\n",
              " '116 - PREDICAO_DESAFIOQT - Camila S.csv': 2083.494844840414,\n",
              " '117 - PREDICAO_DESAFIOQT - Leonardo Lachi Manetti.csv': 2083.5278931906732,\n",
              " '118 - PREDICAO_DESAFIOQT - Vitor Rossini Gonzalez.csv': 2084.3576395782416,\n",
              " '119 - PREDICAO_DESAFIOQT - Danilo Silva Santos.csv': 2085.4027199415764,\n",
              " '120 - PREDICAO_DESAFIOQT - Daniel Serra.csv': 2087.6728754597216,\n",
              " '121 - PREDICAO_DESAFIOQT - Paulo Andrade.csv': 2089.425853569544,\n",
              " '122 - PREDICAO_DESAFIOQT - Tiago Pedrosa.csv': 2091.0066652942346,\n",
              " '123 - PREDICAO_DESAFIOQT - Evandro Avellar.csv': 2091.042665223388,\n",
              " '124 - PREDICAO_DESAFIOQT - Eduardo Ferreira.csv': 2091.21369657738,\n",
              " '125 - PREDICAO_DESAFIOQT - Manoel Vanildo Bento - DITEC.csv': 2091.21369657738,\n",
              " '126 - PREDICAO_DESAFIOQT - Leonardo José Poletti.csv': 2091.21369657738,\n",
              " '127 - PREDICAO_DESAFIOQT - Bruna Fernandes Guimarães.csv': 2091.293844221566,\n",
              " '128 - PREDICAO_DESAFIOQT - Igor Fernandes.csv': 2092.7590923325456,\n",
              " '129 - PREDICAO_DESAFIOQT - Jadson Passos.csv': 2097.9622380532037,\n",
              " '130 - PREDICAO_DESAFIOQT - Gianluca Sousa.csv': 2100.064995743718,\n",
              " '131 - PREDICAO_DESAFIOQT - Claucio Filho.csv': 2102.90897438,\n",
              " '132 - PREDICAO_DESAFIOQT - Mateus Moura.csv': 2107.3904528741145,\n",
              " '133 - PREDICAO_DESAFIOQT - Luiz Felipe Ferraz.csv': 2129.0731315842004,\n",
              " '134 - PREDICAO_DESAFIOQT - Bruno Alves Maia.csv': 2136.009759545648,\n",
              " '135 - PREDICAO_DESAFIOQT - Kenji Marcos Suzuki.csv': 2148.532360032414,\n",
              " '136 - PREDICAO_DESAFIOQT - José Carlos.csv': 2152.0862971789775,\n",
              " '137 - PREDICAO_DESAFIOQT - Jorge Staudt.csv': 2158.775000324891,\n",
              " '138 - PREDICAO_DESAFIOQT - Lucas Silveira.csv': 2162.070134981361,\n",
              " '139 - PREDICAO_DESAFIOQT - Caique Borges.csv': 2187.5748025905714,\n",
              " '140 - PREDICAO_DESAFIOQT - Sergio Esmerio.csv': 2187.576084672192,\n",
              " '141 - PREDICAO_DESAFIOQT - Vanessa Nascimento.csv': 2187.576715761001,\n",
              " '142 - PREDICAO_DESAFIOQT - André Queiroz.csv': 2187.576725984422,\n",
              " '143 - PREDICAO_DESAFIOQT - Allexia Azevedo.csv': 2187.576725984422,\n",
              " '144 - PREDICAO_DESAFIOQT - bakun maia.csv': 2187.576725984422,\n",
              " '145 - PREDICAO_DESAFIOQT - Camila Cruz.csv': 2187.576725984422,\n",
              " '146 - PREDICAO_DESAFIOQT - J Italo df.csv': 2187.576725984422,\n",
              " '147 - PREDICAO_DESAFIOQT - Lucas Ramon.csv': 2187.576725984422,\n",
              " '148 - PREDICAO_DESAFIOQT - Rafael Anton.csv': 2187.5767260231582,\n",
              " '149 - PREDICAO_DESAFIOQT - Carlos Gomes Batista.csv': 2187.5768951622313,\n",
              " '150 - PREDICAO_DESAFIOQT - Carlos Bravo.csv': 2187.5769699400003,\n",
              " '151 - PREDICAO_DESAFIOQT - franciney palheta.csv': 2187.5769699400003,\n",
              " '152 - PREDICAO_DESAFIOQT - Marcos Costa Da Silva.csv': 2188.008714859256,\n",
              " '153 - PREDICAO_DESAFIOQT - Leonardo Dias.csv': 2188.892481025698,\n",
              " '154 - PREDICAO_DESAFIOQT - Adriano Castan.csv': 2189.4770336644747,\n",
              " '155 - PREDICAO_DESAFIOQT 2093 - Alex Cerqueira.csv': 2189.9651238741567,\n",
              " '156 - PREDICAO_DESAFIOQT - Daniel Andrade.csv': 2189.965123874157,\n",
              " '157 - PREDICAO_DESAFIOQT - Walter Gadelha.csv': 2191.845413589029,\n",
              " '158 - PREDICAO_DESAFIOQT - BlackSurface.csv': 2196.51191025,\n",
              " '159 - PREDICAO_DESAFIOQT - Vini Antunes.csv': 2199.9089943099334,\n",
              " '160 - PREDICAO_DESAFIOQT - Felipe Chikuji.csv': 2203.2116715399998,\n",
              " '161 - PREDICAO_DESAFIOQT - Matheus Paixão Paixão.csv': 2209.4493516235,\n",
              " '162 - PREDICAO_DESAFIOQT - João Vitor de Lima.csv': 2212.114835593355,\n",
              " '163 - PREDICAO_DESAFIOQT - Lucas Joviniano.csv': 2212.4311720965547,\n",
              " '164 - PREDICAO_DESAFIOQT - kalil kelvin.csv': 2213.4417246776,\n",
              " '165 - PREDICAO_DESAFIOQT - Lucas Hashi.csv': 2215.1423022553,\n",
              " '166 - PREDICAO_DESAFIOQT - Programador que só cola.csv': 2225.6005204438998,\n",
              " '167 - PREDICAO_DESAFIOQT - Rafael Maciel.csv': 2228.5420060626,\n",
              " '168 - PREDICAO_DESAFIOQT - Augusto gomes.csv': 2233.6910388252,\n",
              " '169 - PREDICAO_DESAFIOQT - Gabriel Rodrigues Cunha.csv': 2310.9473782911664,\n",
              " '170 - PREDICAO_DESAFIOQT - Fernando Rossi.csv': 2331.1802633170964,\n",
              " '171 - PREDICAO_DESAFIOQT - Marcelo Serves.csv': 2387.6587124718562,\n",
              " '172 - PREDICAO_DESAFIOQT - Henrique Falck Grimm.csv': 2406.6351476984173,\n",
              " '173 - PREDICAO_DESAFIOQT - Tiago Brust.csv': 2419.1174782165895,\n",
              " '174 - PREDICAO_DESAFIOQT - Rafael Lins.csv': 2433.5426620409185,\n",
              " '175 - PREDICAO_DESAFIOQT - Brilliant Student.csv': 2512.257428391635,\n",
              " '176 - PREDICAO_DESAFIOQT - Joao Pedro Loyola.csv': 2519.624284007561,\n",
              " '177 - PREDICAO_DESAFIOQT - Eduardo Farias.csv': 2725.51109645897,\n",
              " '178 - PREDICAO_DESAFIOQT - Pedro Henrique Cardoso.csv': 3046.4905151264993,\n",
              " '179 - PREDICAO_DESAFIOQT - jcnok Cesar.csv': 4038.3263799999995,\n",
              " '180 - PREDICAO_DESAFIOQT - Anderson Ganhara.csv': 4208.739602999999,\n",
              " '181 - PREDICAO_DESAFIOQT - mariscu dumar.csv': 5189.880498915211,\n",
              " '182 - PREDICAO_DESAFIOQT - Carlos Vini Engenheiro.csv': 5189.880498915211,\n",
              " '183 - PREDICAO_DESAFIOQT - Anderson Pimentel.csv': 5189.880498915211,\n",
              " '184 - PREDICAO_DESAFIOQT - Ivan Aziz.csv': 5189.880498915211,\n",
              " '185 - PREDICAO_DESAFIOQT - Djalma J.csv': 5189.880498915211,\n",
              " '186 - PREDICAO_DESAFIOQT - Ricardo Flemig.csv': 5189.880498915211,\n",
              " '187 - PREDICAO_DESAFIOQT - Anderson Marques.csv': 8369.0629,\n",
              " '188 - PREDICAO_DESAFIOQT - Wesley Galvão.csv': 14190.7542837852,\n",
              " '189 - PREDICAO_DESAFIOQT - Pedro Henrique Cardoso(1).csv': 28504.11720795595,\n",
              " '190 - PREDICAO_DESAFIOQT - luis c. santos.csv': 30515.30180617154,\n",
              " '191 - PREDICAO_DESAFIOQT - Glaucio Drumond.csv': 30707.288451267123,\n",
              " '192 - PREDICAO_DESAFIOQT - Jhonatan Gomes de Souza.csv': 2435831.396938053,\n",
              " '193 - PREDICAO_DESAFIOQT - Clarisse Alvarenga.csv': 3482962481.926771,\n",
              " '194 - PREDICAO_DESAFIOQT - Fernando Monteiro.csv': 1.1152604193019665e+22,\n",
              " '195 - PREDICAO_DESAFIOQT - Eduardo Holanda Ellery.csv': 2.12532863456243e+28}"
            ]
          },
          "metadata": {
            "tags": []
          },
          "execution_count": 9
        }
      ]
    },
    {
      "cell_type": "code",
      "metadata": {
        "id": "x2ZUGX5w1VJc",
        "colab_type": "code",
        "colab": {}
      },
      "source": [
        "import json\n",
        "with open('ranking.json', 'w') as file:\n",
        "     file.write(json.dumps(ranking))"
      ],
      "execution_count": 0,
      "outputs": []
    },
    {
      "cell_type": "code",
      "metadata": {
        "id": "Q98VNrzM1VJg",
        "colab_type": "code",
        "colab": {},
        "outputId": "09a9f94c-8559-4026-95a1-f5ea353baf04"
      },
      "source": [
        "#encontrando os erros das submissões\n",
        "#Wesley Watanabe mandou a sequência de ID errada, deveria começar com 0\n",
        "#Thiago foi apenas um teste\n",
        "errors"
      ],
      "execution_count": 0,
      "outputs": [
        {
          "output_type": "execute_result",
          "data": {
            "text/plain": [
              "['PREDICAO_DESAFIOQT - Wesley Watanabe.csv',\n",
              " 'PREDICAO_DESAFIOQT - Gabriel Teixeira Guimarães.csv',\n",
              " 'DESAFIOQT - Thiago Gonçalves Claro dos Santos Santos.csv',\n",
              " 'PREDICAO_DESAFIOQT - Ronald Reis.csv']"
            ]
          },
          "metadata": {
            "tags": []
          },
          "execution_count": 17
        }
      ]
    },
    {
      "cell_type": "code",
      "metadata": {
        "id": "tpdnL-Th1VJn",
        "colab_type": "code",
        "colab": {},
        "outputId": "95e7909d-c299-4c80-dcbf-806766f4efdc"
      },
      "source": [
        "df_gtexeira = pd.read_csv(F_DIR+\"/\"+errors[1])\n",
        "print(df_gtexeira.shape)\n",
        "df_gtexeira.head() #Está faltando dados no teste"
      ],
      "execution_count": 0,
      "outputs": [
        {
          "output_type": "stream",
          "text": [
            "(9775, 2)\n"
          ],
          "name": "stdout"
        },
        {
          "output_type": "execute_result",
          "data": {
            "text/plain": [
              "   id  NU_NOTA_LC\n",
              "0   0  502.610879\n",
              "1   1  583.799117\n",
              "2   2  515.961582\n",
              "3   3  467.076075\n",
              "4   4  528.459025"
            ],
            "text/html": [
              "<div>\n",
              "<style scoped>\n",
              "    .dataframe tbody tr th:only-of-type {\n",
              "        vertical-align: middle;\n",
              "    }\n",
              "\n",
              "    .dataframe tbody tr th {\n",
              "        vertical-align: top;\n",
              "    }\n",
              "\n",
              "    .dataframe thead th {\n",
              "        text-align: right;\n",
              "    }\n",
              "</style>\n",
              "<table border=\"1\" class=\"dataframe\">\n",
              "  <thead>\n",
              "    <tr style=\"text-align: right;\">\n",
              "      <th></th>\n",
              "      <th>id</th>\n",
              "      <th>NU_NOTA_LC</th>\n",
              "    </tr>\n",
              "  </thead>\n",
              "  <tbody>\n",
              "    <tr>\n",
              "      <th>0</th>\n",
              "      <td>0</td>\n",
              "      <td>502.610879</td>\n",
              "    </tr>\n",
              "    <tr>\n",
              "      <th>1</th>\n",
              "      <td>1</td>\n",
              "      <td>583.799117</td>\n",
              "    </tr>\n",
              "    <tr>\n",
              "      <th>2</th>\n",
              "      <td>2</td>\n",
              "      <td>515.961582</td>\n",
              "    </tr>\n",
              "    <tr>\n",
              "      <th>3</th>\n",
              "      <td>3</td>\n",
              "      <td>467.076075</td>\n",
              "    </tr>\n",
              "    <tr>\n",
              "      <th>4</th>\n",
              "      <td>4</td>\n",
              "      <td>528.459025</td>\n",
              "    </tr>\n",
              "  </tbody>\n",
              "</table>\n",
              "</div>"
            ]
          },
          "metadata": {
            "tags": []
          },
          "execution_count": 8
        }
      ]
    },
    {
      "cell_type": "code",
      "metadata": {
        "id": "uVRI4HFK1VJr",
        "colab_type": "code",
        "colab": {},
        "outputId": "0550a94c-108a-4f2e-f2a1-e9451907b542"
      },
      "source": [
        "df_rreis = pd.read_csv(F_DIR+\"/\"+errors[3])\n",
        "print(df_rreis.shape)\n",
        "df_rreis.head() #Está faltando dados no teste"
      ],
      "execution_count": 0,
      "outputs": [
        {
          "output_type": "stream",
          "text": [
            "(9775, 2)\n"
          ],
          "name": "stdout"
        },
        {
          "output_type": "execute_result",
          "data": {
            "text/plain": [
              "   ID  NU_NOTA_LC\n",
              "0   0     509.766\n",
              "1   1     576.347\n",
              "2   2     520.939\n",
              "3   3     472.313\n",
              "4   4     542.105"
            ],
            "text/html": [
              "<div>\n",
              "<style scoped>\n",
              "    .dataframe tbody tr th:only-of-type {\n",
              "        vertical-align: middle;\n",
              "    }\n",
              "\n",
              "    .dataframe tbody tr th {\n",
              "        vertical-align: top;\n",
              "    }\n",
              "\n",
              "    .dataframe thead th {\n",
              "        text-align: right;\n",
              "    }\n",
              "</style>\n",
              "<table border=\"1\" class=\"dataframe\">\n",
              "  <thead>\n",
              "    <tr style=\"text-align: right;\">\n",
              "      <th></th>\n",
              "      <th>ID</th>\n",
              "      <th>NU_NOTA_LC</th>\n",
              "    </tr>\n",
              "  </thead>\n",
              "  <tbody>\n",
              "    <tr>\n",
              "      <th>0</th>\n",
              "      <td>0</td>\n",
              "      <td>509.766</td>\n",
              "    </tr>\n",
              "    <tr>\n",
              "      <th>1</th>\n",
              "      <td>1</td>\n",
              "      <td>576.347</td>\n",
              "    </tr>\n",
              "    <tr>\n",
              "      <th>2</th>\n",
              "      <td>2</td>\n",
              "      <td>520.939</td>\n",
              "    </tr>\n",
              "    <tr>\n",
              "      <th>3</th>\n",
              "      <td>3</td>\n",
              "      <td>472.313</td>\n",
              "    </tr>\n",
              "    <tr>\n",
              "      <th>4</th>\n",
              "      <td>4</td>\n",
              "      <td>542.105</td>\n",
              "    </tr>\n",
              "  </tbody>\n",
              "</table>\n",
              "</div>"
            ]
          },
          "metadata": {
            "tags": []
          },
          "execution_count": 50
        }
      ]
    },
    {
      "cell_type": "code",
      "metadata": {
        "id": "C7UBLn7M1VJv",
        "colab_type": "code",
        "colab": {}
      },
      "source": [
        ""
      ],
      "execution_count": 0,
      "outputs": []
    }
  ]
}