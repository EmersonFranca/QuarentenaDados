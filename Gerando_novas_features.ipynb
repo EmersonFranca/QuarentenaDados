{
  "nbformat": 4,
  "nbformat_minor": 0,
  "metadata": {
    "colab": {
      "name": "Gerando novas features.ipynb",
      "provenance": [],
      "collapsed_sections": [],
      "include_colab_link": true
    },
    "kernelspec": {
      "name": "python3",
      "display_name": "Python 3"
    }
  },
  "cells": [
    {
      "cell_type": "markdown",
      "metadata": {
        "id": "view-in-github",
        "colab_type": "text"
      },
      "source": [
        "<a href=\"https://colab.research.google.com/github/EmersonFranca/QuarentenaDados/blob/master/Gerando_novas_features.ipynb\" target=\"_parent\"><img src=\"https://colab.research.google.com/assets/colab-badge.svg\" alt=\"Open In Colab\"/></a>"
      ]
    },
    {
      "cell_type": "code",
      "metadata": {
        "id": "dXtvjRjhm1ba",
        "colab_type": "code",
        "colab": {}
      },
      "source": [
        "import pandas as pd\n",
        "import numpy as np"
      ],
      "execution_count": 0,
      "outputs": []
    },
    {
      "cell_type": "code",
      "metadata": {
        "id": "Y2CcZ6STnDfP",
        "colab_type": "code",
        "colab": {}
      },
      "source": [
        "URI_TREINO = \"https://github.com/tgcsantos/quaretenadados/blob/master/DADOS_TREINO.csv?raw=true\"\n",
        "URI_TESTE = \"https://github.com/tgcsantos/quaretenadados/raw/master/DADOS_TESTE.csv\"\n",
        "URI_DESAFIOQT = \"https://github.com/tgcsantos/quaretenadados/raw/master/DESAFIOQT.csv\"\n",
        "\n",
        "dados_treino = pd.read_csv(URI_TREINO)\n",
        "dados_teste = pd.read_csv(URI_TESTE)\n",
        "dados_desafioqt = pd.read_csv(URI_DESAFIOQT)"
      ],
      "execution_count": 0,
      "outputs": []
    },
    {
      "cell_type": "code",
      "metadata": {
        "id": "V-uv7Y65nF8a",
        "colab_type": "code",
        "colab": {}
      },
      "source": [
        "erro_treino = \"Erro ao carregar dados de treino\"\n",
        "erro_teste = \"Erro ao carregar dados de teste\"\n",
        "erro_desafioqt = \"Erro ao carregar dados de submissão\""
      ],
      "execution_count": 0,
      "outputs": []
    },
    {
      "cell_type": "code",
      "metadata": {
        "id": "prOXQHX3nHCC",
        "colab_type": "code",
        "colab": {}
      },
      "source": [
        "assert dados_treino.shape == (150000, 5), erro_treino\n",
        "assert dados_teste.shape == (20000, 5), erro_teste\n",
        "assert dados_desafioqt.shape == (10000, 5), erro_desafioqt"
      ],
      "execution_count": 0,
      "outputs": []
    },
    {
      "cell_type": "code",
      "metadata": {
        "id": "dpc0fvBSnH9K",
        "colab_type": "code",
        "colab": {}
      },
      "source": [
        "coluna_label = 'NU_NOTA_LC'\n",
        "coluna_features = ['NU_NOTA_CN', 'NU_NOTA_CH', 'NU_NOTA_MT', 'NU_NOTA_REDACAO']\n",
        "\n",
        "X_treino = dados_treino[coluna_features].to_numpy()\n",
        "Y_treino = dados_treino[coluna_label].to_numpy()\n",
        "X_teste = dados_teste[coluna_features].to_numpy()\n",
        "Y_teste = dados_teste[coluna_label].to_numpy()\n"
      ],
      "execution_count": 0,
      "outputs": []
    },
    {
      "cell_type": "markdown",
      "metadata": {
        "id": "OqHRTiqzjoHB",
        "colab_type": "text"
      },
      "source": [
        "## 4.3 Criando a variável no Dia 1\n",
        "\n",
        "Conclusão: \n",
        "            * De 2177.3837700970284 Para 2175.7001898437484"
      ]
    },
    {
      "cell_type": "code",
      "metadata": {
        "id": "i-wdpUgBilU0",
        "colab_type": "code",
        "colab": {}
      },
      "source": [
        "dados_treino_4_3 = pd.read_csv(URI_TREINO)\n",
        "\n",
        "condicao_Dia_1_Nao_Possui_Nota = (dados_treino_4_3.NU_NOTA_LC == 0) & (dados_treino_4_3.NU_NOTA_CH == 0) & (dados_treino_4_3.NU_NOTA_REDACAO == 0)  \n",
        "condicao_Dia_2_Possui_Alguma_Nota = (dados_treino_4_3.NU_NOTA_MT > 0) | (dados_treino_4_3.NU_NOTA_CN > 0) \n",
        "\n",
        "dados_treino_4_3['Faltou_no_dia_1'] = 0\n",
        "dados_treino_4_3['Faltou_no_dia_1'] = dados_treino_4_3['Faltou_no_dia_1'].mask(condicao_Dia_1_Nao_Possui_Nota & condicao_Dia_2_Possui_Alguma_Nota, 1)"
      ],
      "execution_count": 0,
      "outputs": []
    },
    {
      "cell_type": "code",
      "metadata": {
        "id": "2S-seIFTlqAe",
        "colab_type": "code",
        "outputId": "bb960cd3-453c-4dfa-d98a-498b2ed4aabe",
        "colab": {
          "base_uri": "https://localhost:8080/",
          "height": 419
        }
      },
      "source": [
        "dados_treino"
      ],
      "execution_count": 0,
      "outputs": [
        {
          "output_type": "execute_result",
          "data": {
            "text/html": [
              "<div>\n",
              "<style scoped>\n",
              "    .dataframe tbody tr th:only-of-type {\n",
              "        vertical-align: middle;\n",
              "    }\n",
              "\n",
              "    .dataframe tbody tr th {\n",
              "        vertical-align: top;\n",
              "    }\n",
              "\n",
              "    .dataframe thead th {\n",
              "        text-align: right;\n",
              "    }\n",
              "</style>\n",
              "<table border=\"1\" class=\"dataframe\">\n",
              "  <thead>\n",
              "    <tr style=\"text-align: right;\">\n",
              "      <th></th>\n",
              "      <th>NU_NOTA_CN</th>\n",
              "      <th>NU_NOTA_CH</th>\n",
              "      <th>NU_NOTA_LC</th>\n",
              "      <th>NU_NOTA_MT</th>\n",
              "      <th>NU_NOTA_REDACAO</th>\n",
              "    </tr>\n",
              "  </thead>\n",
              "  <tbody>\n",
              "    <tr>\n",
              "      <th>0</th>\n",
              "      <td>530.7</td>\n",
              "      <td>586.5</td>\n",
              "      <td>575.9</td>\n",
              "      <td>539.0</td>\n",
              "      <td>520.0</td>\n",
              "    </tr>\n",
              "    <tr>\n",
              "      <th>1</th>\n",
              "      <td>439.4</td>\n",
              "      <td>577.9</td>\n",
              "      <td>440.9</td>\n",
              "      <td>488.7</td>\n",
              "      <td>380.0</td>\n",
              "    </tr>\n",
              "    <tr>\n",
              "      <th>2</th>\n",
              "      <td>414.1</td>\n",
              "      <td>548.8</td>\n",
              "      <td>417.2</td>\n",
              "      <td>382.6</td>\n",
              "      <td>600.0</td>\n",
              "    </tr>\n",
              "    <tr>\n",
              "      <th>3</th>\n",
              "      <td>407.9</td>\n",
              "      <td>572.7</td>\n",
              "      <td>558.9</td>\n",
              "      <td>595.4</td>\n",
              "      <td>560.0</td>\n",
              "    </tr>\n",
              "    <tr>\n",
              "      <th>4</th>\n",
              "      <td>617.2</td>\n",
              "      <td>655.7</td>\n",
              "      <td>564.2</td>\n",
              "      <td>660.9</td>\n",
              "      <td>540.0</td>\n",
              "    </tr>\n",
              "    <tr>\n",
              "      <th>...</th>\n",
              "      <td>...</td>\n",
              "      <td>...</td>\n",
              "      <td>...</td>\n",
              "      <td>...</td>\n",
              "      <td>...</td>\n",
              "    </tr>\n",
              "    <tr>\n",
              "      <th>149995</th>\n",
              "      <td>587.8</td>\n",
              "      <td>644.1</td>\n",
              "      <td>621.4</td>\n",
              "      <td>714.4</td>\n",
              "      <td>840.0</td>\n",
              "    </tr>\n",
              "    <tr>\n",
              "      <th>149996</th>\n",
              "      <td>385.0</td>\n",
              "      <td>525.6</td>\n",
              "      <td>473.2</td>\n",
              "      <td>446.2</td>\n",
              "      <td>520.0</td>\n",
              "    </tr>\n",
              "    <tr>\n",
              "      <th>149997</th>\n",
              "      <td>471.0</td>\n",
              "      <td>558.7</td>\n",
              "      <td>582.4</td>\n",
              "      <td>542.9</td>\n",
              "      <td>460.0</td>\n",
              "    </tr>\n",
              "    <tr>\n",
              "      <th>149998</th>\n",
              "      <td>476.7</td>\n",
              "      <td>463.5</td>\n",
              "      <td>553.3</td>\n",
              "      <td>434.0</td>\n",
              "      <td>0.0</td>\n",
              "    </tr>\n",
              "    <tr>\n",
              "      <th>149999</th>\n",
              "      <td>637.8</td>\n",
              "      <td>611.5</td>\n",
              "      <td>533.9</td>\n",
              "      <td>731.7</td>\n",
              "      <td>600.0</td>\n",
              "    </tr>\n",
              "  </tbody>\n",
              "</table>\n",
              "<p>150000 rows × 5 columns</p>\n",
              "</div>"
            ],
            "text/plain": [
              "        NU_NOTA_CN  NU_NOTA_CH  NU_NOTA_LC  NU_NOTA_MT  NU_NOTA_REDACAO\n",
              "0            530.7       586.5       575.9       539.0            520.0\n",
              "1            439.4       577.9       440.9       488.7            380.0\n",
              "2            414.1       548.8       417.2       382.6            600.0\n",
              "3            407.9       572.7       558.9       595.4            560.0\n",
              "4            617.2       655.7       564.2       660.9            540.0\n",
              "...            ...         ...         ...         ...              ...\n",
              "149995       587.8       644.1       621.4       714.4            840.0\n",
              "149996       385.0       525.6       473.2       446.2            520.0\n",
              "149997       471.0       558.7       582.4       542.9            460.0\n",
              "149998       476.7       463.5       553.3       434.0              0.0\n",
              "149999       637.8       611.5       533.9       731.7            600.0\n",
              "\n",
              "[150000 rows x 5 columns]"
            ]
          },
          "metadata": {
            "tags": []
          },
          "execution_count": 32
        }
      ]
    },
    {
      "cell_type": "code",
      "metadata": {
        "id": "jNZo-KUClx4m",
        "colab_type": "code",
        "colab": {}
      },
      "source": [
        "dados_teste_4_3 = pd.read_csv(URI_TESTE)\n",
        "\n",
        "teste_condicao_Dia_1_Nao_Possui_Nota = (dados_teste_4_3.NU_NOTA_LC == 0) & (dados_teste_4_3.NU_NOTA_CH == 0) & (dados_teste_4_3.NU_NOTA_REDACAO == 0)  \n",
        "teste_condicao_Dia_2_Possui_Alguma_Nota = (dados_teste_4_3.NU_NOTA_MT > 0) | (dados_teste_4_3.NU_NOTA_CN > 0) \n",
        "\n",
        "dados_teste_4_3['Faltou_no_dia_1'] = 0\n",
        "dados_teste_4_3['Faltou_no_dia_1'].mask(teste_condicao_Dia_1_Nao_Possui_Nota & teste_condicao_Dia_2_Possui_Alguma_Nota, 1, inplace=True)"
      ],
      "execution_count": 0,
      "outputs": []
    },
    {
      "cell_type": "code",
      "metadata": {
        "id": "2Dkww515mQJa",
        "colab_type": "code",
        "outputId": "20cd93ec-5185-41e7-a215-61b682a3088f",
        "colab": {
          "base_uri": "https://localhost:8080/",
          "height": 235
        }
      },
      "source": [
        "dados_teste_4_3.corr()"
      ],
      "execution_count": 0,
      "outputs": [
        {
          "output_type": "execute_result",
          "data": {
            "text/html": [
              "<div>\n",
              "<style scoped>\n",
              "    .dataframe tbody tr th:only-of-type {\n",
              "        vertical-align: middle;\n",
              "    }\n",
              "\n",
              "    .dataframe tbody tr th {\n",
              "        vertical-align: top;\n",
              "    }\n",
              "\n",
              "    .dataframe thead th {\n",
              "        text-align: right;\n",
              "    }\n",
              "</style>\n",
              "<table border=\"1\" class=\"dataframe\">\n",
              "  <thead>\n",
              "    <tr style=\"text-align: right;\">\n",
              "      <th></th>\n",
              "      <th>NU_NOTA_CN</th>\n",
              "      <th>NU_NOTA_CH</th>\n",
              "      <th>NU_NOTA_LC</th>\n",
              "      <th>NU_NOTA_MT</th>\n",
              "      <th>NU_NOTA_REDACAO</th>\n",
              "      <th>Faltou_no_dia_1</th>\n",
              "    </tr>\n",
              "  </thead>\n",
              "  <tbody>\n",
              "    <tr>\n",
              "      <th>NU_NOTA_CN</th>\n",
              "      <td>1.000000</td>\n",
              "      <td>0.566659</td>\n",
              "      <td>0.588818</td>\n",
              "      <td>0.574146</td>\n",
              "      <td>0.507388</td>\n",
              "      <td>-0.003831</td>\n",
              "    </tr>\n",
              "    <tr>\n",
              "      <th>NU_NOTA_CH</th>\n",
              "      <td>0.566659</td>\n",
              "      <td>1.000000</td>\n",
              "      <td>0.696624</td>\n",
              "      <td>0.522041</td>\n",
              "      <td>0.503655</td>\n",
              "      <td>-0.051487</td>\n",
              "    </tr>\n",
              "    <tr>\n",
              "      <th>NU_NOTA_LC</th>\n",
              "      <td>0.588818</td>\n",
              "      <td>0.696624</td>\n",
              "      <td>1.000000</td>\n",
              "      <td>0.560897</td>\n",
              "      <td>0.552145</td>\n",
              "      <td>-0.051681</td>\n",
              "    </tr>\n",
              "    <tr>\n",
              "      <th>NU_NOTA_MT</th>\n",
              "      <td>0.574146</td>\n",
              "      <td>0.522041</td>\n",
              "      <td>0.560897</td>\n",
              "      <td>1.000000</td>\n",
              "      <td>0.486406</td>\n",
              "      <td>0.006297</td>\n",
              "    </tr>\n",
              "    <tr>\n",
              "      <th>NU_NOTA_REDACAO</th>\n",
              "      <td>0.507388</td>\n",
              "      <td>0.503655</td>\n",
              "      <td>0.552145</td>\n",
              "      <td>0.486406</td>\n",
              "      <td>1.000000</td>\n",
              "      <td>-0.019734</td>\n",
              "    </tr>\n",
              "    <tr>\n",
              "      <th>Faltou_no_dia_1</th>\n",
              "      <td>-0.003831</td>\n",
              "      <td>-0.051487</td>\n",
              "      <td>-0.051681</td>\n",
              "      <td>0.006297</td>\n",
              "      <td>-0.019734</td>\n",
              "      <td>1.000000</td>\n",
              "    </tr>\n",
              "  </tbody>\n",
              "</table>\n",
              "</div>"
            ],
            "text/plain": [
              "                 NU_NOTA_CN  NU_NOTA_CH  ...  NU_NOTA_REDACAO  Faltou_no_dia_1\n",
              "NU_NOTA_CN         1.000000    0.566659  ...         0.507388        -0.003831\n",
              "NU_NOTA_CH         0.566659    1.000000  ...         0.503655        -0.051487\n",
              "NU_NOTA_LC         0.588818    0.696624  ...         0.552145        -0.051681\n",
              "NU_NOTA_MT         0.574146    0.522041  ...         0.486406         0.006297\n",
              "NU_NOTA_REDACAO    0.507388    0.503655  ...         1.000000        -0.019734\n",
              "Faltou_no_dia_1   -0.003831   -0.051487  ...        -0.019734         1.000000\n",
              "\n",
              "[6 rows x 6 columns]"
            ]
          },
          "metadata": {
            "tags": []
          },
          "execution_count": 34
        }
      ]
    },
    {
      "cell_type": "code",
      "metadata": {
        "id": "pHMdNjaZmRl2",
        "colab_type": "code",
        "colab": {}
      },
      "source": [
        "coluna_features_4_3 = ['NU_NOTA_CN', 'NU_NOTA_CH', 'NU_NOTA_MT', 'NU_NOTA_REDACAO','Faltou_no_dia_1']\n",
        "\n",
        "X_treino_4_3 = dados_treino_4_3[coluna_features_4_3].to_numpy()\n",
        "Y_treino_4_3 = dados_treino_4_3[coluna_label].to_numpy()\n",
        "X_teste_4_3 = dados_teste_4_3[coluna_features_4_3].to_numpy()\n",
        "Y_teste_4_3 = dados_teste_4_3[coluna_label].to_numpy()\n",
        "\n",
        "#Lasso_erro_quadratico_medio(X_treino_4_3, Y_treino_4_3, X_teste_4_3, Y_teste_4_3)"
      ],
      "execution_count": 0,
      "outputs": []
    },
    {
      "cell_type": "markdown",
      "metadata": {
        "id": "-juzUeX5oQL2",
        "colab_type": "text"
      },
      "source": [
        "## 4.4 Criando a variável faltou no dia 2\n",
        "\n",
        "Conclusão: \n",
        "          \n",
        "           * Sem modificaçãoes -> 2177.3837700970284\n",
        "           * Com 4.3 -> 2175.7001898437484\n",
        "           * Com 4.4 -> 2175.71230543276"
      ]
    },
    {
      "cell_type": "code",
      "metadata": {
        "id": "87UULVHfn0vI",
        "colab_type": "code",
        "colab": {}
      },
      "source": [
        "dados_treino_4_4 = dados_treino_4_3.copy(deep=True)\n",
        "\n",
        "condicao_Dia_2_Nao_Possui_Nota = (dados_treino_4_4.NU_NOTA_MT == 0) & (dados_treino_4_4.NU_NOTA_CN == 0) \n",
        "condicao_Dia_1_Possui_Alguma_Nota = (dados_treino_4_4.NU_NOTA_LC > 0) | (dados_treino_4_4.NU_NOTA_CH > 0) | (dados_treino_4_4.NU_NOTA_REDACAO > 0)  \n",
        "\n",
        "dados_treino_4_4['Faltou_no_dia_2'] = 0\n",
        "dados_treino_4_4['Faltou_no_dia_2'].mask(condicao_Dia_2_Nao_Possui_Nota & condicao_Dia_1_Possui_Alguma_Nota, 1, inplace=True)"
      ],
      "execution_count": 0,
      "outputs": []
    },
    {
      "cell_type": "code",
      "metadata": {
        "id": "bxd9diN3o_Nl",
        "colab_type": "code",
        "outputId": "d9177883-42c7-4d50-dd5a-b603a3aa01ff",
        "colab": {
          "base_uri": "https://localhost:8080/",
          "height": 266
        }
      },
      "source": [
        "dados_treino_4_4.corr()"
      ],
      "execution_count": 0,
      "outputs": [
        {
          "output_type": "execute_result",
          "data": {
            "text/html": [
              "<div>\n",
              "<style scoped>\n",
              "    .dataframe tbody tr th:only-of-type {\n",
              "        vertical-align: middle;\n",
              "    }\n",
              "\n",
              "    .dataframe tbody tr th {\n",
              "        vertical-align: top;\n",
              "    }\n",
              "\n",
              "    .dataframe thead th {\n",
              "        text-align: right;\n",
              "    }\n",
              "</style>\n",
              "<table border=\"1\" class=\"dataframe\">\n",
              "  <thead>\n",
              "    <tr style=\"text-align: right;\">\n",
              "      <th></th>\n",
              "      <th>NU_NOTA_CN</th>\n",
              "      <th>NU_NOTA_CH</th>\n",
              "      <th>NU_NOTA_LC</th>\n",
              "      <th>NU_NOTA_MT</th>\n",
              "      <th>NU_NOTA_REDACAO</th>\n",
              "      <th>Faltou_no_dia_1</th>\n",
              "      <th>Faltou_no_dia_2</th>\n",
              "    </tr>\n",
              "  </thead>\n",
              "  <tbody>\n",
              "    <tr>\n",
              "      <th>NU_NOTA_CN</th>\n",
              "      <td>1.000000</td>\n",
              "      <td>0.568969</td>\n",
              "      <td>0.594625</td>\n",
              "      <td>0.580603</td>\n",
              "      <td>0.513613</td>\n",
              "      <td>-0.003827</td>\n",
              "      <td>-0.054383</td>\n",
              "    </tr>\n",
              "    <tr>\n",
              "      <th>NU_NOTA_CH</th>\n",
              "      <td>0.568969</td>\n",
              "      <td>1.000000</td>\n",
              "      <td>0.701125</td>\n",
              "      <td>0.531336</td>\n",
              "      <td>0.508316</td>\n",
              "      <td>-0.074245</td>\n",
              "      <td>-0.004813</td>\n",
              "    </tr>\n",
              "    <tr>\n",
              "      <th>NU_NOTA_LC</th>\n",
              "      <td>0.594625</td>\n",
              "      <td>0.701125</td>\n",
              "      <td>1.000000</td>\n",
              "      <td>0.567226</td>\n",
              "      <td>0.560623</td>\n",
              "      <td>-0.075415</td>\n",
              "      <td>-0.005862</td>\n",
              "    </tr>\n",
              "    <tr>\n",
              "      <th>NU_NOTA_MT</th>\n",
              "      <td>0.580603</td>\n",
              "      <td>0.531336</td>\n",
              "      <td>0.567226</td>\n",
              "      <td>1.000000</td>\n",
              "      <td>0.489896</td>\n",
              "      <td>-0.004590</td>\n",
              "      <td>-0.042447</td>\n",
              "    </tr>\n",
              "    <tr>\n",
              "      <th>NU_NOTA_REDACAO</th>\n",
              "      <td>0.513613</td>\n",
              "      <td>0.508316</td>\n",
              "      <td>0.560623</td>\n",
              "      <td>0.489896</td>\n",
              "      <td>1.000000</td>\n",
              "      <td>-0.028924</td>\n",
              "      <td>-0.001518</td>\n",
              "    </tr>\n",
              "    <tr>\n",
              "      <th>Faltou_no_dia_1</th>\n",
              "      <td>-0.003827</td>\n",
              "      <td>-0.074245</td>\n",
              "      <td>-0.075415</td>\n",
              "      <td>-0.004590</td>\n",
              "      <td>-0.028924</td>\n",
              "      <td>1.000000</td>\n",
              "      <td>-0.000084</td>\n",
              "    </tr>\n",
              "    <tr>\n",
              "      <th>Faltou_no_dia_2</th>\n",
              "      <td>-0.054383</td>\n",
              "      <td>-0.004813</td>\n",
              "      <td>-0.005862</td>\n",
              "      <td>-0.042447</td>\n",
              "      <td>-0.001518</td>\n",
              "      <td>-0.000084</td>\n",
              "      <td>1.000000</td>\n",
              "    </tr>\n",
              "  </tbody>\n",
              "</table>\n",
              "</div>"
            ],
            "text/plain": [
              "                 NU_NOTA_CN  NU_NOTA_CH  ...  Faltou_no_dia_1  Faltou_no_dia_2\n",
              "NU_NOTA_CN         1.000000    0.568969  ...        -0.003827        -0.054383\n",
              "NU_NOTA_CH         0.568969    1.000000  ...        -0.074245        -0.004813\n",
              "NU_NOTA_LC         0.594625    0.701125  ...        -0.075415        -0.005862\n",
              "NU_NOTA_MT         0.580603    0.531336  ...        -0.004590        -0.042447\n",
              "NU_NOTA_REDACAO    0.513613    0.508316  ...        -0.028924        -0.001518\n",
              "Faltou_no_dia_1   -0.003827   -0.074245  ...         1.000000        -0.000084\n",
              "Faltou_no_dia_2   -0.054383   -0.004813  ...        -0.000084         1.000000\n",
              "\n",
              "[7 rows x 7 columns]"
            ]
          },
          "metadata": {
            "tags": []
          },
          "execution_count": 37
        }
      ]
    },
    {
      "cell_type": "code",
      "metadata": {
        "id": "rvwiTIDqpAXo",
        "colab_type": "code",
        "colab": {}
      },
      "source": [
        "dados_teste_4_4 = dados_teste_4_3.copy(deep=True)\n",
        "\n",
        "teste_condicao_Dia_2_Nao_Possui_Nota = (dados_teste_4_4.NU_NOTA_MT == 0) & (dados_teste_4_4.NU_NOTA_CN == 0) \n",
        "teste_condicao_Dia_1_Possui_Alguma_Nota = (dados_teste_4_4.NU_NOTA_LC > 0) | (dados_teste_4_4.NU_NOTA_CH > 0) | (dados_teste_4_4.NU_NOTA_REDACAO > 0)  \n",
        "\n",
        "dados_teste_4_4['Faltou_no_dia_2'] = 0\n",
        "dados_teste_4_4['Faltou_no_dia_2'].mask(teste_condicao_Dia_2_Nao_Possui_Nota & teste_condicao_Dia_1_Possui_Alguma_Nota, 1, inplace=True)"
      ],
      "execution_count": 0,
      "outputs": []
    },
    {
      "cell_type": "code",
      "metadata": {
        "id": "F3c4oUTQpXt0",
        "colab_type": "code",
        "outputId": "35de49e6-4ee0-46d3-e00b-f81fb13c85c4",
        "colab": {
          "base_uri": "https://localhost:8080/",
          "height": 266
        }
      },
      "source": [
        "dados_teste_4_4.corr()"
      ],
      "execution_count": 0,
      "outputs": [
        {
          "output_type": "execute_result",
          "data": {
            "text/html": [
              "<div>\n",
              "<style scoped>\n",
              "    .dataframe tbody tr th:only-of-type {\n",
              "        vertical-align: middle;\n",
              "    }\n",
              "\n",
              "    .dataframe tbody tr th {\n",
              "        vertical-align: top;\n",
              "    }\n",
              "\n",
              "    .dataframe thead th {\n",
              "        text-align: right;\n",
              "    }\n",
              "</style>\n",
              "<table border=\"1\" class=\"dataframe\">\n",
              "  <thead>\n",
              "    <tr style=\"text-align: right;\">\n",
              "      <th></th>\n",
              "      <th>NU_NOTA_CN</th>\n",
              "      <th>NU_NOTA_CH</th>\n",
              "      <th>NU_NOTA_LC</th>\n",
              "      <th>NU_NOTA_MT</th>\n",
              "      <th>NU_NOTA_REDACAO</th>\n",
              "      <th>Faltou_no_dia_1</th>\n",
              "      <th>Faltou_no_dia_2</th>\n",
              "    </tr>\n",
              "  </thead>\n",
              "  <tbody>\n",
              "    <tr>\n",
              "      <th>NU_NOTA_CN</th>\n",
              "      <td>1.000000</td>\n",
              "      <td>0.566659</td>\n",
              "      <td>0.588818</td>\n",
              "      <td>0.574146</td>\n",
              "      <td>0.507388</td>\n",
              "      <td>-0.003831</td>\n",
              "      <td>-0.047486</td>\n",
              "    </tr>\n",
              "    <tr>\n",
              "      <th>NU_NOTA_CH</th>\n",
              "      <td>0.566659</td>\n",
              "      <td>1.000000</td>\n",
              "      <td>0.696624</td>\n",
              "      <td>0.522041</td>\n",
              "      <td>0.503655</td>\n",
              "      <td>-0.051487</td>\n",
              "      <td>-0.002074</td>\n",
              "    </tr>\n",
              "    <tr>\n",
              "      <th>NU_NOTA_LC</th>\n",
              "      <td>0.588818</td>\n",
              "      <td>0.696624</td>\n",
              "      <td>1.000000</td>\n",
              "      <td>0.560897</td>\n",
              "      <td>0.552145</td>\n",
              "      <td>-0.051681</td>\n",
              "      <td>0.006481</td>\n",
              "    </tr>\n",
              "    <tr>\n",
              "      <th>NU_NOTA_MT</th>\n",
              "      <td>0.574146</td>\n",
              "      <td>0.522041</td>\n",
              "      <td>0.560897</td>\n",
              "      <td>1.000000</td>\n",
              "      <td>0.486406</td>\n",
              "      <td>0.006297</td>\n",
              "      <td>-0.036984</td>\n",
              "    </tr>\n",
              "    <tr>\n",
              "      <th>NU_NOTA_REDACAO</th>\n",
              "      <td>0.507388</td>\n",
              "      <td>0.503655</td>\n",
              "      <td>0.552145</td>\n",
              "      <td>0.486406</td>\n",
              "      <td>1.000000</td>\n",
              "      <td>-0.019734</td>\n",
              "      <td>0.010850</td>\n",
              "    </tr>\n",
              "    <tr>\n",
              "      <th>Faltou_no_dia_1</th>\n",
              "      <td>-0.003831</td>\n",
              "      <td>-0.051487</td>\n",
              "      <td>-0.051681</td>\n",
              "      <td>0.006297</td>\n",
              "      <td>-0.019734</td>\n",
              "      <td>1.000000</td>\n",
              "      <td>-0.000050</td>\n",
              "    </tr>\n",
              "    <tr>\n",
              "      <th>Faltou_no_dia_2</th>\n",
              "      <td>-0.047486</td>\n",
              "      <td>-0.002074</td>\n",
              "      <td>0.006481</td>\n",
              "      <td>-0.036984</td>\n",
              "      <td>0.010850</td>\n",
              "      <td>-0.000050</td>\n",
              "      <td>1.000000</td>\n",
              "    </tr>\n",
              "  </tbody>\n",
              "</table>\n",
              "</div>"
            ],
            "text/plain": [
              "                 NU_NOTA_CN  NU_NOTA_CH  ...  Faltou_no_dia_1  Faltou_no_dia_2\n",
              "NU_NOTA_CN         1.000000    0.566659  ...        -0.003831        -0.047486\n",
              "NU_NOTA_CH         0.566659    1.000000  ...        -0.051487        -0.002074\n",
              "NU_NOTA_LC         0.588818    0.696624  ...        -0.051681         0.006481\n",
              "NU_NOTA_MT         0.574146    0.522041  ...         0.006297        -0.036984\n",
              "NU_NOTA_REDACAO    0.507388    0.503655  ...        -0.019734         0.010850\n",
              "Faltou_no_dia_1   -0.003831   -0.051487  ...         1.000000        -0.000050\n",
              "Faltou_no_dia_2   -0.047486   -0.002074  ...        -0.000050         1.000000\n",
              "\n",
              "[7 rows x 7 columns]"
            ]
          },
          "metadata": {
            "tags": []
          },
          "execution_count": 39
        }
      ]
    },
    {
      "cell_type": "code",
      "metadata": {
        "id": "xuvbyMgtp0-n",
        "colab_type": "code",
        "colab": {}
      },
      "source": [
        "coluna_features_4_4 = ['NU_NOTA_CN', 'NU_NOTA_CH', 'NU_NOTA_MT', 'NU_NOTA_REDACAO','Faltou_no_dia_1','Faltou_no_dia_2']\n",
        "\n",
        "X_treino_4_4 = dados_treino_4_4[coluna_features_4_4].to_numpy()\n",
        "Y_treino_4_4 = dados_treino_4_4[coluna_label].to_numpy()\n",
        "X_teste_4_4 = dados_teste_4_4[coluna_features_4_4].to_numpy()\n",
        "Y_teste_4_4 = dados_teste_4_4[coluna_label].to_numpy()\n",
        "\n",
        "#Lasso_erro_quadratico_medio(X_treino_4_4, Y_treino_4_4, X_teste_4_4, Y_teste_4_4)"
      ],
      "execution_count": 0,
      "outputs": []
    },
    {
      "cell_type": "code",
      "metadata": {
        "id": "SqI33-Pjgk3K",
        "colab_type": "code",
        "colab": {}
      },
      "source": [
        ""
      ],
      "execution_count": 0,
      "outputs": []
    },
    {
      "cell_type": "markdown",
      "metadata": {
        "id": "oabwj3cKrTfd",
        "colab_type": "text"
      },
      "source": [
        "## 4.5 E se eu substituir todos os zeros por um valor negativo?\n",
        "\n",
        "Conlsuão: \n",
        "\n",
        "\n",
        "*   Sem modificações -> 2177.3837700970284\n",
        "*   Com 5.4 -> 2175.71230543276\n",
        "*   Com 5.5 -> 2174.9998033456836\n",
        "\n",
        "Dos números entre -25 e -300, encontrei o valor -111 com o melhor resultado\n",
        "\n"
      ]
    },
    {
      "cell_type": "code",
      "metadata": {
        "id": "EsPay_2frJ6N",
        "colab_type": "code",
        "colab": {}
      },
      "source": [
        "dados_treino_4_5 = dados_treino_4_4.copy(deep=True)"
      ],
      "execution_count": 0,
      "outputs": []
    },
    {
      "cell_type": "code",
      "metadata": {
        "id": "J_jE1l9mvDfk",
        "colab_type": "code",
        "colab": {}
      },
      "source": [
        "valor_a_ser_comparado = 0\n",
        "valor_a_ser_colocado =  -111"
      ],
      "execution_count": 0,
      "outputs": []
    },
    {
      "cell_type": "code",
      "metadata": {
        "id": "57qSHtPZr9oj",
        "colab_type": "code",
        "colab": {}
      },
      "source": [
        "condicao_NOTA_CN_igual_a_0 = dados_treino_4_5['NU_NOTA_CN'] == valor_a_ser_comparado\n",
        "\n",
        "dados_treino_4_5['NU_NOTA_CN'].mask(condicao_NOTA_CN_igual_a_0,valor_a_ser_colocado,inplace=True)"
      ],
      "execution_count": 0,
      "outputs": []
    },
    {
      "cell_type": "code",
      "metadata": {
        "id": "H496fFehtXAD",
        "colab_type": "code",
        "colab": {}
      },
      "source": [
        "condicao_NOTA_CH_igual_a_0 = dados_treino_4_5['NU_NOTA_CH'] == valor_a_ser_comparado\n",
        "\n",
        "dados_treino_4_5['NU_NOTA_CH'].mask(condicao_NOTA_CH_igual_a_0,valor_a_ser_colocado,inplace=True)"
      ],
      "execution_count": 0,
      "outputs": []
    },
    {
      "cell_type": "code",
      "metadata": {
        "id": "UvMpHhbFtmbZ",
        "colab_type": "code",
        "colab": {}
      },
      "source": [
        "condicao_NOTA_LC_igual_a_0 = dados_treino_4_5['NU_NOTA_LC'] == valor_a_ser_comparado\n",
        "\n",
        "dados_treino_4_5['NU_NOTA_LC'].mask(condicao_NOTA_LC_igual_a_0,valor_a_ser_colocado,inplace=True)"
      ],
      "execution_count": 0,
      "outputs": []
    },
    {
      "cell_type": "code",
      "metadata": {
        "id": "Flfk4KNutydt",
        "colab_type": "code",
        "colab": {}
      },
      "source": [
        "condicao_NOTA_MT_igual_a_0 = dados_treino_4_5['NU_NOTA_MT'] == valor_a_ser_comparado\n",
        "\n",
        "dados_treino_4_5['NU_NOTA_MT'].mask(condicao_NOTA_MT_igual_a_0,valor_a_ser_colocado,inplace=True)"
      ],
      "execution_count": 0,
      "outputs": []
    },
    {
      "cell_type": "code",
      "metadata": {
        "id": "ovmNLFs3t5Ea",
        "colab_type": "code",
        "colab": {}
      },
      "source": [
        "condicao_NOTA_REDACAO_igual_a_0 = dados_treino_4_5['NU_NOTA_REDACAO'] == valor_a_ser_comparado\n",
        "\n",
        "dados_treino_4_5['NU_NOTA_REDACAO'].mask(condicao_NOTA_REDACAO_igual_a_0,valor_a_ser_colocado,inplace=True)"
      ],
      "execution_count": 0,
      "outputs": []
    },
    {
      "cell_type": "code",
      "metadata": {
        "id": "wh6Z5dqkjXnf",
        "colab_type": "code",
        "colab": {}
      },
      "source": [
        "X_treino_4_5 = dados_treino_4_5[coluna_features_4_4].to_numpy()\n",
        "Y_treino_4_5 = dados_treino_4_5[coluna_label].to_numpy()"
      ],
      "execution_count": 0,
      "outputs": []
    },
    {
      "cell_type": "markdown",
      "metadata": {
        "id": "stLerKJ5g--8",
        "colab_type": "text"
      },
      "source": [
        "# 5. Exportando os dados modificados"
      ]
    },
    {
      "cell_type": "code",
      "metadata": {
        "id": "39C4n_cQhDr-",
        "colab_type": "code",
        "colab": {}
      },
      "source": [
        "from google.colab import files"
      ],
      "execution_count": 0,
      "outputs": []
    },
    {
      "cell_type": "code",
      "metadata": {
        "id": "AZnKGg-kk_rf",
        "colab_type": "code",
        "colab": {}
      },
      "source": [
        "dados_treino.to_csv('dados_treino.csv', index=False) \n",
        "files.download('dados_treino.csv')"
      ],
      "execution_count": 0,
      "outputs": []
    },
    {
      "cell_type": "code",
      "metadata": {
        "id": "SpPJuuXnk_0F",
        "colab_type": "code",
        "colab": {}
      },
      "source": [
        "dados_teste.to_csv('dados_teste.csv', index=False) \n",
        "files.download('dados_teste.csv')"
      ],
      "execution_count": 0,
      "outputs": []
    },
    {
      "cell_type": "code",
      "metadata": {
        "id": "IG9DOwGlhMUP",
        "colab_type": "code",
        "colab": {}
      },
      "source": [
        "dados_treino_4_3.to_csv('dados_treino_faltou_dia_1.csv', index=False) \n",
        "files.download('dados_treino_faltou_dia_1.csv')"
      ],
      "execution_count": 0,
      "outputs": []
    },
    {
      "cell_type": "code",
      "metadata": {
        "id": "Cv2ZIen-hMc-",
        "colab_type": "code",
        "colab": {}
      },
      "source": [
        "dados_teste_4_3.to_csv('dados_teste_4_3_faltou_dia_1.csv', index=False) \n",
        "files.download('dados_teste_4_3_faltou_dia_1.csv')"
      ],
      "execution_count": 0,
      "outputs": []
    },
    {
      "cell_type": "code",
      "metadata": {
        "id": "x9-rqFQrhMin",
        "colab_type": "code",
        "colab": {}
      },
      "source": [
        "dados_treino_4_4.to_csv('dados_treino_faltou_dia_1_e_2.csv', index=False) \n",
        "files.download('dados_treino_faltou_dia_1_e_2.csv')"
      ],
      "execution_count": 0,
      "outputs": []
    },
    {
      "cell_type": "code",
      "metadata": {
        "id": "9P0zYZnkhozg",
        "colab_type": "code",
        "colab": {}
      },
      "source": [
        "dados_teste_4_4.to_csv('dados_teste_faltou_dia_1_e_2.csv', index=False) \n",
        "files.download('dados_teste_faltou_dia_1_e_2.csv')"
      ],
      "execution_count": 0,
      "outputs": []
    },
    {
      "cell_type": "code",
      "metadata": {
        "id": "20xX0Bkpho-f",
        "colab_type": "code",
        "colab": {}
      },
      "source": [
        "dados_treino_4_5.to_csv('dados_treino_faltou_dia_1_e_2_sem_nota_zero.csv', index=False) \n",
        "files.download('dados_treino_faltou_dia_1_e_2_sem_nota_zero.csv')\n"
      ],
      "execution_count": 0,
      "outputs": []
    }
  ]
}