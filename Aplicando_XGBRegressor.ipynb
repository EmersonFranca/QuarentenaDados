{
  "nbformat": 4,
  "nbformat_minor": 0,
  "metadata": {
    "colab": {
      "name": "Aplicando XGBRegressor.ipynb",
      "provenance": [],
      "authorship_tag": "ABX9TyM1/u3zhLe8e1Jv5BRjPyOY",
      "include_colab_link": true
    },
    "kernelspec": {
      "name": "python3",
      "display_name": "Python 3"
    }
  },
  "cells": [
    {
      "cell_type": "markdown",
      "metadata": {
        "id": "view-in-github",
        "colab_type": "text"
      },
      "source": [
        "<a href=\"https://colab.research.google.com/github/EmersonFranca/QuarentenaDados/blob/master/Aplicando_XGBRegressor.ipynb\" target=\"_parent\"><img src=\"https://colab.research.google.com/assets/colab-badge.svg\" alt=\"Open In Colab\"/></a>"
      ]
    },
    {
      "cell_type": "markdown",
      "metadata": {
        "id": "_RC2ZgJ4l6Rq",
        "colab_type": "text"
      },
      "source": [
        "# 1. Importando bibliotecas"
      ]
    },
    {
      "cell_type": "code",
      "metadata": {
        "id": "5vPgapd5lvFH",
        "colab_type": "code",
        "colab": {}
      },
      "source": [
        "import pandas as pd\n",
        "import numpy as np"
      ],
      "execution_count": 0,
      "outputs": []
    },
    {
      "cell_type": "code",
      "metadata": {
        "id": "J7jA2Yh9l9i1",
        "colab_type": "code",
        "colab": {}
      },
      "source": [
        "import xgboost\n",
        "from sklearn.metrics import mean_squared_error\n",
        "from sklearn import metrics"
      ],
      "execution_count": 0,
      "outputs": []
    },
    {
      "cell_type": "markdown",
      "metadata": {
        "id": "S4cJggSHn8Nj",
        "colab_type": "text"
      },
      "source": [
        "# 2. Importando os dados"
      ]
    },
    {
      "cell_type": "code",
      "metadata": {
        "id": "-C__8yhfmMY_",
        "colab_type": "code",
        "colab": {}
      },
      "source": [
        "URI_TESTE =\"https://raw.githubusercontent.com/EmersonFranca/QuarentenaDados/master/Dados/dados_teste.csv\"\n",
        "URI_TESTE_FALTOU_DIA_1 =\"https://raw.githubusercontent.com/EmersonFranca/QuarentenaDados/master/Dados/dados_teste_4_3_faltou_dia_1.csv\"\n",
        "URI_TESTE_FALTOU_DIA_1_E_2 =\"https://raw.githubusercontent.com/EmersonFranca/QuarentenaDados/master/Dados/dados_teste_faltou_dia_1_e_2.csv\"\n",
        "URI_TREINO =\"https://raw.githubusercontent.com/EmersonFranca/QuarentenaDados/master/Dados/dados_treino.csv\"\n",
        "URI_TREINO_FALTOU_DIA_1 =\"https://raw.githubusercontent.com/EmersonFranca/QuarentenaDados/master/Dados/dados_treino_faltou_dia_1.csv\"\n",
        "URI_TREINO_FALTOU_DIA_1_2 =\"https://raw.githubusercontent.com/EmersonFranca/QuarentenaDados/master/Dados/dados_treino_faltou_dia_1_e_2.csv\"\n",
        "URI_TREINO_FALTOU_DIA_1_2_SEM_NOTA_ZERO =\"https://raw.githubusercontent.com/EmersonFranca/QuarentenaDados/master/Dados/dados_treino_faltou_dia_1_e_2_sem_nota_zero.csv\"\n",
        "\n",
        "\n",
        "URI_TESTE_FALTOU_DIA_1_TRANSFORM_LOGARITMICA = \"https://raw.githubusercontent.com/EmersonFranca/QuarentenaDados/master/Dados/dados%20com%20transformacao%20logaritimica/dados_teste_faltou_dia_1_com_transformacao_logaritmica.csv\"\n",
        "URI_TREINO_FALTOU_DIA_1_TRANSFORM_LOGARITMICA = \"https://raw.githubusercontent.com/EmersonFranca/QuarentenaDados/master/Dados/dados%20com%20transformacao%20logaritimica/dados_treino_faltou_dia_1_com_transformacao_logaritmica.csv\""
      ],
      "execution_count": 0,
      "outputs": []
    },
    {
      "cell_type": "code",
      "metadata": {
        "id": "G4OrKfhHnw-J",
        "colab_type": "code",
        "colab": {}
      },
      "source": [
        "dados_treino = pd.read_csv(URI_TREINO)\n",
        "dados_teste = pd.read_csv(URI_TESTE)"
      ],
      "execution_count": 0,
      "outputs": []
    },
    {
      "cell_type": "code",
      "metadata": {
        "id": "d3ht3_-xoeNq",
        "colab_type": "code",
        "colab": {}
      },
      "source": [
        "dados_treino_faltou_dia_1 = pd.read_csv(URI_TREINO_FALTOU_DIA_1)\n",
        "dados_teste_faltou_dia_1 = pd.read_csv(URI_TESTE_FALTOU_DIA_1)"
      ],
      "execution_count": 0,
      "outputs": []
    },
    {
      "cell_type": "code",
      "metadata": {
        "id": "MDgTGvXOoexD",
        "colab_type": "code",
        "colab": {}
      },
      "source": [
        "dados_treino_faltou_dia_1_e_2 = pd.read_csv(URI_TREINO_FALTOU_DIA_1_2)\n",
        "dados_teste_faltou_dia_1_e_2 = pd.read_csv(URI_TESTE_FALTOU_DIA_1_E_2)"
      ],
      "execution_count": 0,
      "outputs": []
    },
    {
      "cell_type": "code",
      "metadata": {
        "id": "ZYfWN4gOoe5K",
        "colab_type": "code",
        "colab": {}
      },
      "source": [
        "dados_treino_faltou_dia_1_e_2_e_sem_nota_zero = pd.read_csv(URI_TREINO_FALTOU_DIA_1_2_SEM_NOTA_ZERO)"
      ],
      "execution_count": 0,
      "outputs": []
    },
    {
      "cell_type": "code",
      "metadata": {
        "id": "34MwIMnJY1JG",
        "colab_type": "code",
        "colab": {}
      },
      "source": [
        "dados_treino_faltou_dia_1_logaritmica = pd.read_csv(URI_TREINO_FALTOU_DIA_1_TRANSFORM_LOGARITMICA)\n",
        "dados_teste_faltou_dia_1_logaritmica = pd.read_csv(URI_TESTE_FALTOU_DIA_1_TRANSFORM_LOGARITMICA)\n"
      ],
      "execution_count": 0,
      "outputs": []
    },
    {
      "cell_type": "markdown",
      "metadata": {
        "id": "rTFalZUto_gl",
        "colab_type": "text"
      },
      "source": [
        "# 3. Transformando os dados para aplicar os modelos"
      ]
    },
    {
      "cell_type": "code",
      "metadata": {
        "id": "GBza9DbnnlqN",
        "colab_type": "code",
        "colab": {}
      },
      "source": [
        "coluna_label = 'NU_NOTA_LC'\n",
        "coluna_features = ['NU_NOTA_CN', 'NU_NOTA_CH', 'NU_NOTA_MT', 'NU_NOTA_REDACAO']"
      ],
      "execution_count": 0,
      "outputs": []
    },
    {
      "cell_type": "code",
      "metadata": {
        "id": "bKCdOHa_pElD",
        "colab_type": "code",
        "colab": {}
      },
      "source": [
        "X_treino = dados_treino[coluna_features].to_numpy()\n",
        "Y_treino = dados_treino[coluna_label].to_numpy()\n",
        "X_teste = dados_teste[coluna_features].to_numpy()\n",
        "Y_teste = dados_teste[coluna_label].to_numpy()"
      ],
      "execution_count": 0,
      "outputs": []
    },
    {
      "cell_type": "code",
      "metadata": {
        "id": "CMu3bDuQpEr1",
        "colab_type": "code",
        "colab": {}
      },
      "source": [
        "coluna_features_dia_1 = ['NU_NOTA_CN', 'NU_NOTA_CH', 'NU_NOTA_MT', 'NU_NOTA_REDACAO','Faltou_no_dia_1']\n",
        "\n",
        "X_treino_dia_1 = dados_treino_faltou_dia_1[coluna_features_dia_1].to_numpy()\n",
        "Y_treino_dia_1 = dados_treino_faltou_dia_1[coluna_label].to_numpy()\n",
        "X_teste_dia_1 = dados_teste_faltou_dia_1[coluna_features_dia_1].to_numpy()\n",
        "Y_teste_dia_1 = dados_teste_faltou_dia_1[coluna_label].to_numpy()"
      ],
      "execution_count": 0,
      "outputs": []
    },
    {
      "cell_type": "code",
      "metadata": {
        "id": "8-yJj8jHpYoq",
        "colab_type": "code",
        "colab": {}
      },
      "source": [
        "coluna_features_dia_1_e_2 = ['NU_NOTA_CN', 'NU_NOTA_CH', 'NU_NOTA_MT', 'NU_NOTA_REDACAO','Faltou_no_dia_1','Faltou_no_dia_2']\n",
        "\n",
        "X_treino_dia_1_e_2 = dados_treino_faltou_dia_1_e_2[coluna_features_dia_1_e_2].to_numpy()\n",
        "Y_treino_dia_1_e_2 = dados_treino_faltou_dia_1_e_2[coluna_label].to_numpy()\n",
        "X_teste_dia_1_e_2 = dados_teste_faltou_dia_1_e_2[coluna_features_dia_1_e_2].to_numpy()\n",
        "Y_teste_dia_1_e_2 = dados_teste_faltou_dia_1_e_2[coluna_label].to_numpy()"
      ],
      "execution_count": 0,
      "outputs": []
    },
    {
      "cell_type": "code",
      "metadata": {
        "id": "gaZvdhgDpyMS",
        "colab_type": "code",
        "colab": {}
      },
      "source": [
        "coluna_features_dia_1_e_2 = ['NU_NOTA_CN', 'NU_NOTA_CH', 'NU_NOTA_MT', 'NU_NOTA_REDACAO','Faltou_no_dia_1','Faltou_no_dia_2']\n",
        "\n",
        "X_treino_dia_1_e_2_sem_nota_zero = dados_treino_faltou_dia_1_e_2_e_sem_nota_zero[coluna_features_dia_1_e_2].to_numpy()\n",
        "Y_treino_dia_1_e_2_sem_nota_zero = dados_treino_faltou_dia_1_e_2_e_sem_nota_zero[coluna_label].to_numpy()"
      ],
      "execution_count": 0,
      "outputs": []
    },
    {
      "cell_type": "code",
      "metadata": {
        "id": "1nl8IE9dWiC1",
        "colab_type": "code",
        "colab": {}
      },
      "source": [
        "coluna_features_log_dia_1_logaritmica = ['log_NU_NOTA_CN', 'log_NU_NOTA_CH', 'log_NU_NOTA_MT', 'log_NU_NOTA_REDACAO','log_Faltou_no_dia_1']\n",
        "\n",
        "X_treino_dia_1_logaritmica = dados_treino_faltou_dia_1_logaritmica[coluna_features_log_dia_1_logaritmica].to_numpy()\n",
        "Y_treino_dia_1_logaritmica = dados_treino_faltou_dia_1_logaritmica[coluna_label].to_numpy()\n",
        "X_teste_dia_1_logaritmica = dados_teste_faltou_dia_1_logaritmica[coluna_features_log_dia_1_logaritmica].to_numpy()\n",
        "Y_teste_dia_1_logaritmica = dados_teste_faltou_dia_1_logaritmica[coluna_label].to_numpy()\n"
      ],
      "execution_count": 0,
      "outputs": []
    },
    {
      "cell_type": "markdown",
      "metadata": {
        "id": "JZe1yEjBdl2z",
        "colab_type": "text"
      },
      "source": [
        "# 4. Aplicando o Modelo Lasso"
      ]
    },
    {
      "cell_type": "markdown",
      "metadata": {
        "id": "fDpQFS_Qd_Tr",
        "colab_type": "text"
      },
      "source": [
        "## 4.1 Aplicando os dados de treino e teste sem serem modificados\n",
        "\n",
        "Melhor Resultado: "
      ]
    },
    {
      "cell_type": "code",
      "metadata": {
        "id": "oTZUa8HddnrY",
        "colab_type": "code",
        "colab": {}
      },
      "source": [
        ""
      ],
      "execution_count": 0,
      "outputs": []
    },
    {
      "cell_type": "markdown",
      "metadata": {
        "colab_type": "text",
        "id": "fRziB1l_evay"
      },
      "source": [
        "## 4.2 Aplicando os dados de treino e teste sem serem modificados\n",
        "\n",
        "Melhor Resultado:  `xgboost.XGBRegressor(reg_alpha=0.8) `\n",
        "\n",
        "* Minha avaliação nos dados de teste foi de 2040.0245659746677\n",
        "* R² da previsão 0.6091157044369351"
      ]
    },
    {
      "cell_type": "code",
      "metadata": {
        "id": "ZoQB2oife3Ho",
        "colab_type": "code",
        "outputId": "95c4b7c9-fae6-4c96-e7ce-689101bf26fb",
        "colab": {
          "base_uri": "https://localhost:8080/",
          "height": 68
        }
      },
      "source": [
        "modelo_dia_1 = xgboost.XGBRegressor(\n",
        "                             #colsample_bytree=0.4,\n",
        "                             #gamma=0,                 \n",
        "                             learning_rate=0.1,\n",
        "                             max_depth=3,\n",
        "                             #min_child_weight=0.8,\n",
        "                             n_estimators=100,                                                                    \n",
        "                             reg_alpha=0.80,\n",
        "                             #reg_lambda=0.45,\n",
        "                             #subsample=0.6,\n",
        "                             seed=180) \n",
        "\n",
        "modelo_dia_1.fit(X_treino_dia_1, Y_treino_dia_1)\n",
        "#Fazendo predições com meu modelo LinearSVR, passando meu X de teste\n",
        "Y_predicoes_dia_1 = modelo_dia_1.predict(X_teste_dia_1)\n",
        "# Utilizando a métrica mean_squared_error para avaliar o quão \"bom\" foi esse modelo\n",
        "avaliacao_dia_1 = mean_squared_error(Y_teste_dia_1, Y_predicoes_dia_1)\n",
        "r2_Score = metrics.r2_score(Y_teste_dia_1, Y_predicoes_dia_1)\n",
        "print(f\"Minha avaliação nos dados de teste foi de {avaliacao_dia_1}\")\n",
        "print(f\"R² da previsão {r2_Score}\")"
      ],
      "execution_count": 50,
      "outputs": [
        {
          "output_type": "stream",
          "text": [
            "[13:39:50] WARNING: /workspace/src/objective/regression_obj.cu:152: reg:linear is now deprecated in favor of reg:squarederror.\n",
            "Minha avaliação nos dados de teste foi de 2040.0245659746677\n",
            "R² da previsão 0.6091157044369351\n"
          ],
          "name": "stdout"
        }
      ]
    },
    {
      "cell_type": "markdown",
      "metadata": {
        "id": "CWZARh-HnaaC",
        "colab_type": "text"
      },
      "source": [
        ""
      ]
    },
    {
      "cell_type": "code",
      "metadata": {
        "id": "zmZq1L6wfCCY",
        "colab_type": "code",
        "colab": {}
      },
      "source": [
        ""
      ],
      "execution_count": 0,
      "outputs": []
    }
  ]
}