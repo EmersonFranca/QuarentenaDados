{
  "nbformat": 4,
  "nbformat_minor": 0,
  "metadata": {
    "colab": {
      "name": "Aplicando GradientBoostingRegressor.ipynb",
      "provenance": [],
      "authorship_tag": "ABX9TyOcaViy5JmbvxsKYwpm3MbN",
      "include_colab_link": true
    },
    "kernelspec": {
      "name": "python3",
      "display_name": "Python 3"
    }
  },
  "cells": [
    {
      "cell_type": "markdown",
      "metadata": {
        "id": "view-in-github",
        "colab_type": "text"
      },
      "source": [
        "<a href=\"https://colab.research.google.com/github/EmersonFranca/QuarentenaDados/blob/master/Aplicando_GradientBoostingRegressor.ipynb\" target=\"_parent\"><img src=\"https://colab.research.google.com/assets/colab-badge.svg\" alt=\"Open In Colab\"/></a>"
      ]
    },
    {
      "cell_type": "markdown",
      "metadata": {
        "id": "_RC2ZgJ4l6Rq",
        "colab_type": "text"
      },
      "source": [
        "# 1. Importando bibliotecas"
      ]
    },
    {
      "cell_type": "code",
      "metadata": {
        "id": "5vPgapd5lvFH",
        "colab_type": "code",
        "colab": {}
      },
      "source": [
        "import pandas as pd\n",
        "import numpy as np"
      ],
      "execution_count": 0,
      "outputs": []
    },
    {
      "cell_type": "code",
      "metadata": {
        "id": "J7jA2Yh9l9i1",
        "colab_type": "code",
        "colab": {}
      },
      "source": [
        "from sklearn.ensemble import GradientBoostingRegressor\n",
        "from sklearn.metrics import mean_squared_error\n",
        "from sklearn import metrics"
      ],
      "execution_count": 0,
      "outputs": []
    },
    {
      "cell_type": "markdown",
      "metadata": {
        "id": "S4cJggSHn8Nj",
        "colab_type": "text"
      },
      "source": [
        "# 2. Importando os dados"
      ]
    },
    {
      "cell_type": "code",
      "metadata": {
        "id": "-C__8yhfmMY_",
        "colab_type": "code",
        "colab": {}
      },
      "source": [
        "URI_TESTE =\"https://raw.githubusercontent.com/EmersonFranca/QuarentenaDados/master/Dados/dados_teste.csv\"\n",
        "URI_TESTE_FALTOU_DIA_1 =\"https://raw.githubusercontent.com/EmersonFranca/QuarentenaDados/master/Dados/dados_teste_4_3_faltou_dia_1.csv\"\n",
        "URI_TESTE_FALTOU_DIA_1_E_2 =\"https://raw.githubusercontent.com/EmersonFranca/QuarentenaDados/master/Dados/dados_teste_faltou_dia_1_e_2.csv\"\n",
        "URI_TREINO =\"https://raw.githubusercontent.com/EmersonFranca/QuarentenaDados/master/Dados/dados_treino.csv\"\n",
        "URI_TREINO_FALTOU_DIA_1 =\"https://raw.githubusercontent.com/EmersonFranca/QuarentenaDados/master/Dados/dados_treino_faltou_dia_1.csv\"\n",
        "URI_TREINO_FALTOU_DIA_1_2 =\"https://raw.githubusercontent.com/EmersonFranca/QuarentenaDados/master/Dados/dados_treino_faltou_dia_1_e_2.csv\"\n",
        "URI_TREINO_FALTOU_DIA_1_2_SEM_NOTA_ZERO =\"https://raw.githubusercontent.com/EmersonFranca/QuarentenaDados/master/Dados/dados_treino_faltou_dia_1_e_2_sem_nota_zero.csv\"\n",
        "\n",
        "\n",
        "URI_TESTE_FALTOU_DIA_1_TRANSFORM_LOGARITMICA = \"https://raw.githubusercontent.com/EmersonFranca/QuarentenaDados/master/Dados/dados%20com%20transformacao%20logaritimica/dados_teste_faltou_dia_1_com_transformacao_logaritmica.csv\"\n",
        "URI_TREINO_FALTOU_DIA_1_TRANSFORM_LOGARITMICA = \"https://raw.githubusercontent.com/EmersonFranca/QuarentenaDados/master/Dados/dados%20com%20transformacao%20logaritimica/dados_treino_faltou_dia_1_com_transformacao_logaritmica.csv\""
      ],
      "execution_count": 0,
      "outputs": []
    },
    {
      "cell_type": "code",
      "metadata": {
        "id": "G4OrKfhHnw-J",
        "colab_type": "code",
        "colab": {}
      },
      "source": [
        "dados_treino = pd.read_csv(URI_TREINO)\n",
        "dados_teste = pd.read_csv(URI_TESTE)"
      ],
      "execution_count": 0,
      "outputs": []
    },
    {
      "cell_type": "code",
      "metadata": {
        "id": "d3ht3_-xoeNq",
        "colab_type": "code",
        "colab": {}
      },
      "source": [
        "dados_treino_faltou_dia_1 = pd.read_csv(URI_TREINO_FALTOU_DIA_1)\n",
        "dados_teste_faltou_dia_1 = pd.read_csv(URI_TESTE_FALTOU_DIA_1)"
      ],
      "execution_count": 0,
      "outputs": []
    },
    {
      "cell_type": "code",
      "metadata": {
        "id": "MDgTGvXOoexD",
        "colab_type": "code",
        "colab": {}
      },
      "source": [
        "dados_treino_faltou_dia_1_e_2 = pd.read_csv(URI_TREINO_FALTOU_DIA_1_2)\n",
        "dados_teste_faltou_dia_1_e_2 = pd.read_csv(URI_TESTE_FALTOU_DIA_1_E_2)"
      ],
      "execution_count": 0,
      "outputs": []
    },
    {
      "cell_type": "code",
      "metadata": {
        "id": "ZYfWN4gOoe5K",
        "colab_type": "code",
        "colab": {}
      },
      "source": [
        "dados_treino_faltou_dia_1_e_2_e_sem_nota_zero = pd.read_csv(URI_TREINO_FALTOU_DIA_1_2_SEM_NOTA_ZERO)"
      ],
      "execution_count": 0,
      "outputs": []
    },
    {
      "cell_type": "code",
      "metadata": {
        "id": "34MwIMnJY1JG",
        "colab_type": "code",
        "colab": {}
      },
      "source": [
        "dados_treino_faltou_dia_1_logaritmica = pd.read_csv(URI_TREINO_FALTOU_DIA_1_TRANSFORM_LOGARITMICA)\n",
        "dados_teste_faltou_dia_1_logaritmica = pd.read_csv(URI_TESTE_FALTOU_DIA_1_TRANSFORM_LOGARITMICA)\n"
      ],
      "execution_count": 0,
      "outputs": []
    },
    {
      "cell_type": "markdown",
      "metadata": {
        "id": "rTFalZUto_gl",
        "colab_type": "text"
      },
      "source": [
        "# 3. Transformando os dados para aplicar os modelos"
      ]
    },
    {
      "cell_type": "code",
      "metadata": {
        "id": "GBza9DbnnlqN",
        "colab_type": "code",
        "colab": {}
      },
      "source": [
        "coluna_label = 'NU_NOTA_LC'\n",
        "coluna_features = ['NU_NOTA_CN', 'NU_NOTA_CH', 'NU_NOTA_MT', 'NU_NOTA_REDACAO']"
      ],
      "execution_count": 0,
      "outputs": []
    },
    {
      "cell_type": "code",
      "metadata": {
        "id": "bKCdOHa_pElD",
        "colab_type": "code",
        "colab": {}
      },
      "source": [
        "X_treino = dados_treino[coluna_features].to_numpy()\n",
        "Y_treino = dados_treino[coluna_label].to_numpy()\n",
        "X_teste = dados_teste[coluna_features].to_numpy()\n",
        "Y_teste = dados_teste[coluna_label].to_numpy()"
      ],
      "execution_count": 0,
      "outputs": []
    },
    {
      "cell_type": "code",
      "metadata": {
        "id": "CMu3bDuQpEr1",
        "colab_type": "code",
        "colab": {}
      },
      "source": [
        "coluna_features_dia_1 = ['NU_NOTA_CN', 'NU_NOTA_CH', 'NU_NOTA_MT', 'NU_NOTA_REDACAO','Faltou_no_dia_1']\n",
        "\n",
        "X_treino_dia_1 = dados_treino_faltou_dia_1[coluna_features_dia_1].to_numpy()\n",
        "Y_treino_dia_1 = dados_treino_faltou_dia_1[coluna_label].to_numpy()\n",
        "X_teste_dia_1 = dados_teste_faltou_dia_1[coluna_features_dia_1].to_numpy()\n",
        "Y_teste_dia_1 = dados_teste_faltou_dia_1[coluna_label].to_numpy()"
      ],
      "execution_count": 0,
      "outputs": []
    },
    {
      "cell_type": "code",
      "metadata": {
        "id": "8-yJj8jHpYoq",
        "colab_type": "code",
        "colab": {}
      },
      "source": [
        "coluna_features_dia_1_e_2 = ['NU_NOTA_CN', 'NU_NOTA_CH', 'NU_NOTA_MT', 'NU_NOTA_REDACAO','Faltou_no_dia_1','Faltou_no_dia_2']\n",
        "\n",
        "X_treino_dia_1_e_2 = dados_treino_faltou_dia_1_e_2[coluna_features_dia_1_e_2].to_numpy()\n",
        "Y_treino_dia_1_e_2 = dados_treino_faltou_dia_1_e_2[coluna_label].to_numpy()\n",
        "X_teste_dia_1_e_2 = dados_teste_faltou_dia_1_e_2[coluna_features_dia_1_e_2].to_numpy()\n",
        "Y_teste_dia_1_e_2 = dados_teste_faltou_dia_1_e_2[coluna_label].to_numpy()"
      ],
      "execution_count": 0,
      "outputs": []
    },
    {
      "cell_type": "code",
      "metadata": {
        "id": "gaZvdhgDpyMS",
        "colab_type": "code",
        "colab": {}
      },
      "source": [
        "coluna_features_dia_1_e_2 = ['NU_NOTA_CN', 'NU_NOTA_CH', 'NU_NOTA_MT', 'NU_NOTA_REDACAO','Faltou_no_dia_1','Faltou_no_dia_2']\n",
        "\n",
        "X_treino_dia_1_e_2_sem_nota_zero = dados_treino_faltou_dia_1_e_2_e_sem_nota_zero[coluna_features_dia_1_e_2].to_numpy()\n",
        "Y_treino_dia_1_e_2_sem_nota_zero = dados_treino_faltou_dia_1_e_2_e_sem_nota_zero[coluna_label].to_numpy()"
      ],
      "execution_count": 0,
      "outputs": []
    },
    {
      "cell_type": "code",
      "metadata": {
        "id": "1nl8IE9dWiC1",
        "colab_type": "code",
        "colab": {}
      },
      "source": [
        "coluna_features_log_dia_1_logaritmica = ['log_NU_NOTA_CN', 'log_NU_NOTA_CH', 'log_NU_NOTA_MT', 'log_NU_NOTA_REDACAO','log_Faltou_no_dia_1']\n",
        "\n",
        "X_treino_dia_1_logaritmica = dados_treino_faltou_dia_1_logaritmica[coluna_features_log_dia_1_logaritmica].to_numpy()\n",
        "Y_treino_dia_1_logaritmica = dados_treino_faltou_dia_1_logaritmica[coluna_label].to_numpy()\n",
        "X_teste_dia_1_logaritmica = dados_teste_faltou_dia_1_logaritmica[coluna_features_log_dia_1_logaritmica].to_numpy()\n",
        "Y_teste_dia_1_logaritmica = dados_teste_faltou_dia_1_logaritmica[coluna_label].to_numpy()\n"
      ],
      "execution_count": 0,
      "outputs": []
    },
    {
      "cell_type": "markdown",
      "metadata": {
        "id": "AHkOfJ2rw6Sr",
        "colab_type": "text"
      },
      "source": [
        "# 4. Aplicando o Modelo GradientBoostingRegressor"
      ]
    },
    {
      "cell_type": "markdown",
      "metadata": {
        "id": "scWGnZH3xR2E",
        "colab_type": "text"
      },
      "source": [
        "## 4.1 Aplicando os dados de treino e teste sem serem modificados\n",
        "\n",
        "Melhor Resultado: GradientBoostingRegressor()\n",
        "\n",
        "* Minha avaliação nos dados de teste foi de 2046.39364252094\n",
        "* R² da previsão 0.6078953407017624"
      ]
    },
    {
      "cell_type": "code",
      "metadata": {
        "id": "QGt1AsNOwdJp",
        "colab_type": "code",
        "outputId": "51120f2f-3dbf-4987-d815-e3d5d7d0fe99",
        "colab": {
          "base_uri": "https://localhost:8080/",
          "height": 51
        }
      },
      "source": [
        "modelo_Gradient = GradientBoostingRegressor()\n",
        "\n",
        "modelo_Gradient.fit(X_treino, Y_treino)\n",
        "\n",
        "#Fazendo predições com meu modelo LinearSVR, passando meu X de teste\n",
        "Y_Gradient_predicoes = modelo_Gradient.predict(X_teste)\n",
        "\n",
        "# Utilizando a métrica mean_squared_error para avaliar o quão \"bom\" foi esse modelo\n",
        "avaliacao_Gradient = mean_squared_error(Y_teste, Y_Gradient_predicoes)\n",
        "\n",
        "r2_Score = metrics.r2_score(Y_teste, Y_Gradient_predicoes)\n",
        "\n",
        "print(f\"Minha avaliação nos dados de teste foi de {avaliacao_Gradient}\")\n",
        "print(f\"R² da previsão {r2_Score}\")"
      ],
      "execution_count": 0,
      "outputs": [
        {
          "output_type": "stream",
          "text": [
            "Minha avaliação nos dados de teste foi de 2046.39364252094\n",
            "R² da previsão 0.6078953407017624\n"
          ],
          "name": "stdout"
        }
      ]
    },
    {
      "cell_type": "markdown",
      "metadata": {
        "colab_type": "text",
        "id": "fRziB1l_evay"
      },
      "source": [
        "## 4.2 Aplicando os dados de treino e teste sem serem modificados\n",
        "\n",
        "Melhor Resultado: `GradientBoostingRegressor()`\n",
        "\n",
        "* Minha avaliação nos dados de teste foi de 2041.0671975306739\n",
        "* R² da previsão 0.6089159282635994"
      ]
    },
    {
      "cell_type": "code",
      "metadata": {
        "id": "grffCjq_xqI-",
        "colab_type": "code",
        "outputId": "2581ad8d-082e-4227-c1f2-80b5ff982bee",
        "colab": {
          "base_uri": "https://localhost:8080/",
          "height": 51
        }
      },
      "source": [
        "modelo_Gradient_dia_1 = GradientBoostingRegressor(n_estimators=100, learning_rate=0.1 )\n",
        "\n",
        "modelo_Gradient_dia_1.fit(X_treino_dia_1, Y_treino_dia_1)\n",
        "\n",
        "#Fazendo predições com meu modelo LinearSVR, passando meu X de teste\n",
        "Y_Gradient_predicoes_dia_1 = modelo_Gradient_dia_1.predict(X_teste_dia_1)\n",
        "\n",
        "# Utilizando a métrica mean_squared_error para avaliar o quão \"bom\" foi esse modelo\n",
        "avaliacao_Gradient_dia_1 = mean_squared_error(Y_teste_dia_1, Y_Gradient_predicoes_dia_1)\n",
        "\n",
        "r2_Score = metrics.r2_score(Y_teste_dia_1, Y_Gradient_predicoes_dia_1)\n",
        "\n",
        "print(f\"Minha avaliação nos dados de teste foi de {avaliacao_Gradient_dia_1}\")\n",
        "print(f\"R² da previsão {r2_Score}\")"
      ],
      "execution_count": 0,
      "outputs": [
        {
          "output_type": "stream",
          "text": [
            "Minha avaliação nos dados de teste foi de 2041.067197530674\n",
            "R² da previsão 0.6089159282635994\n"
          ],
          "name": "stdout"
        }
      ]
    },
    {
      "cell_type": "code",
      "metadata": {
        "id": "EVeMXuIfyMhr",
        "colab_type": "code",
        "colab": {}
      },
      "source": [
        ""
      ],
      "execution_count": 0,
      "outputs": []
    },
    {
      "cell_type": "markdown",
      "metadata": {
        "id": "wGbdhizJ0cep",
        "colab_type": "text"
      },
      "source": [
        "# 5. Aplicando meu modelo no Gabarito"
      ]
    },
    {
      "cell_type": "code",
      "metadata": {
        "id": "itzIKbvx2Bmv",
        "colab_type": "code",
        "colab": {}
      },
      "source": [
        "URI_DESAFIOQT = \"https://github.com/tgcsantos/quaretenadados/raw/master/DESAFIOQT.csv\"\n",
        "\n",
        "dados_desafioqt = pd.read_csv(URI_DESAFIOQT)"
      ],
      "execution_count": 0,
      "outputs": []
    },
    {
      "cell_type": "code",
      "metadata": {
        "colab_type": "code",
        "id": "EhU1nCBe4N7-",
        "colab": {}
      },
      "source": [
        "\n",
        "\n",
        "#atribuir ao MODELO o nome do seu melhor modelo\n",
        "from google.colab import files\n",
        "\n",
        "MODELO = modelo_Gradient\n",
        "X_desafioqt = dados_desafioqt[coluna_features].to_numpy()\n",
        "predicao_desafioqt = MODELO.predict(X_desafioqt)\n",
        "\n",
        "\n",
        "desafio_df = pd.DataFrame(dados_desafioqt.ID)\n",
        "desafio_df[coluna_label] = predicao_desafioqt\n",
        "\n",
        "#NÃO TROCAR O NOME DO ARQUIVO DE SAÍDA (PREDICAO_DESAFIO)\n",
        "desafio_df.to_csv('GradientBoostingRegressor.csv', index=False) \n",
        "files.download('GradientBoostingRegressor.csv')\n",
        "\n"
      ],
      "execution_count": 0,
      "outputs": []
    }
  ]
}