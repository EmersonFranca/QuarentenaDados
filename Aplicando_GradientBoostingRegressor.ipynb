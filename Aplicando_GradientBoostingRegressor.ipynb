{
  "nbformat": 4,
  "nbformat_minor": 0,
  "metadata": {
    "colab": {
      "name": "Aplicando GradientBoostingRegressor.ipynb",
      "provenance": [],
      "authorship_tag": "ABX9TyM2jt2OsBNxOGys5BxrSFK7",
      "include_colab_link": true
    },
    "kernelspec": {
      "name": "python3",
      "display_name": "Python 3"
    }
  },
  "cells": [
    {
      "cell_type": "markdown",
      "metadata": {
        "id": "view-in-github",
        "colab_type": "text"
      },
      "source": [
        "<a href=\"https://colab.research.google.com/github/EmersonFranca/QuarentenaDados/blob/master/Aplicando_GradientBoostingRegressor.ipynb\" target=\"_parent\"><img src=\"https://colab.research.google.com/assets/colab-badge.svg\" alt=\"Open In Colab\"/></a>"
      ]
    },
    {
      "cell_type": "markdown",
      "metadata": {
        "id": "_RC2ZgJ4l6Rq",
        "colab_type": "text"
      },
      "source": [
        "# 1. Importando bibliotecas"
      ]
    },
    {
      "cell_type": "code",
      "metadata": {
        "id": "5vPgapd5lvFH",
        "colab_type": "code",
        "colab": {}
      },
      "source": [
        "import pandas as pd\n",
        "import numpy as np"
      ],
      "execution_count": 0,
      "outputs": []
    },
    {
      "cell_type": "code",
      "metadata": {
        "id": "J7jA2Yh9l9i1",
        "colab_type": "code",
        "colab": {}
      },
      "source": [
        "from sklearn.ensemble import GradientBoostingRegressor\n",
        "from sklearn.metrics import mean_squared_error\n",
        "from sklearn import metrics"
      ],
      "execution_count": 0,
      "outputs": []
    },
    {
      "cell_type": "markdown",
      "metadata": {
        "id": "S4cJggSHn8Nj",
        "colab_type": "text"
      },
      "source": [
        "# 2. Importando os dados"
      ]
    },
    {
      "cell_type": "code",
      "metadata": {
        "id": "-C__8yhfmMY_",
        "colab_type": "code",
        "colab": {}
      },
      "source": [
        "URI_TESTE =\"https://raw.githubusercontent.com/EmersonFranca/QuarentenaDados/master/Dados/dados_teste.csv\"\n",
        "URI_TESTE_FALTOU_DIA_1 =\"https://raw.githubusercontent.com/EmersonFranca/QuarentenaDados/master/Dados/dados_teste_4_3_faltou_dia_1.csv\"\n",
        "URI_TESTE_FALTOU_DIA_1_E_2 =\"https://raw.githubusercontent.com/EmersonFranca/QuarentenaDados/master/Dados/dados_teste_faltou_dia_1_e_2.csv\"\n",
        "URI_TREINO =\"https://raw.githubusercontent.com/EmersonFranca/QuarentenaDados/master/Dados/dados_treino.csv\"\n",
        "URI_TREINO_FALTOU_DIA_1 =\"https://raw.githubusercontent.com/EmersonFranca/QuarentenaDados/master/Dados/dados_treino_faltou_dia_1.csv\"\n",
        "URI_TREINO_FALTOU_DIA_1_2 =\"https://raw.githubusercontent.com/EmersonFranca/QuarentenaDados/master/Dados/dados_treino_faltou_dia_1_e_2.csv\"\n",
        "URI_TREINO_FALTOU_DIA_1_2_SEM_NOTA_ZERO =\"https://raw.githubusercontent.com/EmersonFranca/QuarentenaDados/master/Dados/dados_treino_faltou_dia_1_e_2_sem_nota_zero.csv\"\n",
        "\n",
        "\n",
        "URI_TESTE_FALTOU_DIA_1_TRANSFORM_LOGARITMICA = \"https://raw.githubusercontent.com/EmersonFranca/QuarentenaDados/master/Dados/dados%20com%20transformacao%20logaritimica/dados_teste_faltou_dia_1_com_transformacao_logaritmica.csv\"\n",
        "URI_TREINO_FALTOU_DIA_1_TRANSFORM_LOGARITMICA = \"https://raw.githubusercontent.com/EmersonFranca/QuarentenaDados/master/Dados/dados%20com%20transformacao%20logaritimica/dados_treino_faltou_dia_1_com_transformacao_logaritmica.csv\""
      ],
      "execution_count": 0,
      "outputs": []
    },
    {
      "cell_type": "code",
      "metadata": {
        "id": "G4OrKfhHnw-J",
        "colab_type": "code",
        "colab": {}
      },
      "source": [
        "dados_treino = pd.read_csv(URI_TREINO)\n",
        "dados_teste = pd.read_csv(URI_TESTE)"
      ],
      "execution_count": 0,
      "outputs": []
    },
    {
      "cell_type": "code",
      "metadata": {
        "id": "d3ht3_-xoeNq",
        "colab_type": "code",
        "colab": {}
      },
      "source": [
        "dados_treino_faltou_dia_1 = pd.read_csv(URI_TREINO_FALTOU_DIA_1)\n",
        "dados_teste_faltou_dia_1 = pd.read_csv(URI_TESTE_FALTOU_DIA_1)"
      ],
      "execution_count": 0,
      "outputs": []
    },
    {
      "cell_type": "code",
      "metadata": {
        "id": "MDgTGvXOoexD",
        "colab_type": "code",
        "colab": {}
      },
      "source": [
        "dados_treino_faltou_dia_1_e_2 = pd.read_csv(URI_TREINO_FALTOU_DIA_1_2)\n",
        "dados_teste_faltou_dia_1_e_2 = pd.read_csv(URI_TESTE_FALTOU_DIA_1_E_2)"
      ],
      "execution_count": 0,
      "outputs": []
    },
    {
      "cell_type": "code",
      "metadata": {
        "id": "ZYfWN4gOoe5K",
        "colab_type": "code",
        "colab": {}
      },
      "source": [
        "dados_treino_faltou_dia_1_e_2_e_sem_nota_zero = pd.read_csv(URI_TREINO_FALTOU_DIA_1_2_SEM_NOTA_ZERO)"
      ],
      "execution_count": 0,
      "outputs": []
    },
    {
      "cell_type": "code",
      "metadata": {
        "id": "34MwIMnJY1JG",
        "colab_type": "code",
        "colab": {}
      },
      "source": [
        "dados_treino_faltou_dia_1_logaritmica = pd.read_csv(URI_TREINO_FALTOU_DIA_1_TRANSFORM_LOGARITMICA)\n",
        "dados_teste_faltou_dia_1_logaritmica = pd.read_csv(URI_TESTE_FALTOU_DIA_1_TRANSFORM_LOGARITMICA)\n"
      ],
      "execution_count": 0,
      "outputs": []
    },
    {
      "cell_type": "markdown",
      "metadata": {
        "id": "rTFalZUto_gl",
        "colab_type": "text"
      },
      "source": [
        "# 3. Transformando os dados para aplicar os modelos"
      ]
    },
    {
      "cell_type": "code",
      "metadata": {
        "id": "GBza9DbnnlqN",
        "colab_type": "code",
        "colab": {}
      },
      "source": [
        "coluna_label = 'NU_NOTA_LC'\n",
        "coluna_features = ['NU_NOTA_CN', 'NU_NOTA_CH', 'NU_NOTA_MT', 'NU_NOTA_REDACAO']"
      ],
      "execution_count": 0,
      "outputs": []
    },
    {
      "cell_type": "code",
      "metadata": {
        "id": "bKCdOHa_pElD",
        "colab_type": "code",
        "colab": {}
      },
      "source": [
        "X_treino = dados_treino[coluna_features].to_numpy()\n",
        "Y_treino = dados_treino[coluna_label].to_numpy()\n",
        "X_teste = dados_teste[coluna_features].to_numpy()\n",
        "Y_teste = dados_teste[coluna_label].to_numpy()"
      ],
      "execution_count": 0,
      "outputs": []
    },
    {
      "cell_type": "code",
      "metadata": {
        "id": "CMu3bDuQpEr1",
        "colab_type": "code",
        "colab": {}
      },
      "source": [
        "coluna_features_dia_1 = ['NU_NOTA_CN', 'NU_NOTA_CH', 'NU_NOTA_MT', 'NU_NOTA_REDACAO','Faltou_no_dia_1']\n",
        "\n",
        "X_treino_dia_1 = dados_treino_faltou_dia_1[coluna_features_dia_1].to_numpy()\n",
        "Y_treino_dia_1 = dados_treino_faltou_dia_1[coluna_label].to_numpy()\n",
        "X_teste_dia_1 = dados_teste_faltou_dia_1[coluna_features_dia_1].to_numpy()\n",
        "Y_teste_dia_1 = dados_teste_faltou_dia_1[coluna_label].to_numpy()"
      ],
      "execution_count": 0,
      "outputs": []
    },
    {
      "cell_type": "code",
      "metadata": {
        "id": "8-yJj8jHpYoq",
        "colab_type": "code",
        "colab": {}
      },
      "source": [
        "coluna_features_dia_1_e_2 = ['NU_NOTA_CN', 'NU_NOTA_CH', 'NU_NOTA_MT', 'NU_NOTA_REDACAO','Faltou_no_dia_1','Faltou_no_dia_2']\n",
        "\n",
        "X_treino_dia_1_e_2 = dados_treino_faltou_dia_1_e_2[coluna_features_dia_1_e_2].to_numpy()\n",
        "Y_treino_dia_1_e_2 = dados_treino_faltou_dia_1_e_2[coluna_label].to_numpy()\n",
        "X_teste_dia_1_e_2 = dados_teste_faltou_dia_1_e_2[coluna_features_dia_1_e_2].to_numpy()\n",
        "Y_teste_dia_1_e_2 = dados_teste_faltou_dia_1_e_2[coluna_label].to_numpy()"
      ],
      "execution_count": 0,
      "outputs": []
    },
    {
      "cell_type": "code",
      "metadata": {
        "id": "gaZvdhgDpyMS",
        "colab_type": "code",
        "colab": {}
      },
      "source": [
        "coluna_features_dia_1_e_2 = ['NU_NOTA_CN', 'NU_NOTA_CH', 'NU_NOTA_MT', 'NU_NOTA_REDACAO','Faltou_no_dia_1','Faltou_no_dia_2']\n",
        "\n",
        "X_treino_dia_1_e_2_sem_nota_zero = dados_treino_faltou_dia_1_e_2_e_sem_nota_zero[coluna_features_dia_1_e_2].to_numpy()\n",
        "Y_treino_dia_1_e_2_sem_nota_zero = dados_treino_faltou_dia_1_e_2_e_sem_nota_zero[coluna_label].to_numpy()"
      ],
      "execution_count": 0,
      "outputs": []
    },
    {
      "cell_type": "code",
      "metadata": {
        "id": "1nl8IE9dWiC1",
        "colab_type": "code",
        "colab": {}
      },
      "source": [
        "coluna_features_log_dia_1_logaritmica = ['log_NU_NOTA_CN', 'log_NU_NOTA_CH', 'log_NU_NOTA_MT', 'log_NU_NOTA_REDACAO','log_Faltou_no_dia_1']\n",
        "\n",
        "X_treino_dia_1_logaritmica = dados_treino_faltou_dia_1_logaritmica[coluna_features_log_dia_1_logaritmica].to_numpy()\n",
        "Y_treino_dia_1_logaritmica = dados_treino_faltou_dia_1_logaritmica[coluna_label].to_numpy()\n",
        "X_teste_dia_1_logaritmica = dados_teste_faltou_dia_1_logaritmica[coluna_features_log_dia_1_logaritmica].to_numpy()\n",
        "Y_teste_dia_1_logaritmica = dados_teste_faltou_dia_1_logaritmica[coluna_label].to_numpy()\n"
      ],
      "execution_count": 0,
      "outputs": []
    },
    {
      "cell_type": "markdown",
      "metadata": {
        "id": "AHkOfJ2rw6Sr",
        "colab_type": "text"
      },
      "source": [
        "# 4. Aplicando o Modelo GradientBoostingRegressor"
      ]
    },
    {
      "cell_type": "markdown",
      "metadata": {
        "id": "scWGnZH3xR2E",
        "colab_type": "text"
      },
      "source": [
        "## 4.1 Aplicando os dados de treino e teste sem serem modificados\n",
        "\n",
        "Melhor Resultado: GradientBoostingRegressor()\n",
        "\n",
        "* Minha avaliação nos dados de teste foi de 2046.39364252094\n",
        "* R² da previsão 0.6078953407017624"
      ]
    },
    {
      "cell_type": "code",
      "metadata": {
        "id": "QGt1AsNOwdJp",
        "colab_type": "code",
        "outputId": "6485bf55-0837-4afa-c430-f7facbcc7740",
        "colab": {
          "base_uri": "https://localhost:8080/",
          "height": 51
        }
      },
      "source": [
        "modelo_Gradient = GradientBoostingRegressor()\n",
        "\n",
        "modelo_Gradient.fit(X_treino, Y_treino)\n",
        "\n",
        "#Fazendo predições com meu modelo LinearSVR, passando meu X de teste\n",
        "Y_Gradient_predicoes = modelo_Gradient.predict(X_teste)\n",
        "\n",
        "# Utilizando a métrica mean_squared_error para avaliar o quão \"bom\" foi esse modelo\n",
        "avaliacao_Gradient = mean_squared_error(Y_teste, Y_Gradient_predicoes)\n",
        "\n",
        "r2_Score = metrics.r2_score(Y_teste, Y_Gradient_predicoes)\n",
        "\n",
        "print(f\"Minha avaliação nos dados de teste foi de {avaliacao_Gradient}\")\n",
        "print(f\"R² da previsão {r2_Score}\")"
      ],
      "execution_count": 16,
      "outputs": [
        {
          "output_type": "stream",
          "text": [
            "Minha avaliação nos dados de teste foi de 2046.3830809834324\n",
            "R² da previsão 0.6078973643730543\n"
          ],
          "name": "stdout"
        }
      ]
    },
    {
      "cell_type": "markdown",
      "metadata": {
        "colab_type": "text",
        "id": "fRziB1l_evay"
      },
      "source": [
        "## 4.2 Aplicando os dados de treino e teste com a feature Dia_1\n",
        "\n",
        "Melhor Resultado: `GradientBoostingRegressor()`\n",
        "\n",
        "* Minha avaliação nos dados de teste foi de 2041.0671975306739\n",
        "* R² da previsão 0.6089159282635994"
      ]
    },
    {
      "cell_type": "code",
      "metadata": {
        "id": "grffCjq_xqI-",
        "colab_type": "code",
        "outputId": "c6d126f3-9b14-472e-f90e-3f975d5f8f31",
        "colab": {
          "base_uri": "https://localhost:8080/",
          "height": 51
        }
      },
      "source": [
        "modelo_Gradient_dia_1 = GradientBoostingRegressor(n_estimators=100, learning_rate=0.1 )\n",
        "\n",
        "modelo_Gradient_dia_1.fit(X_treino_dia_1, Y_treino_dia_1)\n",
        "\n",
        "#Fazendo predições com meu modelo LinearSVR, passando meu X de teste\n",
        "Y_Gradient_predicoes_dia_1 = modelo_Gradient_dia_1.predict(X_teste_dia_1)\n",
        "\n",
        "# Utilizando a métrica mean_squared_error para avaliar o quão \"bom\" foi esse modelo\n",
        "avaliacao_Gradient_dia_1 = mean_squared_error(Y_teste_dia_1, Y_Gradient_predicoes_dia_1)\n",
        "\n",
        "r2_Score = metrics.r2_score(Y_teste_dia_1, Y_Gradient_predicoes_dia_1)\n",
        "\n",
        "print(f\"Minha avaliação nos dados de teste foi de {avaliacao_Gradient_dia_1}\")\n",
        "print(f\"R² da previsão {r2_Score}\")"
      ],
      "execution_count": 17,
      "outputs": [
        {
          "output_type": "stream",
          "text": [
            "Minha avaliação nos dados de teste foi de 2041.067197530674\n",
            "R² da previsão 0.6089159282635994\n"
          ],
          "name": "stdout"
        }
      ]
    },
    {
      "cell_type": "markdown",
      "metadata": {
        "id": "r-mPtNUgDaMb",
        "colab_type": "text"
      },
      "source": [
        "# 4.3 Aplicando os dados de treino e teste com a feature Dia 1 e Dia 2"
      ]
    },
    {
      "cell_type": "code",
      "metadata": {
        "id": "EVeMXuIfyMhr",
        "colab_type": "code",
        "colab": {
          "base_uri": "https://localhost:8080/",
          "height": 51
        },
        "outputId": "fe238c3b-7b6e-413e-89a1-40784f78ecff"
      },
      "source": [
        "modelo_Gradient_dia_1_2 = GradientBoostingRegressor(n_estimators=100, learning_rate=0.1 )\n",
        "\n",
        "modelo_Gradient_dia_1_2.fit(X_treino_dia_1_e_2, Y_treino_dia_1_e_2)\n",
        "\n",
        "#Fazendo predições com meu modelo LinearSVR, passando meu X de teste\n",
        "Y_Gradient_predicoes_dia_1_e_2 = modelo_Gradient_dia_1_2.predict(X_teste_dia_1_e_2)\n",
        "\n",
        "# Utilizando a métrica mean_squared_error para avaliar o quão \"bom\" foi esse modelo\n",
        "avaliacao_Gradient_dia_1_e_2 = mean_squared_error(Y_teste_dia_1_e_2, Y_Gradient_predicoes_dia_1_e_2)\n",
        "\n",
        "r2_Score = metrics.r2_score(Y_teste_dia_1_e_2, Y_Gradient_predicoes_dia_1_e_2)\n",
        "\n",
        "print(f\"Minha avaliação nos dados de teste foi de {avaliacao_Gradient_dia_1_e_2}\")\n",
        "print(f\"R² da previsão {r2_Score}\")"
      ],
      "execution_count": 54,
      "outputs": [
        {
          "output_type": "stream",
          "text": [
            "Minha avaliação nos dados de teste foi de 2041.0671975306739\n",
            "R² da previsão 0.6089159282635994\n"
          ],
          "name": "stdout"
        }
      ]
    },
    {
      "cell_type": "markdown",
      "metadata": {
        "id": "qgwpfh4C-9ZX",
        "colab_type": "text"
      },
      "source": [
        "# 5. Aplicando features no dados de desafio"
      ]
    },
    {
      "cell_type": "code",
      "metadata": {
        "id": "B9KiNKj2EEqT",
        "colab_type": "code",
        "colab": {}
      },
      "source": [
        "URI_DESAFIOQT = \"https://github.com/tgcsantos/quaretenadados/raw/master/DESAFIOQT.csv\"\n",
        "dados_desafioqt = pd.read_csv(URI_DESAFIOQT)"
      ],
      "execution_count": 0,
      "outputs": []
    },
    {
      "cell_type": "code",
      "metadata": {
        "id": "8KeUSEo6_Xod",
        "colab_type": "code",
        "colab": {}
      },
      "source": [
        "condicao_Dia_1_Nao_Possui_Nota = (dados_desafioqt.NU_NOTA_CH == 0) & (dados_desafioqt.NU_NOTA_REDACAO == 0)  \n",
        "condicao_Dia_2_Possui_Alguma_Nota = (dados_desafioqt.NU_NOTA_MT > 0) | (dados_desafioqt.NU_NOTA_CN > 0) \n",
        "\n",
        "dados_desafioqt['Faltou_no_dia_1'] = 0\n",
        "dados_desafioqt['Faltou_no_dia_1'] = dados_desafioqt['Faltou_no_dia_1'].mask(condicao_Dia_1_Nao_Possui_Nota & condicao_Dia_2_Possui_Alguma_Nota, 1)"
      ],
      "execution_count": 0,
      "outputs": []
    },
    {
      "cell_type": "code",
      "metadata": {
        "id": "tkXz3AoU_Xyt",
        "colab_type": "code",
        "colab": {
          "base_uri": "https://localhost:8080/",
          "height": 111
        },
        "outputId": "66799d74-0c36-4167-fc91-e4da47accfe1"
      },
      "source": [
        "dados_desafioqt.query('Faltou_no_dia_1 == 1')"
      ],
      "execution_count": 61,
      "outputs": [
        {
          "output_type": "execute_result",
          "data": {
            "text/html": [
              "<div>\n",
              "<style scoped>\n",
              "    .dataframe tbody tr th:only-of-type {\n",
              "        vertical-align: middle;\n",
              "    }\n",
              "\n",
              "    .dataframe tbody tr th {\n",
              "        vertical-align: top;\n",
              "    }\n",
              "\n",
              "    .dataframe thead th {\n",
              "        text-align: right;\n",
              "    }\n",
              "</style>\n",
              "<table border=\"1\" class=\"dataframe\">\n",
              "  <thead>\n",
              "    <tr style=\"text-align: right;\">\n",
              "      <th></th>\n",
              "      <th>ID</th>\n",
              "      <th>NU_NOTA_CN</th>\n",
              "      <th>NU_NOTA_CH</th>\n",
              "      <th>NU_NOTA_MT</th>\n",
              "      <th>NU_NOTA_REDACAO</th>\n",
              "      <th>Faltou_no_dia_1</th>\n",
              "      <th>Faltou_no_dia_2</th>\n",
              "    </tr>\n",
              "  </thead>\n",
              "  <tbody>\n",
              "    <tr>\n",
              "      <th>1858</th>\n",
              "      <td>1858</td>\n",
              "      <td>419.4</td>\n",
              "      <td>0.0</td>\n",
              "      <td>549.3</td>\n",
              "      <td>0.0</td>\n",
              "      <td>1</td>\n",
              "      <td>0</td>\n",
              "    </tr>\n",
              "    <tr>\n",
              "      <th>4866</th>\n",
              "      <td>4866</td>\n",
              "      <td>391.6</td>\n",
              "      <td>0.0</td>\n",
              "      <td>433.0</td>\n",
              "      <td>0.0</td>\n",
              "      <td>1</td>\n",
              "      <td>0</td>\n",
              "    </tr>\n",
              "  </tbody>\n",
              "</table>\n",
              "</div>"
            ],
            "text/plain": [
              "        ID  NU_NOTA_CN  ...  Faltou_no_dia_1  Faltou_no_dia_2\n",
              "1858  1858       419.4  ...                1                0\n",
              "4866  4866       391.6  ...                1                0\n",
              "\n",
              "[2 rows x 7 columns]"
            ]
          },
          "metadata": {
            "tags": []
          },
          "execution_count": 61
        }
      ]
    },
    {
      "cell_type": "code",
      "metadata": {
        "id": "OuzOfxKuD9gP",
        "colab_type": "code",
        "colab": {}
      },
      "source": [
        "condicao_Dia_2_Nao_Possui_Nota = (dados_desafioqt.NU_NOTA_MT == 0) & (dados_desafioqt.NU_NOTA_CN == 0) \n",
        "condicao_Dia_1_Possui_Alguma_Nota = (dados_desafioqt.NU_NOTA_CH > 0) | (dados_desafioqt.NU_NOTA_REDACAO > 0)  \n",
        "\n",
        "dados_desafioqt['Faltou_no_dia_2'] = 0\n",
        "dados_desafioqt['Faltou_no_dia_2'].mask(condicao_Dia_2_Nao_Possui_Nota & condicao_Dia_1_Possui_Alguma_Nota, 1, inplace=True)"
      ],
      "execution_count": 0,
      "outputs": []
    },
    {
      "cell_type": "code",
      "metadata": {
        "id": "dmA1YvisEUdG",
        "colab_type": "code",
        "colab": {
          "base_uri": "https://localhost:8080/",
          "height": 111
        },
        "outputId": "07210044-df87-4549-87a4-4c6315dd5e45"
      },
      "source": [
        "dados_desafioqt.query('Faltou_no_dia_2 == 1')"
      ],
      "execution_count": 62,
      "outputs": [
        {
          "output_type": "execute_result",
          "data": {
            "text/html": [
              "<div>\n",
              "<style scoped>\n",
              "    .dataframe tbody tr th:only-of-type {\n",
              "        vertical-align: middle;\n",
              "    }\n",
              "\n",
              "    .dataframe tbody tr th {\n",
              "        vertical-align: top;\n",
              "    }\n",
              "\n",
              "    .dataframe thead th {\n",
              "        text-align: right;\n",
              "    }\n",
              "</style>\n",
              "<table border=\"1\" class=\"dataframe\">\n",
              "  <thead>\n",
              "    <tr style=\"text-align: right;\">\n",
              "      <th></th>\n",
              "      <th>ID</th>\n",
              "      <th>NU_NOTA_CN</th>\n",
              "      <th>NU_NOTA_CH</th>\n",
              "      <th>NU_NOTA_MT</th>\n",
              "      <th>NU_NOTA_REDACAO</th>\n",
              "      <th>Faltou_no_dia_1</th>\n",
              "      <th>Faltou_no_dia_2</th>\n",
              "    </tr>\n",
              "  </thead>\n",
              "  <tbody>\n",
              "    <tr>\n",
              "      <th>3845</th>\n",
              "      <td>3845</td>\n",
              "      <td>0.0</td>\n",
              "      <td>0.0</td>\n",
              "      <td>0.0</td>\n",
              "      <td>320.0</td>\n",
              "      <td>0</td>\n",
              "      <td>1</td>\n",
              "    </tr>\n",
              "    <tr>\n",
              "      <th>8502</th>\n",
              "      <td>8502</td>\n",
              "      <td>0.0</td>\n",
              "      <td>605.3</td>\n",
              "      <td>0.0</td>\n",
              "      <td>360.0</td>\n",
              "      <td>0</td>\n",
              "      <td>1</td>\n",
              "    </tr>\n",
              "  </tbody>\n",
              "</table>\n",
              "</div>"
            ],
            "text/plain": [
              "        ID  NU_NOTA_CN  ...  Faltou_no_dia_1  Faltou_no_dia_2\n",
              "3845  3845         0.0  ...                0                1\n",
              "8502  8502         0.0  ...                0                1\n",
              "\n",
              "[2 rows x 7 columns]"
            ]
          },
          "metadata": {
            "tags": []
          },
          "execution_count": 62
        }
      ]
    },
    {
      "cell_type": "code",
      "metadata": {
        "id": "BTsWH6uhEuTA",
        "colab_type": "code",
        "colab": {}
      },
      "source": [
        ""
      ],
      "execution_count": 0,
      "outputs": []
    },
    {
      "cell_type": "markdown",
      "metadata": {
        "id": "wGbdhizJ0cep",
        "colab_type": "text"
      },
      "source": [
        "# 6. Aplicando meu modelo no Gabarito"
      ]
    },
    {
      "cell_type": "markdown",
      "metadata": {
        "id": "182l7PgDCbID",
        "colab_type": "text"
      },
      "source": [
        "## 6.1 gera_df_modelo_previsto(modelo, coluna_features)"
      ]
    },
    {
      "cell_type": "code",
      "metadata": {
        "colab_type": "code",
        "id": "EhU1nCBe4N7-",
        "colab": {}
      },
      "source": [
        "def gera_df_modelo_previsto(modelo, coluna_features):\n",
        "\n",
        "    X_desafioqt = dados_desafioqt[coluna_features].to_numpy()\n",
        "    predicao_desafioqt = modelo.predict(X_desafioqt)\n",
        "\n",
        "\n",
        "    desafio_df = pd.DataFrame(dados_desafioqt.ID)\n",
        "    desafio_df[coluna_label] = predicao_desafioqt\n",
        "\n",
        "    return desafio_df\n"
      ],
      "execution_count": 0,
      "outputs": []
    },
    {
      "cell_type": "markdown",
      "metadata": {
        "id": "VOcws41pCfdI",
        "colab_type": "text"
      },
      "source": [
        "## 6.2 correct(dados_validation, df_modelo_previsto)\n",
        "\n",
        "Retorna MSE da predição do DataFrame de Gabarito do desafio\n",
        "\n"
      ]
    },
    {
      "cell_type": "code",
      "metadata": {
        "id": "RbCyNM455X2X",
        "colab_type": "code",
        "colab": {}
      },
      "source": [
        "URI_DF_VALIDACAO = \"https://raw.githubusercontent.com/EmersonFranca/QuarentenaDados/master/Aplicando%20no%20Desafio%20Final/DADOS_VALIDACAO_SEED_845309.csv\"\n",
        "\n",
        "dados_validation = pd.read_csv(URI_DF_VALIDACAO)\n",
        "\n",
        "def correct(df_validation, df_modelo_previsto):\n",
        "    \n",
        "    predict = df_modelo_previsto\n",
        "    f = \"Arquivo\"\n",
        "    index = \"ID\"\n",
        "    #normaliza ID escritos de formas diferentes\n",
        "    columns = predict.columns\n",
        "    if columns[0] == \"id\":\n",
        "        index = \"id\"\n",
        "    elif columns[0] == \"Id\":\n",
        "        index = \"Id\"\n",
        "    \n",
        "    predict.rename(columns={index: \"ID\"}, inplace=True)\n",
        "    predict.rename(columns={\"NU_NOTA_LC\": \"PREDICT\"}, inplace=True)\n",
        "    \n",
        "\n",
        "    df_tmp = dados_validation.join(predict.set_index('ID'), on='ID')\n",
        "    rating_mse = mean_squared_error(df_tmp[\"NU_NOTA_LC\"], df_tmp[\"PREDICT\"])\n",
        "    MSE = rating_mse\n",
        "\n",
        "    \n",
        "    return MSE\n"
      ],
      "execution_count": 0,
      "outputs": []
    },
    {
      "cell_type": "markdown",
      "metadata": {
        "id": "pEfAfTJcC6Wf",
        "colab_type": "text"
      },
      "source": [
        "# 7. Gerando o MSE"
      ]
    },
    {
      "cell_type": "code",
      "metadata": {
        "id": "cUSbgLDv5ceE",
        "colab_type": "code",
        "colab": {
          "base_uri": "https://localhost:8080/",
          "height": 34
        },
        "outputId": "f6f8befc-18d6-4e6a-dd5f-4943304faf25"
      },
      "source": [
        "correct(dados_validation,\n",
        "        gera_df_modelo_previsto(modelo_Gradient,coluna_features) )"
      ],
      "execution_count": 52,
      "outputs": [
        {
          "output_type": "execute_result",
          "data": {
            "text/plain": [
              "2031.9416275949172"
            ]
          },
          "metadata": {
            "tags": []
          },
          "execution_count": 52
        }
      ]
    },
    {
      "cell_type": "code",
      "metadata": {
        "id": "6obXFYrq7JMW",
        "colab_type": "code",
        "colab": {
          "base_uri": "https://localhost:8080/",
          "height": 34
        },
        "outputId": "a9f709f6-972c-4a65-8953-2bf72a014090"
      },
      "source": [
        "correct(dados_validation,\n",
        "        gera_df_modelo_previsto(modelo_Gradient_dia_1,coluna_features_dia_1) )"
      ],
      "execution_count": 53,
      "outputs": [
        {
          "output_type": "execute_result",
          "data": {
            "text/plain": [
              "2036.7405827218429"
            ]
          },
          "metadata": {
            "tags": []
          },
          "execution_count": 53
        }
      ]
    },
    {
      "cell_type": "code",
      "metadata": {
        "id": "woFEIY3oDJcq",
        "colab_type": "code",
        "colab": {
          "base_uri": "https://localhost:8080/",
          "height": 34
        },
        "outputId": "da3f2056-5d3f-4392-aea2-addb9eddeef2"
      },
      "source": [
        "correct(dados_validation,\n",
        "        gera_df_modelo_previsto(modelo_Gradient_dia_1_2,coluna_features_dia_1_e_2) )"
      ],
      "execution_count": 64,
      "outputs": [
        {
          "output_type": "execute_result",
          "data": {
            "text/plain": [
              "2036.7405827218424"
            ]
          },
          "metadata": {
            "tags": []
          },
          "execution_count": 64
        }
      ]
    },
    {
      "cell_type": "code",
      "metadata": {
        "id": "9QlmzkRiEp4E",
        "colab_type": "code",
        "colab": {}
      },
      "source": [
        ""
      ],
      "execution_count": 0,
      "outputs": []
    }
  ]
}